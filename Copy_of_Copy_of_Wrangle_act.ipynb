{
  "cells": [
    {
      "cell_type": "markdown",
      "metadata": {
        "id": "view-in-github",
        "colab_type": "text"
      },
      "source": [
        "<a href=\"https://colab.research.google.com/github/Cidowu/Chukwudees_Portfolio/blob/main/Copy_of_Copy_of_Wrangle_act.ipynb\" target=\"_parent\"><img src=\"https://colab.research.google.com/assets/colab-badge.svg\" alt=\"Open In Colab\"/></a>"
      ]
    },
    {
      "cell_type": "markdown",
      "metadata": {
        "id": "29nm552MCbIu"
      },
      "source": [
        "# **Project: Wrangling and Analyzing Data**"
      ]
    },
    {
      "cell_type": "markdown",
      "metadata": {
        "id": "vcYfg9SDC300"
      },
      "source": [
        "## **Data Gathering**"
      ]
    },
    {
      "cell_type": "code",
      "execution_count": null,
      "metadata": {
        "colab": {
          "base_uri": "https://localhost:8080/"
        },
        "id": "WrO69WjgfV1L",
        "outputId": "15f072dd-6a00-4e9d-fc4b-a323640a120b"
      },
      "outputs": [
        {
          "output_type": "stream",
          "name": "stdout",
          "text": [
            "Mounted at /content/drive\n"
          ]
        }
      ],
      "source": [
        "from google.colab import drive\n",
        "drive.mount('/content/drive')"
      ]
    },
    {
      "cell_type": "code",
      "execution_count": null,
      "metadata": {
        "id": "Fy9k7i8ftEQ5",
        "colab": {
          "base_uri": "https://localhost:8080/"
        },
        "outputId": "38de00f2-351b-474e-9553-5e0970e0ed0e"
      },
      "outputs": [
        {
          "output_type": "stream",
          "name": "stdout",
          "text": [
            "Looking in indexes: https://pypi.org/simple, https://us-python.pkg.dev/colab-wheels/public/simple/\n",
            "Requirement already satisfied: tweepy in /usr/local/lib/python3.7/dist-packages (3.10.0)\n",
            "Requirement already satisfied: requests[socks]>=2.11.1 in /usr/local/lib/python3.7/dist-packages (from tweepy) (2.23.0)\n",
            "Requirement already satisfied: requests-oauthlib>=0.7.0 in /usr/local/lib/python3.7/dist-packages (from tweepy) (1.3.1)\n",
            "Requirement already satisfied: six>=1.10.0 in /usr/local/lib/python3.7/dist-packages (from tweepy) (1.15.0)\n",
            "Requirement already satisfied: oauthlib>=3.0.0 in /usr/local/lib/python3.7/dist-packages (from requests-oauthlib>=0.7.0->tweepy) (3.2.0)\n",
            "Requirement already satisfied: certifi>=2017.4.17 in /usr/local/lib/python3.7/dist-packages (from requests[socks]>=2.11.1->tweepy) (2022.6.15)\n",
            "Requirement already satisfied: chardet<4,>=3.0.2 in /usr/local/lib/python3.7/dist-packages (from requests[socks]>=2.11.1->tweepy) (3.0.4)\n",
            "Requirement already satisfied: idna<3,>=2.5 in /usr/local/lib/python3.7/dist-packages (from requests[socks]>=2.11.1->tweepy) (2.10)\n",
            "Requirement already satisfied: urllib3!=1.25.0,!=1.25.1,<1.26,>=1.21.1 in /usr/local/lib/python3.7/dist-packages (from requests[socks]>=2.11.1->tweepy) (1.24.3)\n",
            "Requirement already satisfied: PySocks!=1.5.7,>=1.5.6 in /usr/local/lib/python3.7/dist-packages (from requests[socks]>=2.11.1->tweepy) (1.7.1)\n"
          ]
        }
      ],
      "source": [
        "pip install tweepy"
      ]
    },
    {
      "cell_type": "code",
      "execution_count": null,
      "metadata": {
        "id": "jcpZy7LDcXYN",
        "colab": {
          "base_uri": "https://localhost:8080/"
        },
        "outputId": "7dde96dd-4203-4f31-8c77-a5d8774be484"
      },
      "outputs": [
        {
          "output_type": "stream",
          "name": "stdout",
          "text": [
            "Looking in indexes: https://pypi.org/simple, https://us-python.pkg.dev/colab-wheels/public/simple/\n",
            "Collecting configparser\n",
            "  Downloading configparser-5.2.0-py3-none-any.whl (19 kB)\n",
            "Installing collected packages: configparser\n",
            "Successfully installed configparser-5.2.0\n"
          ]
        }
      ],
      "source": [
        "pip install configparser"
      ]
    },
    {
      "cell_type": "code",
      "execution_count": null,
      "metadata": {
        "id": "CjEPSFQJgHof"
      },
      "outputs": [],
      "source": [
        "import pandas as pd\n",
        "import numpy as np\n",
        "import tweepy\n",
        "import json\n",
        "from datetime import datetime\n",
        "from timeit import default_timer as timer\n",
        "import requests\n",
        "import os\n",
        "import configparser\n"
      ]
    },
    {
      "cell_type": "markdown",
      "metadata": {
        "id": "S8M1-P9yXJnU"
      },
      "source": [
        "#### **Twitter Archive**\n",
        "\n",
        "\n",
        "\n"
      ]
    },
    {
      "cell_type": "code",
      "execution_count": null,
      "metadata": {
        "id": "sLZ5YXjEgOLb"
      },
      "outputs": [],
      "source": [
        "file = \"/content/drive/MyDrive/DATA WRANGLING/twitter-archive-enhanced.csv\"\n",
        "df_1 = pd.read_csv(file)"
      ]
    },
    {
      "cell_type": "markdown",
      "metadata": {
        "id": "DuZPSyjlX9n5"
      },
      "source": [
        "#### **Image predictions**"
      ]
    },
    {
      "cell_type": "code",
      "execution_count": null,
      "metadata": {
        "id": "t4wNuub5gsGe"
      },
      "outputs": [],
      "source": [
        "#create an empty folder\n",
        "\n",
        "folder_name = \"image_prediction\"\n",
        "\n",
        "#if the folder path does not already exist, create a new one\n",
        "if not os.path.exists(folder_name):\n",
        "  os.makedirs(folder_name)\n",
        "\n",
        "#instantiate the url\n",
        "url = \" https://d17h27t6h515a5.cloudfront.net/topher/2017/August/599fd2ad_image-predictions/image-predictions.tsv\"\n",
        "\n",
        "#get the data\n",
        "r = requests.get(url)\n",
        "\n",
        "#store the downloaded data\n",
        "with open(os.path.join(folder_name, url.split(\"/\")[-1]), mode='wb') as file:\n",
        "    file.write(r.content)"
      ]
    },
    {
      "cell_type": "code",
      "execution_count": null,
      "metadata": {
        "id": "hjg3XtNloWhs"
      },
      "outputs": [],
      "source": [
        "df_image = pd.read_csv(\"image_prediction/image-predictions.tsv\", sep =\"\\t\")\n"
      ]
    },
    {
      "cell_type": "markdown",
      "metadata": {
        "id": "X0v6EP9aZb0E"
      },
      "source": [
        "#### **Additional Data from the Twitter API**"
      ]
    },
    {
      "cell_type": "code",
      "execution_count": null,
      "metadata": {
        "id": "8yDC9dsDCTMp"
      },
      "outputs": [],
      "source": [
        "#create a config parser object to hide the API access keys\n",
        "config = configparser.ConfigParser()\n",
        "config.read('/content/drive/MyDrive/config.ini')\n",
        "\n",
        "#instatiate the api_key and api_secret keys\n",
        "api_key = config['twitter']['api_key']\n",
        "api_secret = config['twitter']['api_secret']\n",
        "\n",
        "#instantiate access tokens and token secret keys\n",
        "access_token = config['twitter']['access_token']\n",
        "access_token_secret = config['twitter']['access_token_secret']\n",
        "\n",
        "#create an authetication handler for tweepy\n",
        "auth = tweepy.OAuthHandler(api_key, api_secret)\n",
        "auth.set_access_token(access_token, access_token_secret)\n",
        "\n",
        "#instantiate the API\n",
        "api = tweepy.API(auth, wait_on_rate_limit=True, wait_on_rate_limit_notify=True)\n"
      ]
    },
    {
      "cell_type": "code",
      "execution_count": null,
      "metadata": {
        "id": "rT4I7CEmNNVX"
      },
      "outputs": [],
      "source": [
        "#create a lsit for the tweet_id\n",
        "id_list = df_1.tweet_id.astype('str').tolist()\n"
      ]
    },
    {
      "cell_type": "code",
      "execution_count": null,
      "metadata": {
        "colab": {
          "base_uri": "https://localhost:8080/"
        },
        "id": "i9tEJSJRwfT1",
        "outputId": "d7d160be-b817-4279-b01c-6a7d06e6563a"
      },
      "outputs": [
        {
          "output_type": "stream",
          "name": "stderr",
          "text": [
            "WARNING:tweepy.binder:Rate limit reached. Sleeping for: 798\n",
            "WARNING:tweepy.binder:Rate limit reached. Sleeping for: 802\n"
          ]
        }
      ],
      "source": [
        "#create a list to store the downloaded data\n",
        "tweet_file = []\n",
        "id_es = [] #this list is for the tweet ids that are currently unavailable\n",
        "\n",
        "#The columns variable represent the schema for the downloaded twitter files \n",
        "columns = ['tweet_id', 'retweet_count', 'favorite_count']\n",
        "\n",
        "#The for loop tells the api to find data associated with each tweet id from the archive\n",
        "for twit_id in id_list:\n",
        "\n",
        "  #use the try except to download the available twitter data associated with the tweet ids \n",
        "  try:\n",
        "    tweet = api.get_status(twit_id, tweet_mode='extended')\n",
        "    tweet_id = tweet.id\n",
        "    retweet_count = tweet.retweet_count\n",
        "    favorite_count = tweet.favorite_count\n",
        "    tweet_file.append({\"tweet_id\" : tweet_id,\n",
        "                       \"retweet_count\" : retweet_count,\n",
        "                       \"favorite_count\" : favorite_count})\n",
        "\n",
        "  except tweepy.TweepError as te:\n",
        "    id_es.append(tweet.id)"
      ]
    },
    {
      "cell_type": "code",
      "execution_count": null,
      "metadata": {
        "id": "hVpwxUxCJcBU"
      },
      "outputs": [],
      "source": [
        "#store the downloaded twitter files in json format\n",
        "with open('tweet1_json.txt', 'w') as outfile:\n",
        "    json.dump(tweet_file, outfile)"
      ]
    },
    {
      "cell_type": "code",
      "execution_count": null,
      "metadata": {
        "id": "874eYCnLVzpy"
      },
      "outputs": [],
      "source": [
        "#load the saved json file\n",
        "with open('tweet1_json.txt') as tweet_file:\n",
        "    tweet1_json = json.load(tweet_file)"
      ]
    },
    {
      "cell_type": "code",
      "execution_count": null,
      "metadata": {
        "id": "Z4zhcWYIG5RT"
      },
      "outputs": [],
      "source": [
        "#convert the json file to dataframe\n",
        "df_tweet = pd.DataFrame(tweet1_json, columns = columns)\n"
      ]
    },
    {
      "cell_type": "code",
      "execution_count": null,
      "metadata": {
        "colab": {
          "base_uri": "https://localhost:8080/"
        },
        "id": "9SJoE73b-m11",
        "outputId": "9556624c-73c1-457b-9f56-936361e35523"
      },
      "outputs": [
        {
          "output_type": "stream",
          "name": "stdout",
          "text": [
            "<class 'pandas.core.frame.DataFrame'>\n",
            "RangeIndex: 2327 entries, 0 to 2326\n",
            "Data columns (total 3 columns):\n",
            " #   Column          Non-Null Count  Dtype\n",
            "---  ------          --------------  -----\n",
            " 0   tweet_id        2327 non-null   int64\n",
            " 1   retweet_count   2327 non-null   int64\n",
            " 2   favorite_count  2327 non-null   int64\n",
            "dtypes: int64(3)\n",
            "memory usage: 54.7 KB\n"
          ]
        }
      ],
      "source": [
        "df_tweet.info()"
      ]
    },
    {
      "cell_type": "markdown",
      "metadata": {
        "id": "sQ4CsGZYZuoE"
      },
      "source": [
        "## **Assessing the Dataset**"
      ]
    },
    {
      "cell_type": "code",
      "execution_count": null,
      "metadata": {
        "colab": {
          "base_uri": "https://localhost:8080/",
          "height": 450
        },
        "id": "vo1rFBj7uFKK",
        "outputId": "2fd3f431-9fce-4f40-92ac-d161676fce41"
      },
      "outputs": [
        {
          "output_type": "execute_result",
          "data": {
            "text/plain": [
              "             tweet_id  in_reply_to_status_id  in_reply_to_user_id  \\\n",
              "0  892420643555336193                    NaN                  NaN   \n",
              "1  892177421306343426                    NaN                  NaN   \n",
              "2  891815181378084864                    NaN                  NaN   \n",
              "\n",
              "                   timestamp  \\\n",
              "0  2017-08-01 16:23:56 +0000   \n",
              "1  2017-08-01 00:17:27 +0000   \n",
              "2  2017-07-31 00:18:03 +0000   \n",
              "\n",
              "                                              source  \\\n",
              "0  <a href=\"http://twitter.com/download/iphone\" r...   \n",
              "1  <a href=\"http://twitter.com/download/iphone\" r...   \n",
              "2  <a href=\"http://twitter.com/download/iphone\" r...   \n",
              "\n",
              "                                                text  retweeted_status_id  \\\n",
              "0  This is Phineas. He's a mystical boy. Only eve...                  NaN   \n",
              "1  This is Tilly. She's just checking pup on you....                  NaN   \n",
              "2  This is Archie. He is a rare Norwegian Pouncin...                  NaN   \n",
              "\n",
              "   retweeted_status_user_id retweeted_status_timestamp  \\\n",
              "0                       NaN                        NaN   \n",
              "1                       NaN                        NaN   \n",
              "2                       NaN                        NaN   \n",
              "\n",
              "                                       expanded_urls  rating_numerator  \\\n",
              "0  https://twitter.com/dog_rates/status/892420643...                13   \n",
              "1  https://twitter.com/dog_rates/status/892177421...                13   \n",
              "2  https://twitter.com/dog_rates/status/891815181...                12   \n",
              "\n",
              "   rating_denominator     name doggo floofer pupper puppo  \n",
              "0                  10  Phineas  None    None   None  None  \n",
              "1                  10    Tilly  None    None   None  None  \n",
              "2                  10   Archie  None    None   None  None  "
            ],
            "text/html": [
              "\n",
              "  <div id=\"df-2f4d1125-1706-48cc-a1c2-f8faa9c629b7\">\n",
              "    <div class=\"colab-df-container\">\n",
              "      <div>\n",
              "<style scoped>\n",
              "    .dataframe tbody tr th:only-of-type {\n",
              "        vertical-align: middle;\n",
              "    }\n",
              "\n",
              "    .dataframe tbody tr th {\n",
              "        vertical-align: top;\n",
              "    }\n",
              "\n",
              "    .dataframe thead th {\n",
              "        text-align: right;\n",
              "    }\n",
              "</style>\n",
              "<table border=\"1\" class=\"dataframe\">\n",
              "  <thead>\n",
              "    <tr style=\"text-align: right;\">\n",
              "      <th></th>\n",
              "      <th>tweet_id</th>\n",
              "      <th>in_reply_to_status_id</th>\n",
              "      <th>in_reply_to_user_id</th>\n",
              "      <th>timestamp</th>\n",
              "      <th>source</th>\n",
              "      <th>text</th>\n",
              "      <th>retweeted_status_id</th>\n",
              "      <th>retweeted_status_user_id</th>\n",
              "      <th>retweeted_status_timestamp</th>\n",
              "      <th>expanded_urls</th>\n",
              "      <th>rating_numerator</th>\n",
              "      <th>rating_denominator</th>\n",
              "      <th>name</th>\n",
              "      <th>doggo</th>\n",
              "      <th>floofer</th>\n",
              "      <th>pupper</th>\n",
              "      <th>puppo</th>\n",
              "    </tr>\n",
              "  </thead>\n",
              "  <tbody>\n",
              "    <tr>\n",
              "      <th>0</th>\n",
              "      <td>892420643555336193</td>\n",
              "      <td>NaN</td>\n",
              "      <td>NaN</td>\n",
              "      <td>2017-08-01 16:23:56 +0000</td>\n",
              "      <td>&lt;a href=\"http://twitter.com/download/iphone\" r...</td>\n",
              "      <td>This is Phineas. He's a mystical boy. Only eve...</td>\n",
              "      <td>NaN</td>\n",
              "      <td>NaN</td>\n",
              "      <td>NaN</td>\n",
              "      <td>https://twitter.com/dog_rates/status/892420643...</td>\n",
              "      <td>13</td>\n",
              "      <td>10</td>\n",
              "      <td>Phineas</td>\n",
              "      <td>None</td>\n",
              "      <td>None</td>\n",
              "      <td>None</td>\n",
              "      <td>None</td>\n",
              "    </tr>\n",
              "    <tr>\n",
              "      <th>1</th>\n",
              "      <td>892177421306343426</td>\n",
              "      <td>NaN</td>\n",
              "      <td>NaN</td>\n",
              "      <td>2017-08-01 00:17:27 +0000</td>\n",
              "      <td>&lt;a href=\"http://twitter.com/download/iphone\" r...</td>\n",
              "      <td>This is Tilly. She's just checking pup on you....</td>\n",
              "      <td>NaN</td>\n",
              "      <td>NaN</td>\n",
              "      <td>NaN</td>\n",
              "      <td>https://twitter.com/dog_rates/status/892177421...</td>\n",
              "      <td>13</td>\n",
              "      <td>10</td>\n",
              "      <td>Tilly</td>\n",
              "      <td>None</td>\n",
              "      <td>None</td>\n",
              "      <td>None</td>\n",
              "      <td>None</td>\n",
              "    </tr>\n",
              "    <tr>\n",
              "      <th>2</th>\n",
              "      <td>891815181378084864</td>\n",
              "      <td>NaN</td>\n",
              "      <td>NaN</td>\n",
              "      <td>2017-07-31 00:18:03 +0000</td>\n",
              "      <td>&lt;a href=\"http://twitter.com/download/iphone\" r...</td>\n",
              "      <td>This is Archie. He is a rare Norwegian Pouncin...</td>\n",
              "      <td>NaN</td>\n",
              "      <td>NaN</td>\n",
              "      <td>NaN</td>\n",
              "      <td>https://twitter.com/dog_rates/status/891815181...</td>\n",
              "      <td>12</td>\n",
              "      <td>10</td>\n",
              "      <td>Archie</td>\n",
              "      <td>None</td>\n",
              "      <td>None</td>\n",
              "      <td>None</td>\n",
              "      <td>None</td>\n",
              "    </tr>\n",
              "  </tbody>\n",
              "</table>\n",
              "</div>\n",
              "      <button class=\"colab-df-convert\" onclick=\"convertToInteractive('df-2f4d1125-1706-48cc-a1c2-f8faa9c629b7')\"\n",
              "              title=\"Convert this dataframe to an interactive table.\"\n",
              "              style=\"display:none;\">\n",
              "        \n",
              "  <svg xmlns=\"http://www.w3.org/2000/svg\" height=\"24px\"viewBox=\"0 0 24 24\"\n",
              "       width=\"24px\">\n",
              "    <path d=\"M0 0h24v24H0V0z\" fill=\"none\"/>\n",
              "    <path d=\"M18.56 5.44l.94 2.06.94-2.06 2.06-.94-2.06-.94-.94-2.06-.94 2.06-2.06.94zm-11 1L8.5 8.5l.94-2.06 2.06-.94-2.06-.94L8.5 2.5l-.94 2.06-2.06.94zm10 10l.94 2.06.94-2.06 2.06-.94-2.06-.94-.94-2.06-.94 2.06-2.06.94z\"/><path d=\"M17.41 7.96l-1.37-1.37c-.4-.4-.92-.59-1.43-.59-.52 0-1.04.2-1.43.59L10.3 9.45l-7.72 7.72c-.78.78-.78 2.05 0 2.83L4 21.41c.39.39.9.59 1.41.59.51 0 1.02-.2 1.41-.59l7.78-7.78 2.81-2.81c.8-.78.8-2.07 0-2.86zM5.41 20L4 18.59l7.72-7.72 1.47 1.35L5.41 20z\"/>\n",
              "  </svg>\n",
              "      </button>\n",
              "      \n",
              "  <style>\n",
              "    .colab-df-container {\n",
              "      display:flex;\n",
              "      flex-wrap:wrap;\n",
              "      gap: 12px;\n",
              "    }\n",
              "\n",
              "    .colab-df-convert {\n",
              "      background-color: #E8F0FE;\n",
              "      border: none;\n",
              "      border-radius: 50%;\n",
              "      cursor: pointer;\n",
              "      display: none;\n",
              "      fill: #1967D2;\n",
              "      height: 32px;\n",
              "      padding: 0 0 0 0;\n",
              "      width: 32px;\n",
              "    }\n",
              "\n",
              "    .colab-df-convert:hover {\n",
              "      background-color: #E2EBFA;\n",
              "      box-shadow: 0px 1px 2px rgba(60, 64, 67, 0.3), 0px 1px 3px 1px rgba(60, 64, 67, 0.15);\n",
              "      fill: #174EA6;\n",
              "    }\n",
              "\n",
              "    [theme=dark] .colab-df-convert {\n",
              "      background-color: #3B4455;\n",
              "      fill: #D2E3FC;\n",
              "    }\n",
              "\n",
              "    [theme=dark] .colab-df-convert:hover {\n",
              "      background-color: #434B5C;\n",
              "      box-shadow: 0px 1px 3px 1px rgba(0, 0, 0, 0.15);\n",
              "      filter: drop-shadow(0px 1px 2px rgba(0, 0, 0, 0.3));\n",
              "      fill: #FFFFFF;\n",
              "    }\n",
              "  </style>\n",
              "\n",
              "      <script>\n",
              "        const buttonEl =\n",
              "          document.querySelector('#df-2f4d1125-1706-48cc-a1c2-f8faa9c629b7 button.colab-df-convert');\n",
              "        buttonEl.style.display =\n",
              "          google.colab.kernel.accessAllowed ? 'block' : 'none';\n",
              "\n",
              "        async function convertToInteractive(key) {\n",
              "          const element = document.querySelector('#df-2f4d1125-1706-48cc-a1c2-f8faa9c629b7');\n",
              "          const dataTable =\n",
              "            await google.colab.kernel.invokeFunction('convertToInteractive',\n",
              "                                                     [key], {});\n",
              "          if (!dataTable) return;\n",
              "\n",
              "          const docLinkHtml = 'Like what you see? Visit the ' +\n",
              "            '<a target=\"_blank\" href=https://colab.research.google.com/notebooks/data_table.ipynb>data table notebook</a>'\n",
              "            + ' to learn more about interactive tables.';\n",
              "          element.innerHTML = '';\n",
              "          dataTable['output_type'] = 'display_data';\n",
              "          await google.colab.output.renderOutput(dataTable, element);\n",
              "          const docLink = document.createElement('div');\n",
              "          docLink.innerHTML = docLinkHtml;\n",
              "          element.appendChild(docLink);\n",
              "        }\n",
              "      </script>\n",
              "    </div>\n",
              "  </div>\n",
              "  "
            ]
          },
          "metadata": {},
          "execution_count": 17
        }
      ],
      "source": [
        "df_1.head(3)"
      ]
    },
    {
      "cell_type": "code",
      "execution_count": null,
      "metadata": {
        "colab": {
          "base_uri": "https://localhost:8080/"
        },
        "id": "PYIBJz30-2SH",
        "outputId": "85b497ba-3a04-4f23-9f87-c2280601a0e9"
      },
      "outputs": [
        {
          "output_type": "execute_result",
          "data": {
            "text/plain": [
              "2355    2015-11-15 22:32:08 +0000\n",
              "2354    2015-11-15 23:05:30 +0000\n",
              "2353    2015-11-15 23:21:54 +0000\n",
              "2352    2015-11-16 00:04:52 +0000\n",
              "2351    2015-11-16 00:24:50 +0000\n",
              "                  ...            \n",
              "4       2017-07-29 16:00:24 +0000\n",
              "3       2017-07-30 15:58:51 +0000\n",
              "2       2017-07-31 00:18:03 +0000\n",
              "1       2017-08-01 00:17:27 +0000\n",
              "0       2017-08-01 16:23:56 +0000\n",
              "Name: timestamp, Length: 2356, dtype: object"
            ]
          },
          "metadata": {},
          "execution_count": 18
        }
      ],
      "source": [
        "df_1.timestamp.sort_values()"
      ]
    },
    {
      "cell_type": "code",
      "execution_count": null,
      "metadata": {
        "colab": {
          "base_uri": "https://localhost:8080/"
        },
        "id": "qhOFbCP1q4VG",
        "outputId": "c7b36354-1374-4581-a16f-71e3f4f63d6e"
      },
      "outputs": [
        {
          "output_type": "stream",
          "name": "stdout",
          "text": [
            "<class 'pandas.core.frame.DataFrame'>\n",
            "RangeIndex: 2356 entries, 0 to 2355\n",
            "Data columns (total 17 columns):\n",
            " #   Column                      Non-Null Count  Dtype  \n",
            "---  ------                      --------------  -----  \n",
            " 0   tweet_id                    2356 non-null   int64  \n",
            " 1   in_reply_to_status_id       78 non-null     float64\n",
            " 2   in_reply_to_user_id         78 non-null     float64\n",
            " 3   timestamp                   2356 non-null   object \n",
            " 4   source                      2356 non-null   object \n",
            " 5   text                        2356 non-null   object \n",
            " 6   retweeted_status_id         181 non-null    float64\n",
            " 7   retweeted_status_user_id    181 non-null    float64\n",
            " 8   retweeted_status_timestamp  181 non-null    object \n",
            " 9   expanded_urls               2297 non-null   object \n",
            " 10  rating_numerator            2356 non-null   int64  \n",
            " 11  rating_denominator          2356 non-null   int64  \n",
            " 12  name                        2356 non-null   object \n",
            " 13  doggo                       2356 non-null   object \n",
            " 14  floofer                     2356 non-null   object \n",
            " 15  pupper                      2356 non-null   object \n",
            " 16  puppo                       2356 non-null   object \n",
            "dtypes: float64(4), int64(3), object(10)\n",
            "memory usage: 313.0+ KB\n"
          ]
        }
      ],
      "source": [
        "df_1.info()"
      ]
    },
    {
      "cell_type": "code",
      "execution_count": null,
      "metadata": {
        "colab": {
          "base_uri": "https://localhost:8080/"
        },
        "id": "fWg-DHDukSrc",
        "outputId": "8ab13994-5242-4bf0-e4df-2f5c1e1303fd"
      },
      "outputs": [
        {
          "output_type": "execute_result",
          "data": {
            "text/plain": [
              "2356"
            ]
          },
          "metadata": {},
          "execution_count": 20
        }
      ],
      "source": [
        "df_1.tweet_id.nunique()"
      ]
    },
    {
      "cell_type": "code",
      "execution_count": null,
      "metadata": {
        "colab": {
          "base_uri": "https://localhost:8080/",
          "height": 288
        },
        "id": "yaswUoi0vl4-",
        "outputId": "801bdaaa-bf37-4bd4-ee4d-650ec86e5f46"
      },
      "outputs": [
        {
          "output_type": "execute_result",
          "data": {
            "text/plain": [
              "                tweet_id                                          jpg_url  \\\n",
              "1964  867072653475098625  https://pbs.twimg.com/media/DAElHfmUMAEH9lB.jpg   \n",
              "995   708149363256774660  https://pbs.twimg.com/media/CdPaEkHW8AA-Wom.jpg   \n",
              "171   668994913074286592  https://pbs.twimg.com/media/CUi_UtnWIAEtfqz.jpg   \n",
              "1892  849336543269576704  https://pbs.twimg.com/media/C8lzFC4XcAAQxB4.jpg   \n",
              "1848  839549326359670784  https://pbs.twimg.com/media/C6atpTLWYAIL7bU.jpg   \n",
              "\n",
              "      img_num                p1   p1_conf  p1_dog                p2   p2_conf  \\\n",
              "1964        1  Blenheim_spaniel  0.352946    True          papillon  0.211766   \n",
              "995         1          Cardigan  0.350993    True            basset  0.164555   \n",
              "171         1               hog  0.113789   False  English_springer  0.089763   \n",
              "1892        1             patio  0.521788   False            prison  0.149544   \n",
              "1848        1             swing  0.393527   False   Norwich_terrier  0.052480   \n",
              "\n",
              "      p2_dog              p3   p3_conf  p3_dog  \n",
              "1964    True        Pekinese  0.112952    True  \n",
              "995     True     toy_terrier  0.080484    True  \n",
              "171     True  French_bulldog  0.082186    True  \n",
              "1892   False      restaurant  0.027153   False  \n",
              "1848    True        Pembroke  0.049901    True  "
            ],
            "text/html": [
              "\n",
              "  <div id=\"df-8069aea3-eb48-4ac4-bc2b-9944c70d653a\">\n",
              "    <div class=\"colab-df-container\">\n",
              "      <div>\n",
              "<style scoped>\n",
              "    .dataframe tbody tr th:only-of-type {\n",
              "        vertical-align: middle;\n",
              "    }\n",
              "\n",
              "    .dataframe tbody tr th {\n",
              "        vertical-align: top;\n",
              "    }\n",
              "\n",
              "    .dataframe thead th {\n",
              "        text-align: right;\n",
              "    }\n",
              "</style>\n",
              "<table border=\"1\" class=\"dataframe\">\n",
              "  <thead>\n",
              "    <tr style=\"text-align: right;\">\n",
              "      <th></th>\n",
              "      <th>tweet_id</th>\n",
              "      <th>jpg_url</th>\n",
              "      <th>img_num</th>\n",
              "      <th>p1</th>\n",
              "      <th>p1_conf</th>\n",
              "      <th>p1_dog</th>\n",
              "      <th>p2</th>\n",
              "      <th>p2_conf</th>\n",
              "      <th>p2_dog</th>\n",
              "      <th>p3</th>\n",
              "      <th>p3_conf</th>\n",
              "      <th>p3_dog</th>\n",
              "    </tr>\n",
              "  </thead>\n",
              "  <tbody>\n",
              "    <tr>\n",
              "      <th>1964</th>\n",
              "      <td>867072653475098625</td>\n",
              "      <td>https://pbs.twimg.com/media/DAElHfmUMAEH9lB.jpg</td>\n",
              "      <td>1</td>\n",
              "      <td>Blenheim_spaniel</td>\n",
              "      <td>0.352946</td>\n",
              "      <td>True</td>\n",
              "      <td>papillon</td>\n",
              "      <td>0.211766</td>\n",
              "      <td>True</td>\n",
              "      <td>Pekinese</td>\n",
              "      <td>0.112952</td>\n",
              "      <td>True</td>\n",
              "    </tr>\n",
              "    <tr>\n",
              "      <th>995</th>\n",
              "      <td>708149363256774660</td>\n",
              "      <td>https://pbs.twimg.com/media/CdPaEkHW8AA-Wom.jpg</td>\n",
              "      <td>1</td>\n",
              "      <td>Cardigan</td>\n",
              "      <td>0.350993</td>\n",
              "      <td>True</td>\n",
              "      <td>basset</td>\n",
              "      <td>0.164555</td>\n",
              "      <td>True</td>\n",
              "      <td>toy_terrier</td>\n",
              "      <td>0.080484</td>\n",
              "      <td>True</td>\n",
              "    </tr>\n",
              "    <tr>\n",
              "      <th>171</th>\n",
              "      <td>668994913074286592</td>\n",
              "      <td>https://pbs.twimg.com/media/CUi_UtnWIAEtfqz.jpg</td>\n",
              "      <td>1</td>\n",
              "      <td>hog</td>\n",
              "      <td>0.113789</td>\n",
              "      <td>False</td>\n",
              "      <td>English_springer</td>\n",
              "      <td>0.089763</td>\n",
              "      <td>True</td>\n",
              "      <td>French_bulldog</td>\n",
              "      <td>0.082186</td>\n",
              "      <td>True</td>\n",
              "    </tr>\n",
              "    <tr>\n",
              "      <th>1892</th>\n",
              "      <td>849336543269576704</td>\n",
              "      <td>https://pbs.twimg.com/media/C8lzFC4XcAAQxB4.jpg</td>\n",
              "      <td>1</td>\n",
              "      <td>patio</td>\n",
              "      <td>0.521788</td>\n",
              "      <td>False</td>\n",
              "      <td>prison</td>\n",
              "      <td>0.149544</td>\n",
              "      <td>False</td>\n",
              "      <td>restaurant</td>\n",
              "      <td>0.027153</td>\n",
              "      <td>False</td>\n",
              "    </tr>\n",
              "    <tr>\n",
              "      <th>1848</th>\n",
              "      <td>839549326359670784</td>\n",
              "      <td>https://pbs.twimg.com/media/C6atpTLWYAIL7bU.jpg</td>\n",
              "      <td>1</td>\n",
              "      <td>swing</td>\n",
              "      <td>0.393527</td>\n",
              "      <td>False</td>\n",
              "      <td>Norwich_terrier</td>\n",
              "      <td>0.052480</td>\n",
              "      <td>True</td>\n",
              "      <td>Pembroke</td>\n",
              "      <td>0.049901</td>\n",
              "      <td>True</td>\n",
              "    </tr>\n",
              "  </tbody>\n",
              "</table>\n",
              "</div>\n",
              "      <button class=\"colab-df-convert\" onclick=\"convertToInteractive('df-8069aea3-eb48-4ac4-bc2b-9944c70d653a')\"\n",
              "              title=\"Convert this dataframe to an interactive table.\"\n",
              "              style=\"display:none;\">\n",
              "        \n",
              "  <svg xmlns=\"http://www.w3.org/2000/svg\" height=\"24px\"viewBox=\"0 0 24 24\"\n",
              "       width=\"24px\">\n",
              "    <path d=\"M0 0h24v24H0V0z\" fill=\"none\"/>\n",
              "    <path d=\"M18.56 5.44l.94 2.06.94-2.06 2.06-.94-2.06-.94-.94-2.06-.94 2.06-2.06.94zm-11 1L8.5 8.5l.94-2.06 2.06-.94-2.06-.94L8.5 2.5l-.94 2.06-2.06.94zm10 10l.94 2.06.94-2.06 2.06-.94-2.06-.94-.94-2.06-.94 2.06-2.06.94z\"/><path d=\"M17.41 7.96l-1.37-1.37c-.4-.4-.92-.59-1.43-.59-.52 0-1.04.2-1.43.59L10.3 9.45l-7.72 7.72c-.78.78-.78 2.05 0 2.83L4 21.41c.39.39.9.59 1.41.59.51 0 1.02-.2 1.41-.59l7.78-7.78 2.81-2.81c.8-.78.8-2.07 0-2.86zM5.41 20L4 18.59l7.72-7.72 1.47 1.35L5.41 20z\"/>\n",
              "  </svg>\n",
              "      </button>\n",
              "      \n",
              "  <style>\n",
              "    .colab-df-container {\n",
              "      display:flex;\n",
              "      flex-wrap:wrap;\n",
              "      gap: 12px;\n",
              "    }\n",
              "\n",
              "    .colab-df-convert {\n",
              "      background-color: #E8F0FE;\n",
              "      border: none;\n",
              "      border-radius: 50%;\n",
              "      cursor: pointer;\n",
              "      display: none;\n",
              "      fill: #1967D2;\n",
              "      height: 32px;\n",
              "      padding: 0 0 0 0;\n",
              "      width: 32px;\n",
              "    }\n",
              "\n",
              "    .colab-df-convert:hover {\n",
              "      background-color: #E2EBFA;\n",
              "      box-shadow: 0px 1px 2px rgba(60, 64, 67, 0.3), 0px 1px 3px 1px rgba(60, 64, 67, 0.15);\n",
              "      fill: #174EA6;\n",
              "    }\n",
              "\n",
              "    [theme=dark] .colab-df-convert {\n",
              "      background-color: #3B4455;\n",
              "      fill: #D2E3FC;\n",
              "    }\n",
              "\n",
              "    [theme=dark] .colab-df-convert:hover {\n",
              "      background-color: #434B5C;\n",
              "      box-shadow: 0px 1px 3px 1px rgba(0, 0, 0, 0.15);\n",
              "      filter: drop-shadow(0px 1px 2px rgba(0, 0, 0, 0.3));\n",
              "      fill: #FFFFFF;\n",
              "    }\n",
              "  </style>\n",
              "\n",
              "      <script>\n",
              "        const buttonEl =\n",
              "          document.querySelector('#df-8069aea3-eb48-4ac4-bc2b-9944c70d653a button.colab-df-convert');\n",
              "        buttonEl.style.display =\n",
              "          google.colab.kernel.accessAllowed ? 'block' : 'none';\n",
              "\n",
              "        async function convertToInteractive(key) {\n",
              "          const element = document.querySelector('#df-8069aea3-eb48-4ac4-bc2b-9944c70d653a');\n",
              "          const dataTable =\n",
              "            await google.colab.kernel.invokeFunction('convertToInteractive',\n",
              "                                                     [key], {});\n",
              "          if (!dataTable) return;\n",
              "\n",
              "          const docLinkHtml = 'Like what you see? Visit the ' +\n",
              "            '<a target=\"_blank\" href=https://colab.research.google.com/notebooks/data_table.ipynb>data table notebook</a>'\n",
              "            + ' to learn more about interactive tables.';\n",
              "          element.innerHTML = '';\n",
              "          dataTable['output_type'] = 'display_data';\n",
              "          await google.colab.output.renderOutput(dataTable, element);\n",
              "          const docLink = document.createElement('div');\n",
              "          docLink.innerHTML = docLinkHtml;\n",
              "          element.appendChild(docLink);\n",
              "        }\n",
              "      </script>\n",
              "    </div>\n",
              "  </div>\n",
              "  "
            ]
          },
          "metadata": {},
          "execution_count": 21
        }
      ],
      "source": [
        "df_image.sample(5)"
      ]
    },
    {
      "cell_type": "code",
      "execution_count": null,
      "metadata": {
        "colab": {
          "base_uri": "https://localhost:8080/"
        },
        "id": "NQkkXR6wvD5a",
        "outputId": "e1443a2c-ce1a-4791-a189-9b070e1df9d8"
      },
      "outputs": [
        {
          "output_type": "execute_result",
          "data": {
            "text/plain": [
              "2075"
            ]
          },
          "metadata": {},
          "execution_count": 22
        }
      ],
      "source": [
        "df_image.tweet_id.nunique()"
      ]
    },
    {
      "cell_type": "code",
      "execution_count": null,
      "metadata": {
        "colab": {
          "base_uri": "https://localhost:8080/"
        },
        "id": "sZkrrNm6v4Gq",
        "outputId": "e1ad2125-92d3-469d-c00f-1588fe4c0dd7"
      },
      "outputs": [
        {
          "output_type": "stream",
          "name": "stdout",
          "text": [
            "<class 'pandas.core.frame.DataFrame'>\n",
            "RangeIndex: 2075 entries, 0 to 2074\n",
            "Data columns (total 12 columns):\n",
            " #   Column    Non-Null Count  Dtype  \n",
            "---  ------    --------------  -----  \n",
            " 0   tweet_id  2075 non-null   int64  \n",
            " 1   jpg_url   2075 non-null   object \n",
            " 2   img_num   2075 non-null   int64  \n",
            " 3   p1        2075 non-null   object \n",
            " 4   p1_conf   2075 non-null   float64\n",
            " 5   p1_dog    2075 non-null   bool   \n",
            " 6   p2        2075 non-null   object \n",
            " 7   p2_conf   2075 non-null   float64\n",
            " 8   p2_dog    2075 non-null   bool   \n",
            " 9   p3        2075 non-null   object \n",
            " 10  p3_conf   2075 non-null   float64\n",
            " 11  p3_dog    2075 non-null   bool   \n",
            "dtypes: bool(3), float64(3), int64(2), object(4)\n",
            "memory usage: 152.1+ KB\n"
          ]
        }
      ],
      "source": [
        "df_image.info()"
      ]
    },
    {
      "cell_type": "code",
      "execution_count": null,
      "metadata": {
        "colab": {
          "base_uri": "https://localhost:8080/",
          "height": 270
        },
        "id": "XOXEW1o_HaMK",
        "outputId": "0007d4c7-c559-4c67-ee0d-6c2e89578c94"
      },
      "outputs": [
        {
          "output_type": "execute_result",
          "data": {
            "text/plain": [
              "                tweet_id                                            jpg_url  \\\n",
              "632   680959110691590145    https://pbs.twimg.com/media/CXNAsm6WsAEST9R.jpg   \n",
              "545   677314812125323265    https://pbs.twimg.com/media/CWZOOIUW4AAQrX_.jpg   \n",
              "640   681302363064414209    https://pbs.twimg.com/media/CXR44l9WcAAcG_N.jpg   \n",
              "1097  720340705894408192    https://pbs.twimg.com/media/Cf8qDFbWwAEf8M3.jpg   \n",
              "2050  887343217045368832  https://pbs.twimg.com/ext_tw_video_thumb/88734...   \n",
              "\n",
              "      img_num                p1   p1_conf  p1_dog                p2   p2_conf  \\\n",
              "632         2          carousel  0.500992   False       feather_boa  0.064390   \n",
              "545         2  Blenheim_spaniel  0.924127    True  Japanese_spaniel  0.054790   \n",
              "640         1    frilled_lizard  0.326259   False       tailed_frog  0.104539   \n",
              "1097        1               alp  0.320126   False        lawn_mower  0.080808   \n",
              "2050        1  Mexican_hairless  0.330741    True          sea_lion  0.275645   \n",
              "\n",
              "      p2_dog          p3   p3_conf  p3_dog  \n",
              "632    False         pug  0.044357    True  \n",
              "545     True   Chihuahua  0.008204    True  \n",
              "640    False     axolotl  0.072479   False  \n",
              "1097   False     viaduct  0.065321   False  \n",
              "2050   False  Weimaraner  0.134203    True  "
            ],
            "text/html": [
              "\n",
              "  <div id=\"df-113261c2-374d-4b7a-a112-61e8f1cdc905\">\n",
              "    <div class=\"colab-df-container\">\n",
              "      <div>\n",
              "<style scoped>\n",
              "    .dataframe tbody tr th:only-of-type {\n",
              "        vertical-align: middle;\n",
              "    }\n",
              "\n",
              "    .dataframe tbody tr th {\n",
              "        vertical-align: top;\n",
              "    }\n",
              "\n",
              "    .dataframe thead th {\n",
              "        text-align: right;\n",
              "    }\n",
              "</style>\n",
              "<table border=\"1\" class=\"dataframe\">\n",
              "  <thead>\n",
              "    <tr style=\"text-align: right;\">\n",
              "      <th></th>\n",
              "      <th>tweet_id</th>\n",
              "      <th>jpg_url</th>\n",
              "      <th>img_num</th>\n",
              "      <th>p1</th>\n",
              "      <th>p1_conf</th>\n",
              "      <th>p1_dog</th>\n",
              "      <th>p2</th>\n",
              "      <th>p2_conf</th>\n",
              "      <th>p2_dog</th>\n",
              "      <th>p3</th>\n",
              "      <th>p3_conf</th>\n",
              "      <th>p3_dog</th>\n",
              "    </tr>\n",
              "  </thead>\n",
              "  <tbody>\n",
              "    <tr>\n",
              "      <th>632</th>\n",
              "      <td>680959110691590145</td>\n",
              "      <td>https://pbs.twimg.com/media/CXNAsm6WsAEST9R.jpg</td>\n",
              "      <td>2</td>\n",
              "      <td>carousel</td>\n",
              "      <td>0.500992</td>\n",
              "      <td>False</td>\n",
              "      <td>feather_boa</td>\n",
              "      <td>0.064390</td>\n",
              "      <td>False</td>\n",
              "      <td>pug</td>\n",
              "      <td>0.044357</td>\n",
              "      <td>True</td>\n",
              "    </tr>\n",
              "    <tr>\n",
              "      <th>545</th>\n",
              "      <td>677314812125323265</td>\n",
              "      <td>https://pbs.twimg.com/media/CWZOOIUW4AAQrX_.jpg</td>\n",
              "      <td>2</td>\n",
              "      <td>Blenheim_spaniel</td>\n",
              "      <td>0.924127</td>\n",
              "      <td>True</td>\n",
              "      <td>Japanese_spaniel</td>\n",
              "      <td>0.054790</td>\n",
              "      <td>True</td>\n",
              "      <td>Chihuahua</td>\n",
              "      <td>0.008204</td>\n",
              "      <td>True</td>\n",
              "    </tr>\n",
              "    <tr>\n",
              "      <th>640</th>\n",
              "      <td>681302363064414209</td>\n",
              "      <td>https://pbs.twimg.com/media/CXR44l9WcAAcG_N.jpg</td>\n",
              "      <td>1</td>\n",
              "      <td>frilled_lizard</td>\n",
              "      <td>0.326259</td>\n",
              "      <td>False</td>\n",
              "      <td>tailed_frog</td>\n",
              "      <td>0.104539</td>\n",
              "      <td>False</td>\n",
              "      <td>axolotl</td>\n",
              "      <td>0.072479</td>\n",
              "      <td>False</td>\n",
              "    </tr>\n",
              "    <tr>\n",
              "      <th>1097</th>\n",
              "      <td>720340705894408192</td>\n",
              "      <td>https://pbs.twimg.com/media/Cf8qDFbWwAEf8M3.jpg</td>\n",
              "      <td>1</td>\n",
              "      <td>alp</td>\n",
              "      <td>0.320126</td>\n",
              "      <td>False</td>\n",
              "      <td>lawn_mower</td>\n",
              "      <td>0.080808</td>\n",
              "      <td>False</td>\n",
              "      <td>viaduct</td>\n",
              "      <td>0.065321</td>\n",
              "      <td>False</td>\n",
              "    </tr>\n",
              "    <tr>\n",
              "      <th>2050</th>\n",
              "      <td>887343217045368832</td>\n",
              "      <td>https://pbs.twimg.com/ext_tw_video_thumb/88734...</td>\n",
              "      <td>1</td>\n",
              "      <td>Mexican_hairless</td>\n",
              "      <td>0.330741</td>\n",
              "      <td>True</td>\n",
              "      <td>sea_lion</td>\n",
              "      <td>0.275645</td>\n",
              "      <td>False</td>\n",
              "      <td>Weimaraner</td>\n",
              "      <td>0.134203</td>\n",
              "      <td>True</td>\n",
              "    </tr>\n",
              "  </tbody>\n",
              "</table>\n",
              "</div>\n",
              "      <button class=\"colab-df-convert\" onclick=\"convertToInteractive('df-113261c2-374d-4b7a-a112-61e8f1cdc905')\"\n",
              "              title=\"Convert this dataframe to an interactive table.\"\n",
              "              style=\"display:none;\">\n",
              "        \n",
              "  <svg xmlns=\"http://www.w3.org/2000/svg\" height=\"24px\"viewBox=\"0 0 24 24\"\n",
              "       width=\"24px\">\n",
              "    <path d=\"M0 0h24v24H0V0z\" fill=\"none\"/>\n",
              "    <path d=\"M18.56 5.44l.94 2.06.94-2.06 2.06-.94-2.06-.94-.94-2.06-.94 2.06-2.06.94zm-11 1L8.5 8.5l.94-2.06 2.06-.94-2.06-.94L8.5 2.5l-.94 2.06-2.06.94zm10 10l.94 2.06.94-2.06 2.06-.94-2.06-.94-.94-2.06-.94 2.06-2.06.94z\"/><path d=\"M17.41 7.96l-1.37-1.37c-.4-.4-.92-.59-1.43-.59-.52 0-1.04.2-1.43.59L10.3 9.45l-7.72 7.72c-.78.78-.78 2.05 0 2.83L4 21.41c.39.39.9.59 1.41.59.51 0 1.02-.2 1.41-.59l7.78-7.78 2.81-2.81c.8-.78.8-2.07 0-2.86zM5.41 20L4 18.59l7.72-7.72 1.47 1.35L5.41 20z\"/>\n",
              "  </svg>\n",
              "      </button>\n",
              "      \n",
              "  <style>\n",
              "    .colab-df-container {\n",
              "      display:flex;\n",
              "      flex-wrap:wrap;\n",
              "      gap: 12px;\n",
              "    }\n",
              "\n",
              "    .colab-df-convert {\n",
              "      background-color: #E8F0FE;\n",
              "      border: none;\n",
              "      border-radius: 50%;\n",
              "      cursor: pointer;\n",
              "      display: none;\n",
              "      fill: #1967D2;\n",
              "      height: 32px;\n",
              "      padding: 0 0 0 0;\n",
              "      width: 32px;\n",
              "    }\n",
              "\n",
              "    .colab-df-convert:hover {\n",
              "      background-color: #E2EBFA;\n",
              "      box-shadow: 0px 1px 2px rgba(60, 64, 67, 0.3), 0px 1px 3px 1px rgba(60, 64, 67, 0.15);\n",
              "      fill: #174EA6;\n",
              "    }\n",
              "\n",
              "    [theme=dark] .colab-df-convert {\n",
              "      background-color: #3B4455;\n",
              "      fill: #D2E3FC;\n",
              "    }\n",
              "\n",
              "    [theme=dark] .colab-df-convert:hover {\n",
              "      background-color: #434B5C;\n",
              "      box-shadow: 0px 1px 3px 1px rgba(0, 0, 0, 0.15);\n",
              "      filter: drop-shadow(0px 1px 2px rgba(0, 0, 0, 0.3));\n",
              "      fill: #FFFFFF;\n",
              "    }\n",
              "  </style>\n",
              "\n",
              "      <script>\n",
              "        const buttonEl =\n",
              "          document.querySelector('#df-113261c2-374d-4b7a-a112-61e8f1cdc905 button.colab-df-convert');\n",
              "        buttonEl.style.display =\n",
              "          google.colab.kernel.accessAllowed ? 'block' : 'none';\n",
              "\n",
              "        async function convertToInteractive(key) {\n",
              "          const element = document.querySelector('#df-113261c2-374d-4b7a-a112-61e8f1cdc905');\n",
              "          const dataTable =\n",
              "            await google.colab.kernel.invokeFunction('convertToInteractive',\n",
              "                                                     [key], {});\n",
              "          if (!dataTable) return;\n",
              "\n",
              "          const docLinkHtml = 'Like what you see? Visit the ' +\n",
              "            '<a target=\"_blank\" href=https://colab.research.google.com/notebooks/data_table.ipynb>data table notebook</a>'\n",
              "            + ' to learn more about interactive tables.';\n",
              "          element.innerHTML = '';\n",
              "          dataTable['output_type'] = 'display_data';\n",
              "          await google.colab.output.renderOutput(dataTable, element);\n",
              "          const docLink = document.createElement('div');\n",
              "          docLink.innerHTML = docLinkHtml;\n",
              "          element.appendChild(docLink);\n",
              "        }\n",
              "      </script>\n",
              "    </div>\n",
              "  </div>\n",
              "  "
            ]
          },
          "metadata": {},
          "execution_count": 24
        }
      ],
      "source": [
        "df_image.sample(5)"
      ]
    },
    {
      "cell_type": "markdown",
      "metadata": {
        "id": "TdL-rql3NtyW"
      },
      "source": [
        "#### **Tidiness**\n",
        "\n",
        "\n",
        "*   The `doggo`, `floofer`, `pupper`, and `puppo` coulums from the *twitter_archive* table should be melted into one `label` column.\n",
        "* Information about *tweets* is spread across all the dataframes\n",
        "\n",
        "\n",
        "#### **Quality**\n",
        "**twitter archive table**\n",
        "\n",
        "*   `tweet_id` should be a string not an integer\n",
        "*   `in_reply_to_status_id` has too many null values, and it is not relevant\n",
        "*   drop the `in_reply_to_user_id` column\n",
        "*   drop the `retweeted_status_id` column\n",
        "*   drop the `retweeted_status_user_id` column\n",
        "*   the `retweeted_status_timestamp` column should be dropped\n",
        "*   The `timestamp` column should be properly parsed\n",
        "\n",
        "\n",
        "**image prediction table**\n",
        "*   `tweet_id` should be a string not an integer\n",
        "*   The `\"_\"` in the `p1`, `p2`, `p3` columns should be removed\n",
        "*   There are inconsistencies in the spelling of predicted breeds in the `p1`, `p2`, and `p3`columns. Convert to predicted breeds in these columns to title case \n",
        "*   some of the names in the `p1`, `p2`, `p3` columns are not names for dog breeds\n",
        "*   `p1`, `p1_conf`, `p1_dog`, `p2`, `p2_conf`, `p2_dog`, `p3`, `p3_conf`, and `p3_dog` columns from the *image_predictions* should really be 2 columns (`breed`, and `best_algo`)\n",
        "*    the datatype for the `algo` should be set as `categorical`\n",
        "\n",
        "\n",
        "\n",
        "\n",
        "**Additional data table**\n",
        "\n",
        "\n",
        "*   `tweet_id` should be a string not an integer\n",
        "\n",
        "\n",
        "\n",
        "\n",
        "\n",
        "\n",
        "\n",
        "\n",
        "\n"
      ]
    },
    {
      "cell_type": "markdown",
      "metadata": {
        "id": "6BF9Je7eNFNp"
      },
      "source": [
        "## **Clean the dataset**"
      ]
    },
    {
      "cell_type": "markdown",
      "metadata": {
        "id": "6Ar_IoRKsD-o"
      },
      "source": [
        " **Quality issues**"
      ]
    },
    {
      "cell_type": "code",
      "execution_count": null,
      "metadata": {
        "id": "mNdfSqSWkLHV"
      },
      "outputs": [],
      "source": [
        "df1_clean = df_1.copy()\n",
        "img_clean = df_image.copy()\n",
        "tweet_clean = df_tweet.copy()"
      ]
    },
    {
      "cell_type": "markdown",
      "metadata": {
        "id": "ML1O28MYepsM"
      },
      "source": [
        "**`tweet_id` should be a string not an integer**\n"
      ]
    },
    {
      "cell_type": "markdown",
      "metadata": {
        "id": "oIOOBCh9fw8C"
      },
      "source": [
        "**Define**\n",
        "\n",
        "convert the `tweet_id` datatype from 'int' to 'str' "
      ]
    },
    {
      "cell_type": "markdown",
      "metadata": {
        "id": "JqRiAYY0f1AJ"
      },
      "source": [
        "**Code**"
      ]
    },
    {
      "cell_type": "code",
      "execution_count": null,
      "metadata": {
        "id": "FHUgYn_Gf4aB"
      },
      "outputs": [],
      "source": [
        "df1_clean.tweet_id = df1_clean.tweet_id.astype(str)\n",
        "img_clean.tweet_id = df1_clean.tweet_id.astype(str)\n",
        "tweet_clean.tweet_id = tweet_clean.tweet_id.astype(str)"
      ]
    },
    {
      "cell_type": "markdown",
      "metadata": {
        "id": "uUMD_HfHq2ao"
      },
      "source": [
        "**Test**"
      ]
    },
    {
      "cell_type": "code",
      "execution_count": null,
      "metadata": {
        "colab": {
          "base_uri": "https://localhost:8080/"
        },
        "id": "NGzKS1Twq7lo",
        "outputId": "2582039a-c0e0-4b9d-ecea-4578f8fcc476"
      },
      "outputs": [
        {
          "output_type": "stream",
          "name": "stdout",
          "text": [
            "<class 'pandas.core.frame.DataFrame'>\n",
            "RangeIndex: 2356 entries, 0 to 2355\n",
            "Data columns (total 17 columns):\n",
            " #   Column                      Non-Null Count  Dtype  \n",
            "---  ------                      --------------  -----  \n",
            " 0   tweet_id                    2356 non-null   object \n",
            " 1   in_reply_to_status_id       78 non-null     float64\n",
            " 2   in_reply_to_user_id         78 non-null     float64\n",
            " 3   timestamp                   2356 non-null   object \n",
            " 4   source                      2356 non-null   object \n",
            " 5   text                        2356 non-null   object \n",
            " 6   retweeted_status_id         181 non-null    float64\n",
            " 7   retweeted_status_user_id    181 non-null    float64\n",
            " 8   retweeted_status_timestamp  181 non-null    object \n",
            " 9   expanded_urls               2297 non-null   object \n",
            " 10  rating_numerator            2356 non-null   int64  \n",
            " 11  rating_denominator          2356 non-null   int64  \n",
            " 12  name                        2356 non-null   object \n",
            " 13  doggo                       2356 non-null   object \n",
            " 14  floofer                     2356 non-null   object \n",
            " 15  pupper                      2356 non-null   object \n",
            " 16  puppo                       2356 non-null   object \n",
            "dtypes: float64(4), int64(2), object(11)\n",
            "memory usage: 313.0+ KB\n"
          ]
        }
      ],
      "source": [
        "df1_clean.info()"
      ]
    },
    {
      "cell_type": "code",
      "execution_count": null,
      "metadata": {
        "colab": {
          "base_uri": "https://localhost:8080/"
        },
        "id": "Juh51_nbq_XW",
        "outputId": "d698cba7-dc39-4532-96ac-653b4990c52d"
      },
      "outputs": [
        {
          "output_type": "stream",
          "name": "stdout",
          "text": [
            "<class 'pandas.core.frame.DataFrame'>\n",
            "RangeIndex: 2075 entries, 0 to 2074\n",
            "Data columns (total 12 columns):\n",
            " #   Column    Non-Null Count  Dtype  \n",
            "---  ------    --------------  -----  \n",
            " 0   tweet_id  2075 non-null   object \n",
            " 1   jpg_url   2075 non-null   object \n",
            " 2   img_num   2075 non-null   int64  \n",
            " 3   p1        2075 non-null   object \n",
            " 4   p1_conf   2075 non-null   float64\n",
            " 5   p1_dog    2075 non-null   bool   \n",
            " 6   p2        2075 non-null   object \n",
            " 7   p2_conf   2075 non-null   float64\n",
            " 8   p2_dog    2075 non-null   bool   \n",
            " 9   p3        2075 non-null   object \n",
            " 10  p3_conf   2075 non-null   float64\n",
            " 11  p3_dog    2075 non-null   bool   \n",
            "dtypes: bool(3), float64(3), int64(1), object(5)\n",
            "memory usage: 152.1+ KB\n"
          ]
        }
      ],
      "source": [
        "img_clean.info()"
      ]
    },
    {
      "cell_type": "code",
      "execution_count": null,
      "metadata": {
        "colab": {
          "base_uri": "https://localhost:8080/"
        },
        "id": "Y2Qifkw9rCmD",
        "outputId": "958b26e8-af1c-4b64-ebbc-bb821aaad6c6"
      },
      "outputs": [
        {
          "output_type": "stream",
          "name": "stdout",
          "text": [
            "<class 'pandas.core.frame.DataFrame'>\n",
            "RangeIndex: 2327 entries, 0 to 2326\n",
            "Data columns (total 3 columns):\n",
            " #   Column          Non-Null Count  Dtype \n",
            "---  ------          --------------  ----- \n",
            " 0   tweet_id        2327 non-null   object\n",
            " 1   retweet_count   2327 non-null   int64 \n",
            " 2   favorite_count  2327 non-null   int64 \n",
            "dtypes: int64(2), object(1)\n",
            "memory usage: 54.7+ KB\n"
          ]
        }
      ],
      "source": [
        "tweet_clean.info()"
      ]
    },
    {
      "cell_type": "markdown",
      "metadata": {
        "id": "dqbWKTOfrSVa"
      },
      "source": [
        "**`in_reply_to_status` has too many null values, and it is not relevant**"
      ]
    },
    {
      "cell_type": "markdown",
      "metadata": {
        "id": "Uc0Xc4LJsiOh"
      },
      "source": [
        "**Define**\n",
        "\n",
        "\n",
        "Drop the `in_reply_to_status_id` column in the `twiitter archive` table"
      ]
    },
    {
      "cell_type": "markdown",
      "metadata": {
        "id": "P8BskFQWs82i"
      },
      "source": [
        "**Code**"
      ]
    },
    {
      "cell_type": "code",
      "source": [
        "df1_clean = df1_clean[df1_clean.in_reply_to_status_id.isnull()]\n",
        "df1_clean.drop(columns=['in_reply_to_status_id'], inplace = True)"
      ],
      "metadata": {
        "colab": {
          "base_uri": "https://localhost:8080/"
        },
        "id": "NVmAq92yE1RA",
        "outputId": "543411ee-78eb-429c-f64f-87999d8ed0a2"
      },
      "execution_count": null,
      "outputs": [
        {
          "output_type": "stream",
          "name": "stderr",
          "text": [
            "/usr/local/lib/python3.7/dist-packages/pandas/core/frame.py:4913: SettingWithCopyWarning: \n",
            "A value is trying to be set on a copy of a slice from a DataFrame\n",
            "\n",
            "See the caveats in the documentation: https://pandas.pydata.org/pandas-docs/stable/user_guide/indexing.html#returning-a-view-versus-a-copy\n",
            "  errors=errors,\n"
          ]
        }
      ]
    },
    {
      "cell_type": "markdown",
      "metadata": {
        "id": "VKNEt_upt0oT"
      },
      "source": [
        "**Test**"
      ]
    },
    {
      "cell_type": "code",
      "execution_count": null,
      "metadata": {
        "colab": {
          "base_uri": "https://localhost:8080/"
        },
        "id": "ZyGdriUDt36_",
        "outputId": "334cc19e-3ba4-4037-cb4c-9b5a737caa40"
      },
      "outputs": [
        {
          "output_type": "stream",
          "name": "stdout",
          "text": [
            "<class 'pandas.core.frame.DataFrame'>\n",
            "Int64Index: 2278 entries, 0 to 2355\n",
            "Data columns (total 16 columns):\n",
            " #   Column                      Non-Null Count  Dtype  \n",
            "---  ------                      --------------  -----  \n",
            " 0   tweet_id                    2278 non-null   object \n",
            " 1   in_reply_to_user_id         0 non-null      float64\n",
            " 2   timestamp                   2278 non-null   object \n",
            " 3   source                      2278 non-null   object \n",
            " 4   text                        2278 non-null   object \n",
            " 5   retweeted_status_id         181 non-null    float64\n",
            " 6   retweeted_status_user_id    181 non-null    float64\n",
            " 7   retweeted_status_timestamp  181 non-null    object \n",
            " 8   expanded_urls               2274 non-null   object \n",
            " 9   rating_numerator            2278 non-null   int64  \n",
            " 10  rating_denominator          2278 non-null   int64  \n",
            " 11  name                        2278 non-null   object \n",
            " 12  doggo                       2278 non-null   object \n",
            " 13  floofer                     2278 non-null   object \n",
            " 14  pupper                      2278 non-null   object \n",
            " 15  puppo                       2278 non-null   object \n",
            "dtypes: float64(3), int64(2), object(11)\n",
            "memory usage: 302.5+ KB\n"
          ]
        }
      ],
      "source": [
        "df1_clean.info()"
      ]
    },
    {
      "cell_type": "markdown",
      "metadata": {
        "id": "dQ61WztjvQPW"
      },
      "source": [
        "**The `in_reply_to_user_id` column in twitter archive table is not very relevant**"
      ]
    },
    {
      "cell_type": "markdown",
      "metadata": {
        "id": "JjxvRgOh3oBr"
      },
      "source": [
        "**Define**\n",
        "\n",
        "Drop the `in_reply_to_user_id` column"
      ]
    },
    {
      "cell_type": "markdown",
      "metadata": {
        "id": "r3FSi7KP30_E"
      },
      "source": [
        "**Code**"
      ]
    },
    {
      "cell_type": "code",
      "execution_count": null,
      "metadata": {
        "id": "Q-2Unetn4DNB"
      },
      "outputs": [],
      "source": [
        "df1_clean.drop(columns=['in_reply_to_user_id'], inplace = True)"
      ]
    },
    {
      "cell_type": "markdown",
      "metadata": {
        "id": "1fg1CF5X4BXu"
      },
      "source": [
        "**Test**"
      ]
    },
    {
      "cell_type": "code",
      "execution_count": null,
      "metadata": {
        "colab": {
          "base_uri": "https://localhost:8080/"
        },
        "id": "VHGCIDN093zV",
        "outputId": "b68489f1-0311-48ba-b201-53495fba723d"
      },
      "outputs": [
        {
          "output_type": "stream",
          "name": "stdout",
          "text": [
            "<class 'pandas.core.frame.DataFrame'>\n",
            "Int64Index: 2278 entries, 0 to 2355\n",
            "Data columns (total 15 columns):\n",
            " #   Column                      Non-Null Count  Dtype  \n",
            "---  ------                      --------------  -----  \n",
            " 0   tweet_id                    2278 non-null   object \n",
            " 1   timestamp                   2278 non-null   object \n",
            " 2   source                      2278 non-null   object \n",
            " 3   text                        2278 non-null   object \n",
            " 4   retweeted_status_id         181 non-null    float64\n",
            " 5   retweeted_status_user_id    181 non-null    float64\n",
            " 6   retweeted_status_timestamp  181 non-null    object \n",
            " 7   expanded_urls               2274 non-null   object \n",
            " 8   rating_numerator            2278 non-null   int64  \n",
            " 9   rating_denominator          2278 non-null   int64  \n",
            " 10  name                        2278 non-null   object \n",
            " 11  doggo                       2278 non-null   object \n",
            " 12  floofer                     2278 non-null   object \n",
            " 13  pupper                      2278 non-null   object \n",
            " 14  puppo                       2278 non-null   object \n",
            "dtypes: float64(2), int64(2), object(11)\n",
            "memory usage: 284.8+ KB\n"
          ]
        }
      ],
      "source": [
        "df1_clean.info()"
      ]
    },
    {
      "cell_type": "markdown",
      "metadata": {
        "id": "X3YKUULU_g52"
      },
      "source": [
        "**The `retweeted_status_id` column has a lot of null values and is not very relevant to the dataset**"
      ]
    },
    {
      "cell_type": "markdown",
      "metadata": {
        "id": "-HBV_NGRAgij"
      },
      "source": [
        "**Define**\n",
        "\n",
        "drop the `retweeted_status_id` column"
      ]
    },
    {
      "cell_type": "markdown",
      "metadata": {
        "id": "S9It-8kKAoOQ"
      },
      "source": [
        "**Code**"
      ]
    },
    {
      "cell_type": "code",
      "execution_count": null,
      "metadata": {
        "id": "add7y0T2tF54"
      },
      "outputs": [],
      "source": [
        "df1_clean = df1_clean[df1_clean.retweeted_status_id.isnull()]"
      ]
    },
    {
      "cell_type": "code",
      "execution_count": null,
      "metadata": {
        "id": "lBB_S57iAnXK"
      },
      "outputs": [],
      "source": [
        "df1_clean.drop(columns=['retweeted_status_id'], inplace = True)"
      ]
    },
    {
      "cell_type": "markdown",
      "metadata": {
        "id": "qct2bh3NA4ls"
      },
      "source": [
        "**Test**"
      ]
    },
    {
      "cell_type": "code",
      "execution_count": null,
      "metadata": {
        "colab": {
          "base_uri": "https://localhost:8080/"
        },
        "id": "g-C8vymHBCSk",
        "outputId": "d2705b08-dfee-4db6-8731-881c5a2dfa4d"
      },
      "outputs": [
        {
          "output_type": "stream",
          "name": "stdout",
          "text": [
            "<class 'pandas.core.frame.DataFrame'>\n",
            "Int64Index: 2097 entries, 0 to 2355\n",
            "Data columns (total 14 columns):\n",
            " #   Column                      Non-Null Count  Dtype  \n",
            "---  ------                      --------------  -----  \n",
            " 0   tweet_id                    2097 non-null   object \n",
            " 1   timestamp                   2097 non-null   object \n",
            " 2   source                      2097 non-null   object \n",
            " 3   text                        2097 non-null   object \n",
            " 4   retweeted_status_user_id    0 non-null      float64\n",
            " 5   retweeted_status_timestamp  0 non-null      object \n",
            " 6   expanded_urls               2094 non-null   object \n",
            " 7   rating_numerator            2097 non-null   int64  \n",
            " 8   rating_denominator          2097 non-null   int64  \n",
            " 9   name                        2097 non-null   object \n",
            " 10  doggo                       2097 non-null   object \n",
            " 11  floofer                     2097 non-null   object \n",
            " 12  pupper                      2097 non-null   object \n",
            " 13  puppo                       2097 non-null   object \n",
            "dtypes: float64(1), int64(2), object(11)\n",
            "memory usage: 245.7+ KB\n"
          ]
        }
      ],
      "source": [
        "df1_clean.info()"
      ]
    },
    {
      "cell_type": "markdown",
      "metadata": {
        "id": "2Sl_M3f-U0Jf"
      },
      "source": [
        "**The `retweeted_status_user_id` column has a lot of null values and should be dropped**"
      ]
    },
    {
      "cell_type": "markdown",
      "metadata": {
        "id": "zRciynn4ZKPd"
      },
      "source": [
        "**Define**\n",
        "\n",
        "drop the `retweeted_status_user_id` column"
      ]
    },
    {
      "cell_type": "markdown",
      "metadata": {
        "id": "ZZxVAHr7dLMS"
      },
      "source": [
        "**Code**"
      ]
    },
    {
      "cell_type": "code",
      "execution_count": null,
      "metadata": {
        "id": "9jYzW8bFdONa"
      },
      "outputs": [],
      "source": [
        "df1_clean.drop(columns=['retweeted_status_user_id'], inplace = True)"
      ]
    },
    {
      "cell_type": "markdown",
      "metadata": {
        "id": "pfIwZUJ2dYWL"
      },
      "source": [
        "**Test**"
      ]
    },
    {
      "cell_type": "code",
      "execution_count": null,
      "metadata": {
        "colab": {
          "base_uri": "https://localhost:8080/"
        },
        "id": "5yrOMJYvdc3l",
        "outputId": "a29d2a06-bed8-4be7-9dcd-88fe957b202a"
      },
      "outputs": [
        {
          "output_type": "stream",
          "name": "stdout",
          "text": [
            "<class 'pandas.core.frame.DataFrame'>\n",
            "Int64Index: 2097 entries, 0 to 2355\n",
            "Data columns (total 13 columns):\n",
            " #   Column                      Non-Null Count  Dtype \n",
            "---  ------                      --------------  ----- \n",
            " 0   tweet_id                    2097 non-null   object\n",
            " 1   timestamp                   2097 non-null   object\n",
            " 2   source                      2097 non-null   object\n",
            " 3   text                        2097 non-null   object\n",
            " 4   retweeted_status_timestamp  0 non-null      object\n",
            " 5   expanded_urls               2094 non-null   object\n",
            " 6   rating_numerator            2097 non-null   int64 \n",
            " 7   rating_denominator          2097 non-null   int64 \n",
            " 8   name                        2097 non-null   object\n",
            " 9   doggo                       2097 non-null   object\n",
            " 10  floofer                     2097 non-null   object\n",
            " 11  pupper                      2097 non-null   object\n",
            " 12  puppo                       2097 non-null   object\n",
            "dtypes: int64(2), object(11)\n",
            "memory usage: 229.4+ KB\n"
          ]
        }
      ],
      "source": [
        "df1_clean.info()"
      ]
    },
    {
      "cell_type": "markdown",
      "metadata": {
        "id": "6jEviB_dB3QL"
      },
      "source": [
        "**The `retweeted_status_timestamp` column has a lot of null values and should be dropped**"
      ]
    },
    {
      "cell_type": "markdown",
      "metadata": {
        "id": "PkvEQM1LCwBd"
      },
      "source": [
        "**Define**\n",
        "\n",
        "drop the `retweeted_status_timestamp` column\n"
      ]
    },
    {
      "cell_type": "markdown",
      "metadata": {
        "id": "i35pU3omUQCq"
      },
      "source": [
        "**Code**"
      ]
    },
    {
      "cell_type": "code",
      "execution_count": null,
      "metadata": {
        "id": "CGpm0kmPUbXi"
      },
      "outputs": [],
      "source": [
        "df1_clean.drop(columns=['retweeted_status_timestamp'], inplace = True)"
      ]
    },
    {
      "cell_type": "markdown",
      "metadata": {
        "id": "u-pFnXXsUjbk"
      },
      "source": [
        "**Test**"
      ]
    },
    {
      "cell_type": "code",
      "execution_count": null,
      "metadata": {
        "colab": {
          "base_uri": "https://localhost:8080/"
        },
        "id": "J3EXuxxaUoFJ",
        "outputId": "03073137-a11f-4aa2-8311-d7f51435aba9"
      },
      "outputs": [
        {
          "output_type": "stream",
          "name": "stdout",
          "text": [
            "<class 'pandas.core.frame.DataFrame'>\n",
            "Int64Index: 2097 entries, 0 to 2355\n",
            "Data columns (total 12 columns):\n",
            " #   Column              Non-Null Count  Dtype \n",
            "---  ------              --------------  ----- \n",
            " 0   tweet_id            2097 non-null   object\n",
            " 1   timestamp           2097 non-null   object\n",
            " 2   source              2097 non-null   object\n",
            " 3   text                2097 non-null   object\n",
            " 4   expanded_urls       2094 non-null   object\n",
            " 5   rating_numerator    2097 non-null   int64 \n",
            " 6   rating_denominator  2097 non-null   int64 \n",
            " 7   name                2097 non-null   object\n",
            " 8   doggo               2097 non-null   object\n",
            " 9   floofer             2097 non-null   object\n",
            " 10  pupper              2097 non-null   object\n",
            " 11  puppo               2097 non-null   object\n",
            "dtypes: int64(2), object(10)\n",
            "memory usage: 213.0+ KB\n"
          ]
        }
      ],
      "source": [
        "df1_clean.info()"
      ]
    },
    {
      "cell_type": "markdown",
      "metadata": {
        "id": "WgWB8LbcjszJ"
      },
      "source": [
        "**The `timestamp` column should be properly parsed**"
      ]
    },
    {
      "cell_type": "markdown",
      "metadata": {
        "id": "wAFOCM9bj4-_"
      },
      "source": [
        "**Define**\n",
        "\n",
        "use the astype method to convert the `timestamp` column to datatype \"datetime64[ns]\""
      ]
    },
    {
      "cell_type": "markdown",
      "metadata": {
        "id": "AVuRRXx2kzxA"
      },
      "source": [
        "**Code**"
      ]
    },
    {
      "cell_type": "code",
      "execution_count": null,
      "metadata": {
        "id": "IpmrUaL8e_w6"
      },
      "outputs": [],
      "source": [
        "df1_clean.timestamp = df1_clean.timestamp.astype('datetime64[ns]')"
      ]
    },
    {
      "cell_type": "markdown",
      "metadata": {
        "id": "lbgDQASnhB3Y"
      },
      "source": [
        "**Test**"
      ]
    },
    {
      "cell_type": "code",
      "execution_count": null,
      "metadata": {
        "colab": {
          "base_uri": "https://localhost:8080/"
        },
        "id": "gocMhrsDhBkH",
        "outputId": "ac42ebc5-0189-452e-ec09-8c8896366b54"
      },
      "outputs": [
        {
          "output_type": "execute_result",
          "data": {
            "text/plain": [
              "tweet_id                      object\n",
              "timestamp             datetime64[ns]\n",
              "source                        object\n",
              "text                          object\n",
              "expanded_urls                 object\n",
              "rating_numerator               int64\n",
              "rating_denominator             int64\n",
              "name                          object\n",
              "doggo                         object\n",
              "floofer                       object\n",
              "pupper                        object\n",
              "puppo                         object\n",
              "dtype: object"
            ]
          },
          "metadata": {},
          "execution_count": 42
        }
      ],
      "source": [
        "df1_clean.dtypes"
      ]
    },
    {
      "cell_type": "markdown",
      "metadata": {
        "id": "7KioLRJNkoWE"
      },
      "source": [
        "**The \"_\" in the p1, p2, p3 columns should be removed**"
      ]
    },
    {
      "cell_type": "markdown",
      "metadata": {
        "id": "o5PObHANktaM"
      },
      "source": [
        "**Define**"
      ]
    },
    {
      "cell_type": "markdown",
      "metadata": {
        "id": "QXU4hDAwkxWm"
      },
      "source": [
        "Use the string replace method, \"str.replace()\" and replace all \"_\" with \" \""
      ]
    },
    {
      "cell_type": "markdown",
      "metadata": {
        "id": "ZBt1V219l7ku"
      },
      "source": [
        "**Code**"
      ]
    },
    {
      "cell_type": "code",
      "execution_count": null,
      "metadata": {
        "id": "uLpw23t9L3h1"
      },
      "outputs": [],
      "source": [
        "img_clean.p1 = img_clean.p1.str.replace(\"_\", \" \")\n",
        "\n",
        "img_clean.p2 = img_clean.p2.str.replace(\"_\", \" \")\n",
        "\n",
        "img_clean.p3 = img_clean.p3.str.replace(\"_\", \" \")\n"
      ]
    },
    {
      "cell_type": "markdown",
      "metadata": {
        "id": "6RMCn9Rul7g_"
      },
      "source": [
        "**Test**"
      ]
    },
    {
      "cell_type": "code",
      "execution_count": null,
      "metadata": {
        "colab": {
          "base_uri": "https://localhost:8080/"
        },
        "id": "rrJW0TT_kn1S",
        "outputId": "7daf84be-24af-4f77-9add-941e1b5e470d"
      },
      "outputs": [
        {
          "output_type": "execute_result",
          "data": {
            "text/plain": [
              "0       Welsh springer spaniel\n",
              "1                      redbone\n",
              "2              German shepherd\n",
              "3          Rhodesian ridgeback\n",
              "4           miniature pinscher\n",
              "                 ...          \n",
              "2070                    basset\n",
              "2071               paper towel\n",
              "2072                 Chihuahua\n",
              "2073                 Chihuahua\n",
              "2074                    orange\n",
              "Name: p1, Length: 2075, dtype: object"
            ]
          },
          "metadata": {},
          "execution_count": 44
        }
      ],
      "source": [
        "img_clean.p1"
      ]
    },
    {
      "cell_type": "markdown",
      "metadata": {
        "id": "q849q61HmY2y"
      },
      "source": [
        "**There are inconsistencies in the spelling of predicted breeds in the `p1`, `p2`, and `p3`columns. Convert to predicted breeds in these columns to title case**"
      ]
    },
    {
      "cell_type": "markdown",
      "metadata": {
        "id": "qeFEpkEZmfFr"
      },
      "source": [
        "**Define**"
      ]
    },
    {
      "cell_type": "markdown",
      "metadata": {
        "id": "UyLBq5QZmhWm"
      },
      "source": [
        "Use the string method \"title()\" to change all dog breeds to title case in the `p1`, `p2`, `p3` columns"
      ]
    },
    {
      "cell_type": "markdown",
      "metadata": {
        "id": "ZZWtEVWNnOjG"
      },
      "source": [
        "**Code**"
      ]
    },
    {
      "cell_type": "code",
      "execution_count": null,
      "metadata": {
        "id": "ztpCNmX04qz-"
      },
      "outputs": [],
      "source": [
        "img_clean.p1 = img_clean.p1.str.title()\n",
        "img_clean.p2 = img_clean.p2.str.title()\n",
        "img_clean.p3 = img_clean.p3.str.title()"
      ]
    },
    {
      "cell_type": "markdown",
      "metadata": {
        "id": "YY-fPpoZnTYP"
      },
      "source": [
        "**Test**"
      ]
    },
    {
      "cell_type": "code",
      "execution_count": null,
      "metadata": {
        "colab": {
          "base_uri": "https://localhost:8080/"
        },
        "id": "9UlxFJBenV5s",
        "outputId": "38a8ff78-c04d-4114-a50c-52d77c68ee5c"
      },
      "outputs": [
        {
          "output_type": "execute_result",
          "data": {
            "text/plain": [
              "0       Welsh Springer Spaniel\n",
              "1                      Redbone\n",
              "2              German Shepherd\n",
              "3          Rhodesian Ridgeback\n",
              "4           Miniature Pinscher\n",
              "                 ...          \n",
              "2070                    Basset\n",
              "2071               Paper Towel\n",
              "2072                 Chihuahua\n",
              "2073                 Chihuahua\n",
              "2074                    Orange\n",
              "Name: p1, Length: 2075, dtype: object"
            ]
          },
          "metadata": {},
          "execution_count": 46
        }
      ],
      "source": [
        "img_clean.p1"
      ]
    },
    {
      "cell_type": "markdown",
      "metadata": {
        "id": "pmHDUG9SzGEp"
      },
      "source": [
        "**some of the names in the `p1`, `p2`, `p3` columns are not names for dog breeds**"
      ]
    },
    {
      "cell_type": "markdown",
      "metadata": {
        "id": "Rc_G-UEnzJCt"
      },
      "source": [
        "**Define**"
      ]
    },
    {
      "cell_type": "markdown",
      "metadata": {
        "id": "TZb0ug8czL1L"
      },
      "source": [
        "Extract the unique values for dog breeds in one of the Algorithm columns, eg, `p1`, and remove all the values that do not represent a dog breed, eg, \"Pillow\"."
      ]
    },
    {
      "cell_type": "markdown",
      "metadata": {
        "id": "NE4OUBFt426b"
      },
      "source": [
        "**Code**"
      ]
    },
    {
      "cell_type": "code",
      "execution_count": null,
      "metadata": {
        "id": "oIoSEddW445U"
      },
      "outputs": [],
      "source": [
        "p1_breeds = img_clean.p1.unique()"
      ]
    },
    {
      "cell_type": "markdown",
      "metadata": {
        "id": "1G52gEZMaY_T"
      },
      "source": [
        "**Test**"
      ]
    },
    {
      "cell_type": "code",
      "execution_count": null,
      "metadata": {
        "id": "Y2aLNEuxM5mH"
      },
      "outputs": [],
      "source": [
        "#copy all the unique values fro p1_breeds manually, and remove items that do not represent a dog breed\n",
        "\n",
        "breed_list = ['Welsh Springer Spaniel', 'Redbone', 'German Shepherd', 'Boxer', 'Cardigan'\n",
        "              'Rhodesian Ridgeback', 'Miniature Pinscher', 'Rhodesian Ridgeback'\n",
        "              'Bernese Mountain Dog', 'Chow', \n",
        "              'Miniature Poodle', 'Golden Retriever', 'Gordon Setter',\n",
        "              'Walker Hound', 'Pug', 'Bloodhound', 'Lhasa', 'English Setter',\n",
        "              'Italian Greyhound', 'Maltese Dog',\n",
        "              'Malamute',\n",
        "              'Soft-Coated Wheaten Terrier', 'Chihuahua',\n",
        "              'Black-And-Tan Coonhound', 'Coho', 'Toy Terrier',\n",
        "              'Blenheim Spaniel', 'Pembroke',\n",
        "              'Chesapeake Bay Retriever', 'Curly-Coated Retriever', 'Dalmatian',\n",
        "              'Ibizan Hound', 'Border Collie', 'Labrador Retriever',\n",
        "              'Miniature Schnauzer', 'Airedale', 'West Highland White Terrier',\n",
        "              'Toy Poodle', 'Giant Schnauzer', 'Vizsla', 'Rottweiler',\n",
        "              'Siberian Husky', 'Papillon', 'Saint Bernard', 'Tibetan Terrier', 'Borzoi', 'Beagle', 'Yorkshire Terrier', \n",
        "              'Pomeranian', 'Kuvasz',\n",
        "              'Flat-Coated Retriever',\n",
        "              'Norwegian Elkhound', 'Standard Poodle',\n",
        "              'Staffordshire Bullterrier', 'Basenji', 'Lakeland Terrier',\n",
        "              'American Staffordshire Terrier', 'Shih-Tzu', 'French Bulldog', 'Pekinese',\n",
        "              'Komondor', 'Malinois', 'Kelpie', 'Brittany Spaniel',\n",
        "              'Cocker Spaniel', 'Basset', 'Brabancon Griffon', 'Eskimo Dog', 'Irish Wolfhound'\n",
        "              'German Short-Haired Pointer', 'Shetland Sheepdog',\n",
        "              'Irish Terrier', 'Cairn', 'English Springer',\n",
        "              'Whippet', 'Sussex Spaniel',\n",
        "              'Peacock', 'Dandie Dinmont',\n",
        "              'Norwich Terrier', 'Dhole', 'Keeshond',\n",
        "              'Norfolk Terrier', 'Dingo', 'Old English Sheepdog', 'Samoyed', 'African Hunting Dog', 'Doberman', 'Schipperke', 'Bull Mastiff', 'Collie',\n",
        "              'Greater Swiss Mountain Dog',\n",
        "              'Scottish Deerhound', 'Standard Schnauzer', 'Irish Water Spaniel', 'Boston Bull',\n",
        "              'Japanese Spaniel', 'Entlebucher', 'Irish Setter', 'Leonberg',\n",
        "              'Weimaraner', 'White Wolf', 'Great Dane', 'Tibetan Mastiff', 'Scotch Terrier',\n",
        "              'Mexican Hairless',\n",
        "              'Groenendael', 'Australian Terrier', 'Briard',\n",
        "              'Appenzeller',\n",
        "              'Border Terrier', 'Timber Wolf', 'Bedlington Terrier',\n",
        "              'Wire-Haired Fox Terrier', 'Saluki', 'Silky Terrier', 'Afghan Hound', 'Clumber',\n",
        "              ]"
      ]
    },
    {
      "cell_type": "markdown",
      "metadata": {
        "id": "Tg_rc70_ZojO"
      },
      "source": [
        "**`p1`, `p1_conf`, `p1_dog`, `p2`, `p2_conf`, `p2_dog`, `p3`, `p3_conf`, and `p3_dog` columns from the *`image_predictions`* should really be 2 columns (`breed`, and `best_algo`)** \n",
        "\n",
        "**Define**\n",
        "\n",
        "\n",
        "\n",
        "*   Create a function that melts and transform all the agorithm columns into a single column, where each selection represents the best possible algorith for the predicted breed.\n",
        "\n",
        "\n",
        "*   Create 3 new dataframes `df_2`, `df_3`, `df_unknown`. `df_2` and `df_3` are masks to cover areas where the `p1` algorithm fails to predict the correct dog breed, but `p2` or `p3` predicts the correct dog breed. The `df_unknown` dataframe contains events where all three algorithms fail to predict the right dog breeds\n",
        "\n",
        "*   Create \"breed\" columns in `df_2` and `df_3`\n",
        "\n",
        "*   Drop `p1`, `p1_conf`, `p1_dog`, `p2_conf`, `p2_dog`, `p3`, `p3_conf`, `p3_dog` in both `df_2` and `df_3`\n",
        "\n",
        "*   Create `algo` columns in `df_2`, `df_3` and `df_unknown`\n",
        "*   Use the pd.concat method and join the `df`, `df_p2`, and `df_p3` together\n",
        "\n",
        "\n",
        "\n",
        "\n",
        "\n",
        "\n"
      ]
    },
    {
      "cell_type": "markdown",
      "metadata": {
        "id": "VnIQZyXjdmqR"
      },
      "source": [
        "**Code**"
      ]
    },
    {
      "cell_type": "code",
      "execution_count": null,
      "metadata": {
        "id": "h-b-vjuczOdW"
      },
      "outputs": [],
      "source": [
        "def melt(dataframe):\n",
        "  \n",
        "  #instantiate the columns from the image predictions table\n",
        "\n",
        "  tweet_id = img_clean.tweet_id\n",
        "  jpg_url = img_clean.jpg_url\n",
        "  img_num = img_clean.img_num\n",
        "\n",
        "  #instantiate the p1, p2 and p3 algorithms\n",
        "  p1 = img_clean.p1.values\n",
        "  p2 = img_clean.p2.values\n",
        "  p3 = img_clean.p3.values\n",
        "\n",
        "  #instantiate the prediction score for each algorithm\n",
        "  p1_conf = img_clean.p1_conf.values\n",
        "  p2_conf = img_clean.p2_conf.values\n",
        "  p3_conf = img_clean.p3_conf.values\n",
        "\n",
        "  #instantiate the dog breed prediction of each algorithm\n",
        "  p1_dog = img_clean.p1_dog.values\n",
        "  p2_dog = img_clean.p2_dog.values\n",
        "  p3_dog = img_clean.p3_dog.values\n",
        "\n",
        "  #create an empty list to store each dog prediction from the p1 algorithm\n",
        "  p1_breed = []\n",
        "\n",
        "  #zip all the varibles above, and iterate through with a for loop\n",
        "  for i, v in enumerate(zip(tweet_id, jpg_url, img_num, p1, p1_conf, p1_dog, p2, p2_conf, p2_dog, p3, p3_conf, p3_dog)):\n",
        "    if p1[i] in breed_list:\n",
        "      if p1_conf[i]> p2_conf[i] and p1_conf[i] > p3_conf[i]:\n",
        "        p1_breed.append(v)\n",
        "\n",
        "  #store the results from the for loop in a dataframe object\n",
        "  df = pd.DataFrame(p1_breed, columns = [\"tweet_id\", \"jpg_url\", \"img_num\", \"p1\", \"p1_conf\", \"p1_dog\",\n",
        "                                          \"p2\", \"p2_conf\", \"p2_dog\", \"p3\", \"p3_conf\", \"p3_dog\"])\n",
        "  \n",
        "  #rename 'p1' \n",
        "  df = df.rename(columns = {'p1':'breed'})\n",
        "\n",
        "  #drop all the extra columns\n",
        "  df.drop(columns=[\"p1_conf\", \"p1_dog\", \"p2\", \"p2_conf\", \"p2_dog\", \"p3\", \"p3_conf\", \"p3_dog\"], inplace = True)\n",
        "\n",
        "  #create a new column \"algo\"\n",
        "  algo = np.repeat(\"p1\", df.shape[0])\n",
        "  df[\"algo\"] = algo     \n",
        "  \n",
        "  #select the True values of 'p2' and 'p3', as well as values where each algorithm fails to predict a dog breed\n",
        "  df_p2 = img_clean[(img_clean.p1_dog == False) & (img_clean.p2_dog == True) & (img_clean.p3_dog == False)]\n",
        "  df_p3 = img_clean[(img_clean.p1_dog == False) & (img_clean.p2_dog == False) & (img_clean.p3_dog == True)]\n",
        "  df_unknown = img_clean[(img_clean.p1_dog == False) & (img_clean.p2_dog == False) & (img_clean.p3_dog == False)]\n",
        "\n",
        "  #rename p2 and p3\n",
        "  df_p2 = df_p2.rename(columns = {'p2':'breed'})\n",
        "  df_p3 = df_p3.rename(columns = {'p3':'breed'})\n",
        "\n",
        "  #drop all the extra, untidy columns\n",
        "  df_p2.drop(columns=[\"p1\", \"p1_conf\", \"p1_dog\", \"p2_conf\", \"p2_dog\", \"p3\", \"p3_conf\", \"p3_dog\"], inplace = True)\n",
        "  df_p3.drop(columns=[\"p1\", \"p1_conf\", \"p1_dog\", \"p2\", \"p2_conf\", \"p2_dog\", \"p3_conf\", \"p3_dog\"], inplace = True)\n",
        "  df_unknown.drop(columns=[\"p1\", \"p1_conf\", \"p1_dog\", \"p2\", \"p2_conf\", \"p2_dog\", \"p3\", \"p3_conf\", \"p3_dog\"], inplace = True)\n",
        "\n",
        "  #create algo columns for df_p2, and df_p3\n",
        "  algo1 = np.repeat(\"p2\", df_p2.shape[0])\n",
        "  df_p2[\"algo\"] = algo1\n",
        "\n",
        "  algo2 = np.repeat(\"p3\", df_p3.shape[0])\n",
        "  df_p3[\"algo\"] = algo2\n",
        "\n",
        "  algo3 = np.repeat(\"unknown\", df_unknown.shape[0])\n",
        "  df_unknown[\"algo\"] = algo3\n",
        "\n",
        "  #merge all the dataframes\n",
        "  img_melted = pd.concat([df, df_p2, df_p3, df_unknown], ignore_index = True)\n",
        "\n",
        "  return img_melted"
      ]
    },
    {
      "cell_type": "markdown",
      "metadata": {
        "id": "hIGyYl6Aj_MB"
      },
      "source": [
        "**Test**"
      ]
    },
    {
      "cell_type": "code",
      "execution_count": null,
      "metadata": {
        "id": "qQQGSc3b74wx"
      },
      "outputs": [],
      "source": [
        "df = melt(img_clean)"
      ]
    },
    {
      "cell_type": "code",
      "source": [
        "df.info()"
      ],
      "metadata": {
        "colab": {
          "base_uri": "https://localhost:8080/"
        },
        "id": "Xygzg3g6Hh6S",
        "outputId": "0160323d-3e1a-4730-c960-31ff62dd6918"
      },
      "execution_count": null,
      "outputs": [
        {
          "output_type": "stream",
          "name": "stdout",
          "text": [
            "<class 'pandas.core.frame.DataFrame'>\n",
            "RangeIndex: 1928 entries, 0 to 1927\n",
            "Data columns (total 5 columns):\n",
            " #   Column    Non-Null Count  Dtype \n",
            "---  ------    --------------  ----- \n",
            " 0   tweet_id  1928 non-null   object\n",
            " 1   jpg_url   1928 non-null   object\n",
            " 2   img_num   1928 non-null   int64 \n",
            " 3   breed     1604 non-null   object\n",
            " 4   algo      1928 non-null   object\n",
            "dtypes: int64(1), object(4)\n",
            "memory usage: 75.4+ KB\n"
          ]
        }
      ]
    },
    {
      "cell_type": "markdown",
      "metadata": {
        "id": "VeFa_C2WdvQ4"
      },
      "source": [
        "**Tidiness**"
      ]
    },
    {
      "cell_type": "markdown",
      "metadata": {
        "id": "YUl4i2lnjkX_"
      },
      "source": [
        "\n",
        "\n",
        "**The `doggo`, `floofer`, `pupper`, and `puppo` colums from the *twitter_archive* table should be melted into one `label` column. In this case, I decided that since most of the values in these columns had _\"None\"_ as their values, it is better to drop these columns** **entirely**\n",
        "\n",
        "\n",
        "\n",
        "\n",
        "\n"
      ]
    },
    {
      "cell_type": "markdown",
      "metadata": {
        "id": "wVNL38I6kW97"
      },
      "source": [
        "**Define**\n",
        "\n",
        "\n",
        "*   Merge the `doggo`, `floofer`, `pupper`, and `puppo` columns into a single column\n"
      ]
    },
    {
      "cell_type": "markdown",
      "metadata": {
        "id": "WnnVlBnQDUCm"
      },
      "source": [
        "**Code**"
      ]
    },
    {
      "cell_type": "code",
      "execution_count": null,
      "metadata": {
        "id": "KW3oME5BA5-N"
      },
      "outputs": [],
      "source": [
        "#df1.drop(columns=['doggo', 'floofer', 'pupper', 'puppo'], inplace = True)\n",
        "\n",
        "# First replace None in stage columns with empty string as follows.\n",
        "df1_clean.doggo.replace('None', '', inplace=True)  # Like this do replacements for all four stages\n",
        "df1_clean.floofer.replace('None', '', inplace=True)\n",
        "df1_clean.pupper.replace('None', '', inplace=True)\n",
        "df1_clean.puppo.replace('None', '', inplace=True)\n",
        "\n",
        "# Then combine stage columns.\n",
        "df1_clean['stage'] = df1_clean.doggo + df1_clean.floofer + df1_clean.pupper + df1_clean.puppo\n",
        "\n",
        "# Then format entries with multiple dog stages which appeared like doggopupper.\n",
        "\n",
        "df1_clean.loc[df1_clean.stage == 'doggopupper', 'stage'] = 'doggo,pupper' \n",
        "df1_clean.loc[df1_clean.stage == 'doggopuppo', 'stage'] = 'doggo,puppo' \n",
        "df1_clean.loc[df1_clean.stage == 'doggofloofer', 'stage'] = 'doggo,floofer'\n",
        "\n",
        "df1_clean.drop(columns=['doggo', 'floofer', 'pupper', 'puppo'], inplace = True)"
      ]
    },
    {
      "cell_type": "markdown",
      "metadata": {
        "id": "zbZ6iDeYDHzx"
      },
      "source": [
        "**Test**"
      ]
    },
    {
      "cell_type": "code",
      "execution_count": null,
      "metadata": {
        "colab": {
          "base_uri": "https://localhost:8080/"
        },
        "id": "BAidcGAjDHdO",
        "outputId": "3d2165c7-b3bf-4aac-e24d-f0bbacf3f280"
      },
      "outputs": [
        {
          "output_type": "execute_result",
          "data": {
            "text/plain": [
              "Index(['tweet_id', 'timestamp', 'source', 'text', 'expanded_urls',\n",
              "       'rating_numerator', 'rating_denominator', 'name', 'stage'],\n",
              "      dtype='object')"
            ]
          },
          "metadata": {},
          "execution_count": 51
        }
      ],
      "source": [
        "df1_clean.columns"
      ]
    },
    {
      "cell_type": "markdown",
      "metadata": {
        "id": "nb-cKfIJm5Xy"
      },
      "source": [
        "**Add the additional data from the twitter API to the *twitter archive* table**"
      ]
    },
    {
      "cell_type": "markdown",
      "metadata": {
        "id": "AaIzGeYwnLVT"
      },
      "source": [
        "**Define**"
      ]
    },
    {
      "cell_type": "markdown",
      "metadata": {
        "id": "mQD3-i9UpScj"
      },
      "source": [
        "Use the \"join' method to merge the additional data from thw twiiter API to the twitter archive"
      ]
    },
    {
      "cell_type": "markdown",
      "metadata": {
        "id": "InSOMgignhzR"
      },
      "source": [
        "**Code**"
      ]
    },
    {
      "cell_type": "code",
      "execution_count": null,
      "metadata": {
        "id": "fDbcZYq8gtp-"
      },
      "outputs": [],
      "source": [
        "twitter_archive_master = df1_clean.join(tweet_clean.set_index('tweet_id'), on= 'tweet_id', how ='inner')"
      ]
    },
    {
      "cell_type": "markdown",
      "metadata": {
        "id": "qeYVv67XnlkR"
      },
      "source": [
        "**Test**"
      ]
    },
    {
      "cell_type": "code",
      "execution_count": null,
      "metadata": {
        "colab": {
          "base_uri": "https://localhost:8080/"
        },
        "id": "fbyIklYSqPZi",
        "outputId": "cd8d6f6d-b395-46ef-ba7d-4f57f89fdcc7"
      },
      "outputs": [
        {
          "output_type": "stream",
          "name": "stdout",
          "text": [
            "<class 'pandas.core.frame.DataFrame'>\n",
            "Int64Index: 2089 entries, 0 to 2355\n",
            "Data columns (total 11 columns):\n",
            " #   Column              Non-Null Count  Dtype         \n",
            "---  ------              --------------  -----         \n",
            " 0   tweet_id            2089 non-null   object        \n",
            " 1   timestamp           2089 non-null   datetime64[ns]\n",
            " 2   source              2089 non-null   object        \n",
            " 3   text                2089 non-null   object        \n",
            " 4   expanded_urls       2086 non-null   object        \n",
            " 5   rating_numerator    2089 non-null   int64         \n",
            " 6   rating_denominator  2089 non-null   int64         \n",
            " 7   name                2089 non-null   object        \n",
            " 8   stage               2089 non-null   object        \n",
            " 9   retweet_count       2089 non-null   int64         \n",
            " 10  favorite_count      2089 non-null   int64         \n",
            "dtypes: datetime64[ns](1), int64(4), object(6)\n",
            "memory usage: 195.8+ KB\n"
          ]
        }
      ],
      "source": [
        "twitter_archive_master.info()"
      ]
    },
    {
      "cell_type": "markdown",
      "metadata": {
        "id": "pIkw_XAWt62M"
      },
      "source": [
        "## **Storing the data**"
      ]
    },
    {
      "cell_type": "code",
      "execution_count": null,
      "metadata": {
        "id": "SMEBMxQHqhqn"
      },
      "outputs": [],
      "source": [
        "twitter_archive_master.to_csv(\"twitter_archive_master.csv\", index = False)\n",
        "twitter_image_master = df\n",
        "twitter_image_master.to_csv(\"twitter_image_master.csv\",index =False)\n",
        "tweet_clean.to_csv(\"tweet.csv\", index =False)"
      ]
    },
    {
      "cell_type": "markdown",
      "metadata": {
        "id": "GmKLPmsTE0f9"
      },
      "source": [
        "## **Analyzing and Visualizing Data**\n",
        "\n",
        "In this section, the goal is to derive insights from the cleaned datasets. \n",
        "\n",
        "### **Insights**\n",
        "*   Based on the predictor algorithms, how many breeds were successfully predicted\n",
        "*   Based on the predictor algorithms, what breed is most predicted\n",
        "*   Based on the predictor algorithms, what dog breed had the single highest retweet count, and favorite count\n",
        "*   What breed had the highest total retweet count\n",
        "*   What breed had the highest total favorite count\n",
        "\n"
      ]
    },
    {
      "cell_type": "markdown",
      "metadata": {
        "id": "i7snb5oCqEVj"
      },
      "source": [
        "**Based on the predictor algorithms, how many breeds were successfully predicted?**"
      ]
    },
    {
      "cell_type": "code",
      "execution_count": null,
      "metadata": {
        "colab": {
          "base_uri": "https://localhost:8080/"
        },
        "id": "ScrhqLakm-q3",
        "outputId": "407c3dbf-e78f-4e93-b0ae-caf5cdf06452"
      },
      "outputs": [
        {
          "output_type": "execute_result",
          "data": {
            "text/plain": [
              "115"
            ]
          },
          "metadata": {},
          "execution_count": 63
        }
      ],
      "source": [
        "df.breed.nunique()"
      ]
    },
    {
      "cell_type": "markdown",
      "metadata": {
        "id": "7F6lS0QqqdAO"
      },
      "source": [
        "**Based on the predictor algorithms, what breed is most predicted?**"
      ]
    },
    {
      "cell_type": "code",
      "execution_count": null,
      "metadata": {
        "colab": {
          "base_uri": "https://localhost:8080/"
        },
        "id": "x_jw3fMzQQyR",
        "outputId": "db021fdf-d0f7-4e47-fd45-57ea0c05fcf2"
      },
      "outputs": [
        {
          "output_type": "execute_result",
          "data": {
            "text/plain": [
              "Golden Retriever      162\n",
              "Labrador Retriever    107\n",
              "Pembroke               91\n",
              "Chihuahua              89\n",
              "Pug                    64\n",
              "Chow                   49\n",
              "Toy Poodle             46\n",
              "Samoyed                44\n",
              "Pomeranian             41\n",
              "Malamute               33\n",
              "Name: breed, dtype: int64"
            ]
          },
          "metadata": {},
          "execution_count": 64
        }
      ],
      "source": [
        " df.breed.value_counts().nlargest(10)\n"
      ]
    },
    {
      "cell_type": "markdown",
      "metadata": {
        "id": "mJXzVsPtqt9p"
      },
      "source": [
        "**Based on the predictor algorithms, what dog breed had the single highest retweet count, and favorite count?**"
      ]
    },
    {
      "cell_type": "code",
      "execution_count": null,
      "metadata": {
        "colab": {
          "base_uri": "https://localhost:8080/",
          "height": 81
        },
        "id": "pajwZlDPldQv",
        "outputId": "d64b47ec-2b89-48e3-d051-3df2d10acc86"
      },
      "outputs": [
        {
          "output_type": "execute_result",
          "data": {
            "text/plain": [
              "               tweet_id                                          jpg_url  \\\n",
              "707  744234799360020481  https://pbs.twimg.com/media/CeHWFksXIAAyypp.jpg   \n",
              "\n",
              "     img_num     breed algo  retweet_count  favorite_count  \n",
              "707        2  Shih-Tzu   p1          70452          144365  "
            ],
            "text/html": [
              "\n",
              "  <div id=\"df-f8788cb7-7e7e-4f6d-b701-e7163a7a8ad3\">\n",
              "    <div class=\"colab-df-container\">\n",
              "      <div>\n",
              "<style scoped>\n",
              "    .dataframe tbody tr th:only-of-type {\n",
              "        vertical-align: middle;\n",
              "    }\n",
              "\n",
              "    .dataframe tbody tr th {\n",
              "        vertical-align: top;\n",
              "    }\n",
              "\n",
              "    .dataframe thead th {\n",
              "        text-align: right;\n",
              "    }\n",
              "</style>\n",
              "<table border=\"1\" class=\"dataframe\">\n",
              "  <thead>\n",
              "    <tr style=\"text-align: right;\">\n",
              "      <th></th>\n",
              "      <th>tweet_id</th>\n",
              "      <th>jpg_url</th>\n",
              "      <th>img_num</th>\n",
              "      <th>breed</th>\n",
              "      <th>algo</th>\n",
              "      <th>retweet_count</th>\n",
              "      <th>favorite_count</th>\n",
              "    </tr>\n",
              "  </thead>\n",
              "  <tbody>\n",
              "    <tr>\n",
              "      <th>707</th>\n",
              "      <td>744234799360020481</td>\n",
              "      <td>https://pbs.twimg.com/media/CeHWFksXIAAyypp.jpg</td>\n",
              "      <td>2</td>\n",
              "      <td>Shih-Tzu</td>\n",
              "      <td>p1</td>\n",
              "      <td>70452</td>\n",
              "      <td>144365</td>\n",
              "    </tr>\n",
              "  </tbody>\n",
              "</table>\n",
              "</div>\n",
              "      <button class=\"colab-df-convert\" onclick=\"convertToInteractive('df-f8788cb7-7e7e-4f6d-b701-e7163a7a8ad3')\"\n",
              "              title=\"Convert this dataframe to an interactive table.\"\n",
              "              style=\"display:none;\">\n",
              "        \n",
              "  <svg xmlns=\"http://www.w3.org/2000/svg\" height=\"24px\"viewBox=\"0 0 24 24\"\n",
              "       width=\"24px\">\n",
              "    <path d=\"M0 0h24v24H0V0z\" fill=\"none\"/>\n",
              "    <path d=\"M18.56 5.44l.94 2.06.94-2.06 2.06-.94-2.06-.94-.94-2.06-.94 2.06-2.06.94zm-11 1L8.5 8.5l.94-2.06 2.06-.94-2.06-.94L8.5 2.5l-.94 2.06-2.06.94zm10 10l.94 2.06.94-2.06 2.06-.94-2.06-.94-.94-2.06-.94 2.06-2.06.94z\"/><path d=\"M17.41 7.96l-1.37-1.37c-.4-.4-.92-.59-1.43-.59-.52 0-1.04.2-1.43.59L10.3 9.45l-7.72 7.72c-.78.78-.78 2.05 0 2.83L4 21.41c.39.39.9.59 1.41.59.51 0 1.02-.2 1.41-.59l7.78-7.78 2.81-2.81c.8-.78.8-2.07 0-2.86zM5.41 20L4 18.59l7.72-7.72 1.47 1.35L5.41 20z\"/>\n",
              "  </svg>\n",
              "      </button>\n",
              "      \n",
              "  <style>\n",
              "    .colab-df-container {\n",
              "      display:flex;\n",
              "      flex-wrap:wrap;\n",
              "      gap: 12px;\n",
              "    }\n",
              "\n",
              "    .colab-df-convert {\n",
              "      background-color: #E8F0FE;\n",
              "      border: none;\n",
              "      border-radius: 50%;\n",
              "      cursor: pointer;\n",
              "      display: none;\n",
              "      fill: #1967D2;\n",
              "      height: 32px;\n",
              "      padding: 0 0 0 0;\n",
              "      width: 32px;\n",
              "    }\n",
              "\n",
              "    .colab-df-convert:hover {\n",
              "      background-color: #E2EBFA;\n",
              "      box-shadow: 0px 1px 2px rgba(60, 64, 67, 0.3), 0px 1px 3px 1px rgba(60, 64, 67, 0.15);\n",
              "      fill: #174EA6;\n",
              "    }\n",
              "\n",
              "    [theme=dark] .colab-df-convert {\n",
              "      background-color: #3B4455;\n",
              "      fill: #D2E3FC;\n",
              "    }\n",
              "\n",
              "    [theme=dark] .colab-df-convert:hover {\n",
              "      background-color: #434B5C;\n",
              "      box-shadow: 0px 1px 3px 1px rgba(0, 0, 0, 0.15);\n",
              "      filter: drop-shadow(0px 1px 2px rgba(0, 0, 0, 0.3));\n",
              "      fill: #FFFFFF;\n",
              "    }\n",
              "  </style>\n",
              "\n",
              "      <script>\n",
              "        const buttonEl =\n",
              "          document.querySelector('#df-f8788cb7-7e7e-4f6d-b701-e7163a7a8ad3 button.colab-df-convert');\n",
              "        buttonEl.style.display =\n",
              "          google.colab.kernel.accessAllowed ? 'block' : 'none';\n",
              "\n",
              "        async function convertToInteractive(key) {\n",
              "          const element = document.querySelector('#df-f8788cb7-7e7e-4f6d-b701-e7163a7a8ad3');\n",
              "          const dataTable =\n",
              "            await google.colab.kernel.invokeFunction('convertToInteractive',\n",
              "                                                     [key], {});\n",
              "          if (!dataTable) return;\n",
              "\n",
              "          const docLinkHtml = 'Like what you see? Visit the ' +\n",
              "            '<a target=\"_blank\" href=https://colab.research.google.com/notebooks/data_table.ipynb>data table notebook</a>'\n",
              "            + ' to learn more about interactive tables.';\n",
              "          element.innerHTML = '';\n",
              "          dataTable['output_type'] = 'display_data';\n",
              "          await google.colab.output.renderOutput(dataTable, element);\n",
              "          const docLink = document.createElement('div');\n",
              "          docLink.innerHTML = docLinkHtml;\n",
              "          element.appendChild(docLink);\n",
              "        }\n",
              "      </script>\n",
              "    </div>\n",
              "  </div>\n",
              "  "
            ]
          },
          "metadata": {},
          "execution_count": 77
        }
      ],
      "source": [
        "#join data from the twitter API with data from the image prediction table\n",
        "new_df = df.join(tweet_clean.set_index('tweet_id'), on= 'tweet_id', how ='inner')\n",
        "fav_breed = new_df.query(\"algo != 'unknown'\")\n",
        "fav_breed.retweet_count.max()\n",
        "fav_breed.query('retweet_count == 70452')"
      ]
    },
    {
      "cell_type": "markdown",
      "metadata": {
        "id": "O9YeSdaPsR9H"
      },
      "source": [
        " **What breed had the highest total retweet count?**"
      ]
    },
    {
      "cell_type": "code",
      "execution_count": null,
      "metadata": {
        "colab": {
          "base_uri": "https://localhost:8080/"
        },
        "id": "Ig_N_xLLh3vD",
        "outputId": "ff5504a1-42ad-49d8-a735-1703d1a49d6f"
      },
      "outputs": [
        {
          "output_type": "execute_result",
          "data": {
            "text/plain": [
              "breed\n",
              "Golden Retriever    336433\n",
              "Name: retweet_count, dtype: int64"
            ]
          },
          "metadata": {},
          "execution_count": 66
        }
      ],
      "source": [
        "fav_breed.groupby(['breed'])['retweet_count'].sum().sort_values(ascending = False).nlargest(1)"
      ]
    },
    {
      "cell_type": "markdown",
      "metadata": {
        "id": "mRPJgYlls0vr"
      },
      "source": [
        "**What breed had the highest total favorite count?**"
      ]
    },
    {
      "cell_type": "code",
      "execution_count": null,
      "metadata": {
        "colab": {
          "base_uri": "https://localhost:8080/"
        },
        "id": "EB6aIqvcs3js",
        "outputId": "8e9c169b-17b4-48c5-a2f4-790c394f3820"
      },
      "outputs": [
        {
          "output_type": "execute_result",
          "data": {
            "text/plain": [
              "breed\n",
              "Golden Retriever    934682\n",
              "Name: favorite_count, dtype: int64"
            ]
          },
          "metadata": {},
          "execution_count": 67
        }
      ],
      "source": [
        "fav_breed.groupby(['breed'])['favorite_count'].sum().sort_values(ascending = False).nlargest(1)"
      ]
    },
    {
      "cell_type": "markdown",
      "metadata": {
        "id": "nvIS7Adku_No"
      },
      "source": [
        "### **Visualiation**"
      ]
    },
    {
      "cell_type": "markdown",
      "metadata": {
        "id": "pbm8Szq_V-So"
      },
      "source": [
        "**Build a wordcloud that shows the most predicted breeds in the dataset**"
      ]
    },
    {
      "cell_type": "code",
      "execution_count": null,
      "metadata": {
        "id": "dYyUUWL5rEun"
      },
      "outputs": [],
      "source": [
        "#import all the relevant libraries\n",
        "from PIL import Image\n",
        "import matplotlib.pyplot as plt\n",
        "import numpy as np\n",
        "from wordcloud import WordCloud\n",
        "import nltk\n",
        "from nltk.tokenize import word_tokenize"
      ]
    },
    {
      "cell_type": "code",
      "execution_count": null,
      "metadata": {
        "id": "7GO8Ay8Mzjsq",
        "colab": {
          "base_uri": "https://localhost:8080/"
        },
        "outputId": "70fc9e5a-7dd2-4575-d6b3-7fa0acd4a87b"
      },
      "outputs": [
        {
          "name": "stdout",
          "output_type": "stream",
          "text": [
            "NLTK Downloader\n",
            "---------------------------------------------------------------------------\n",
            "    d) Download   l) List    u) Update   c) Config   h) Help   q) Quit\n",
            "---------------------------------------------------------------------------\n",
            "Downloader> d\n",
            "\n",
            "Download which package (l=list; x=cancel)?\n",
            "  Identifier> punkt\n"
          ]
        },
        {
          "output_type": "stream",
          "name": "stderr",
          "text": [
            "    Downloading package punkt to /root/nltk_data...\n",
            "      Unzipping tokenizers/punkt.zip.\n"
          ]
        },
        {
          "name": "stdout",
          "output_type": "stream",
          "text": [
            "\n",
            "---------------------------------------------------------------------------\n",
            "    d) Download   l) List    u) Update   c) Config   h) Help   q) Quit\n",
            "---------------------------------------------------------------------------\n",
            "Downloader> q\n"
          ]
        },
        {
          "output_type": "execute_result",
          "data": {
            "text/plain": [
              "True"
            ]
          },
          "metadata": {},
          "execution_count": 69
        }
      ],
      "source": [
        "nltk.download()"
      ]
    },
    {
      "cell_type": "code",
      "execution_count": null,
      "metadata": {
        "id": "4UJwemlLlSoG"
      },
      "outputs": [],
      "source": [
        "#define a function to process the predicted breeds in the dataset\n",
        "\n",
        "def data_processing(data):\n",
        "  data = data.lower()\n",
        "  data_tokens = word_tokenize(data)\n",
        "  processed_words = [w for w in data_tokens]\n",
        "  return \" \".join(processed_words)"
      ]
    },
    {
      "cell_type": "code",
      "execution_count": null,
      "metadata": {
        "id": "RpEUZYnvuJPe"
      },
      "outputs": [],
      "source": [
        " #import image files\n",
        " from google.colab import files\n",
        " from IPython import display"
      ]
    },
    {
      "cell_type": "code",
      "execution_count": null,
      "metadata": {
        "id": "XN3VMeEHuMwC",
        "colab": {
          "resources": {
            "http://localhost:8080/nbextensions/google.colab/files.js": {
              "data": "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",
              "ok": true,
              "headers": [
                [
                  "content-type",
                  "application/javascript"
                ]
              ],
              "status": 200,
              "status_text": ""
            }
          },
          "base_uri": "https://localhost:8080/",
          "height": 73
        },
        "outputId": "a1e5ed8e-8b7a-4ae7-a94c-893d4c089094"
      },
      "outputs": [
        {
          "output_type": "display_data",
          "data": {
            "text/plain": [
              "<IPython.core.display.HTML object>"
            ],
            "text/html": [
              "\n",
              "     <input type=\"file\" id=\"files-210128ac-84d8-4684-b5bb-75cb2b545a8b\" name=\"files[]\" multiple disabled\n",
              "        style=\"border:none\" />\n",
              "     <output id=\"result-210128ac-84d8-4684-b5bb-75cb2b545a8b\">\n",
              "      Upload widget is only available when the cell has been executed in the\n",
              "      current browser session. Please rerun this cell to enable.\n",
              "      </output>\n",
              "      <script src=\"/nbextensions/google.colab/files.js\"></script> "
            ]
          },
          "metadata": {}
        },
        {
          "output_type": "stream",
          "name": "stdout",
          "text": [
            "Saving puppy.png to puppy.png\n"
          ]
        }
      ],
      "source": [
        "#upload image file\n",
        "uploaded = files.upload()"
      ]
    },
    {
      "cell_type": "code",
      "execution_count": null,
      "metadata": {
        "id": "HGpBbDtb5ozD"
      },
      "outputs": [],
      "source": [
        "#create an mask plot with the uploaded image\n",
        "mask = np.array(Image.open('puppy.png'))"
      ]
    },
    {
      "cell_type": "code",
      "execution_count": null,
      "metadata": {
        "id": "ICJqBygPxetx"
      },
      "outputs": [],
      "source": [
        "#make copy of the fav_breed dataframe\n",
        "test_df = fav_breed.copy()"
      ]
    },
    {
      "cell_type": "code",
      "execution_count": null,
      "metadata": {
        "id": "IhrGLfPBwMhU"
      },
      "outputs": [],
      "source": [
        "#apply the processing function to the dataframe\n",
        "test_df.breed = test_df['breed'].apply(data_processing)"
      ]
    },
    {
      "cell_type": "code",
      "execution_count": null,
      "metadata": {
        "id": "vzr-UtGz2EDX",
        "colab": {
          "base_uri": "https://localhost:8080/",
          "height": 392
        },
        "outputId": "9e3a2cd8-7157-488c-a2d5-131499540bc6"
      },
      "outputs": [
        {
          "output_type": "display_data",
          "data": {
            "text/plain": [
              "<Figure size 720x720 with 1 Axes>"
            ],
            "image/png": "[encoded data removed]"
          },
          "metadata": {
            "needs_background": "light"
          }
        }
      ],
      "source": [
        "#create wordcloud to visualize the most predicted dog breeds\n",
        "breed_text = ' '.join([w for w in test_df['breed']])\n",
        "mwc2 = WordCloud(background_color = None, mask = mask, mode = 'RGBA')\n",
        "mwc2.generate(breed_text)\n",
        "plt.figure(figsize=(10,10))\n",
        "plt.imshow(mwc2)\n",
        "plt.axis('off')\n",
        "plt.show()"
      ]
    }
  ],
  "metadata": {
    "colab": {
      "collapsed_sections": [
        "GmKLPmsTE0f9",
        "nvIS7Adku_No"
      ],
      "name": "Copy of Copy of Wrangle_act.ipynb",
      "provenance": [],
      "authorship_tag": "ABX9TyM9If8kobCNhNHwY4EzM3zJ",
      "include_colab_link": true
    },
    "kernelspec": {
      "display_name": "Python 3",
      "name": "python3"
    },
    "language_info": {
      "name": "python"
    }
  },
  "nbformat": 4,
  "nbformat_minor": 0
}