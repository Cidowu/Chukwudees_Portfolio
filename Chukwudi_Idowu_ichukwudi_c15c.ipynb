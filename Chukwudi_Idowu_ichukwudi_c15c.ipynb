{
  "nbformat": 4,
  "nbformat_minor": 0,
  "metadata": {
    "colab": {
      "name": "Chukwudi_Idowu_ichukwudi_c15c.ipynb",
      "provenance": [],
      "collapsed_sections": [],
      "authorship_tag": "ABX9TyMISGqTJJ8kVPYPlmSAcCwR",
      "include_colab_link": true
    },
    "kernelspec": {
      "name": "python3",
      "display_name": "Python 3"
    },
    "language_info": {
      "name": "python"
    }
  },
  "cells": [
    {
      "cell_type": "markdown",
      "metadata": {
        "id": "view-in-github",
        "colab_type": "text"
      },
      "source": [
        "<a href=\"https://colab.research.google.com/github/Cidowu/Chukwudees_Portfolio/blob/main/Chukwudi_Idowu_ichukwudi_c15c.ipynb\" target=\"_parent\"><img src=\"https://colab.research.google.com/assets/colab-badge.svg\" alt=\"Open In Colab\"/></a>"
      ]
    },
    {
      "cell_type": "code",
      "execution_count": 1,
      "metadata": {
        "colab": {
          "base_uri": "https://localhost:8080/"
        },
        "id": "CHaH91f3iaVG",
        "outputId": "95ac786d-1bc0-4e2e-b3a4-5a2dbded533b"
      },
      "outputs": [
        {
          "output_type": "stream",
          "name": "stdout",
          "text": [
            "Mounted at /content/drive\n"
          ]
        }
      ],
      "source": [
        "from google.colab import drive\n",
        "drive.mount('/content/drive')"
      ]
    },
    {
      "cell_type": "code",
      "source": [
        "standard_timezones[\"GMT Offset\"].str.strip(\"+\").str.replace(\":\", \".\")"
      ],
      "metadata": {
        "id": "IpQBDwmIEokU"
      },
      "execution_count": null,
      "outputs": []
    },
    {
      "cell_type": "code",
      "source": [
        "def bootcampTime():\n",
        "\n",
        "  #import relevant libraries\n",
        "  import pandas as pd\n",
        "  import datetime\n",
        "  from datetime import time\n",
        "\n",
        "  #load datasets\n",
        "  path_1 = \"/content/drive/MyDrive/codenet project/Time zones_404_Counries.xlsx\"\n",
        "  path_2 = \"/content/drive/MyDrive/codenet project/timezones_Detailed_588_Countries.csv\"\n",
        "  path_3 = \"/content/drive/MyDrive/codenet project/BootcampSchedule.xlsx\"\n",
        "  path_4 = \"/content/drive/MyDrive/codenet project/timezones_Standard_Times.csv\"\n",
        "\n",
        "  timezones404 = pd.read_excel(path_1)\n",
        "  detailed_countries_timezones = pd.read_csv(path_2)\n",
        "  bootcamp_schedule = pd.read_excel(path_3)\n",
        "  standard_timezones = pd.read_csv(path_4)\n",
        "\n",
        "  #STORE DATA IN LIST CONTAINERS\n",
        "  regions = detailed_countries_timezones.timezone.tolist()\n",
        "\n",
        "  #CREATE CONTAINER FOR LIST OF COUNTRIES\n",
        "  countryList = []\n",
        "  for region in regions:\n",
        "    if '/' in region:\n",
        "      country = region.split('/')\n",
        "      countryList.append(country[1])\n",
        "    else:\n",
        "      countryList.append(region)\n",
        "\n",
        "  #CREATE LIST CONTAINERS TO STORE ALL THE DATASETS\n",
        "  month = bootcamp_schedule[\"Month \"].tolist()\n",
        "  month[-1] = \"September\"\n",
        "  dateList = bootcamp_schedule[\"Date \"].tolist()\n",
        "  timeList = bootcamp_schedule[\"Bootcamp Time (EST)\"].tolist()\n",
        "  cohortList = bootcamp_schedule[\"Cohort\"].tolist()\n",
        "  programList = bootcamp_schedule[\"Program \"].tolist()\n",
        "  topicList = bootcamp_schedule[\"Topic \"].tolist()\n",
        "  countryTimeList = detailed_countries_timezones.offset.tolist()\n",
        "  newDateList = [d.strftime('%Y-%m-%d') for d in dateList]\n",
        "\n",
        "  #CREATE SCHEDULE LISTS\n",
        "  scheduler = [[mon, dte, tim, coh, prog] for mon, dte, tim, coh, prog in zip(month, newDateList, timeList, cohortList, programList)]\n",
        "\n",
        "  #COLLECT USER DATA\n",
        "  userLocation = input('Please specify your city (eg: Lagos): ')\n",
        "  userMonth = input('please specify month: ')\n",
        "  userDate = input('Please specify date - (format YYYY-mm-dd): ')\n",
        "  userTime = input('Please specify time- (format xx.xx AM): ')\n",
        "  userCohort = input('Please specify cohort - (format Cohort xx): ')\n",
        "  userProgram = input('Please specify program. (Format Data Analytics, Data Science/ML): ')\n",
        "  \n",
        "  userResult = f\"{userMonth} {userDate} {userTime} {userCohort} {userProgram}\"\n",
        "\n",
        "  #USER CURRENT TIME\n",
        "  def currTimeShort():\n",
        "    now = datetime.datetime.now()\n",
        "    current_time = now.strftime(\"%H:%M:%S\") # formating time to hours minutes and secs\n",
        "    return current_time\n",
        "\n",
        "  est = -18000\n",
        "\n",
        "  test = dict([[country, zone] for country, zone in zip(countryList, countryTimeList)])\n",
        "  currTime = currTimeShort()\n",
        "\n",
        "  #UTC TIME CONVERTER\n",
        "  for key, value in test.items():\n",
        "    zone = int(value/3600)\n",
        "    utcEquiv = int(est/3600)\n",
        "    utcTime = str(datetime.timedelta(seconds=int(float(userTime[:-2])*3600 + 18000 + value)))\n",
        "    progTime = f\"{userTime} UTC{utcEquiv}\"\n",
        "    #final = f\"The program time in your timezone is {utcTime}.\"\n",
        "    \n",
        "    if key == userLocation.title():\n",
        "      if zone < 0:\n",
        "        currTime = f\"{currTimeShort()} UTC{zone}\"\n",
        "        utcTime = f\"{utcTime} UTC{zone}\"\n",
        "      else:\n",
        "        currTime = f\"{currTimeShort()} UTC+{zone}\"\n",
        "        utcTime = f\"{utcTime} UTC+{zone}\"\n",
        "      print(f\"Program time (EST): {progTime}\")\n",
        "      print(f\"Current time (UTC): {currTime}\")\n",
        "      print(f\"Program time in your timezone (UTC): {utcTime}\")\n",
        "\n",
        "  num = 0\n",
        "  for i in scheduler:\n",
        "    if userResult == ' '.join(scheduler[num]):\n",
        "      tops = topicList[num]\n",
        "      num += 1\n",
        "      print(f\"Topic of the day for your cohort is: {tops}\")\n",
        "\n",
        "\n",
        "  return \"Have a great day\""
      ],
      "metadata": {
        "id": "TUm3K0G7vsDW"
      },
      "execution_count": 281,
      "outputs": []
    },
    {
      "cell_type": "code",
      "source": [
        "bootcampTime()"
      ],
      "metadata": {
        "colab": {
          "base_uri": "https://localhost:8080/",
          "height": 221
        },
        "id": "_70kEbmtB97V",
        "outputId": "65f11638-0442-441b-8be1-6164d60de827"
      },
      "execution_count": 283,
      "outputs": [
        {
          "output_type": "stream",
          "name": "stdout",
          "text": [
            "Please specify your city (eg: Lagos): Lagos\n",
            "please specify month: July\n",
            "Please specify date - (format YYYY-mm-dd): 2022-07-07\n",
            "Please specify time- (format xx.xx AM): 6.00 AM\n",
            "Please specify cohort - (format Cohort xx): Cohort 14\n",
            "Please specify program. (Format Data Analytics, Data Science/ML): Data Analytics\n",
            "Program time (EST): 6.00 AM UTC-5\n",
            "Current time (UTC): 17:47:59 UTC+1\n",
            "Program time in your timezone (UTC): 12:00:00 UTC+1\n",
            "Topic of the day for your cohort is: Python Variables\n"
          ]
        },
        {
          "output_type": "execute_result",
          "data": {
            "text/plain": [
              "'Have a great day'"
            ],
            "application/vnd.google.colaboratory.intrinsic+json": {
              "type": "string"
            }
          },
          "metadata": {},
          "execution_count": 283
        }
      ]
    },
    {
      "cell_type": "code",
      "source": [
        ""
      ],
      "metadata": {
        "id": "EW1gVEqYK7q2"
      },
      "execution_count": null,
      "outputs": []
    },
    {
      "cell_type": "code",
      "source": [
        ""
      ],
      "metadata": {
        "id": "oL9PmVAukZ6R"
      },
      "execution_count": null,
      "outputs": []
    }
  ]
}