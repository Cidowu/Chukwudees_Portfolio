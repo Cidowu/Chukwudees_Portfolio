{
  "nbformat": 4,
  "nbformat_minor": 0,
  "metadata": {
    "colab": {
      "provenance": [],
      "collapsed_sections": [],
      "authorship_tag": "ABX9TyMD7+H2syA810JdYudoBk7a",
      "include_colab_link": true
    },
    "kernelspec": {
      "name": "python3",
      "display_name": "Python 3"
    },
    "language_info": {
      "name": "python"
    }
  },
  "cells": [
    {
      "cell_type": "markdown",
      "metadata": {
        "id": "view-in-github",
        "colab_type": "text"
      },
      "source": [
        "<a href=\"https://colab.research.google.com/github/Cidowu/Chukwudees_Portfolio/blob/main/Ford_GoBike_Data_Visualization.ipynb\" target=\"_parent\"><img src=\"https://colab.research.google.com/assets/colab-badge.svg\" alt=\"Open In Colab\"/></a>"
      ]
    },
    {
      "cell_type": "markdown",
      "source": [
        "# **Ford GoBike Data Exploration**"
      ],
      "metadata": {
        "id": "pX5BCpVgSs9B"
      }
    },
    {
      "cell_type": "markdown",
      "source": [
        "## **Preliminary Data Wrangling**\n",
        "\n",
        "This data set explores and analyzes data from individual rides made in a bike-sharing system covering the greater San Francisco Bay area.\n"
      ],
      "metadata": {
        "id": "uO0D3Bm7TBJ4"
      }
    },
    {
      "cell_type": "code",
      "execution_count": 1,
      "metadata": {
        "colab": {
          "base_uri": "https://localhost:8080/"
        },
        "id": "Rb2_73V9KCTM",
        "outputId": "bac8f090-9116-4641-a7c8-eb64c97c3d4b"
      },
      "outputs": [
        {
          "output_type": "stream",
          "name": "stdout",
          "text": [
            "Mounted at /content/drive\n"
          ]
        }
      ],
      "source": [
        "from google.colab import drive\n",
        "drive.mount('/content/drive')"
      ]
    },
    {
      "cell_type": "code",
      "source": [
        "import pandas as pd\n",
        "import numpy as np\n",
        "import matplotlib.pyplot as plt\n",
        "import seaborn as sns\n",
        "import plotly.express as px\n",
        "from datetime import datetime\n",
        "\n",
        "%matplotlib inline"
      ],
      "metadata": {
        "id": "Yx3b8c7hQg1K"
      },
      "execution_count": 2,
      "outputs": []
    },
    {
      "cell_type": "code",
      "source": [
        "path = \"/content/drive/MyDrive/201902-fordgobike-tripdata.csv\"\n",
        "df = pd.read_csv(path)"
      ],
      "metadata": {
        "id": "ykEeJGDTQ1V1"
      },
      "execution_count": 3,
      "outputs": []
    },
    {
      "cell_type": "code",
      "source": [
        "df.head()"
      ],
      "metadata": {
        "colab": {
          "base_uri": "https://localhost:8080/",
          "height": 392
        },
        "id": "SAymtyEfRRBK",
        "outputId": "e7a9526a-fbdd-408a-84e9-b5be965ba738"
      },
      "execution_count": 4,
      "outputs": [
        {
          "output_type": "execute_result",
          "data": {
            "text/plain": [
              "   duration_sec                start_time                  end_time  \\\n",
              "0         52185  2019-02-28 17:32:10.1450  2019-03-01 08:01:55.9750   \n",
              "1         42521  2019-02-28 18:53:21.7890  2019-03-01 06:42:03.0560   \n",
              "2         61854  2019-02-28 12:13:13.2180  2019-03-01 05:24:08.1460   \n",
              "3         36490  2019-02-28 17:54:26.0100  2019-03-01 04:02:36.8420   \n",
              "4          1585  2019-02-28 23:54:18.5490  2019-03-01 00:20:44.0740   \n",
              "\n",
              "   start_station_id                                start_station_name  \\\n",
              "0              21.0  Montgomery St BART Station (Market St at 2nd St)   \n",
              "1              23.0                     The Embarcadero at Steuart St   \n",
              "2              86.0                           Market St at Dolores St   \n",
              "3             375.0                           Grove St at Masonic Ave   \n",
              "4               7.0                               Frank H Ogawa Plaza   \n",
              "\n",
              "   start_station_latitude  start_station_longitude  end_station_id  \\\n",
              "0               37.789625              -122.400811            13.0   \n",
              "1               37.791464              -122.391034            81.0   \n",
              "2               37.769305              -122.426826             3.0   \n",
              "3               37.774836              -122.446546            70.0   \n",
              "4               37.804562              -122.271738           222.0   \n",
              "\n",
              "                               end_station_name  end_station_latitude  \\\n",
              "0                Commercial St at Montgomery St             37.794231   \n",
              "1                            Berry St at 4th St             37.775880   \n",
              "2  Powell St BART Station (Market St at 4th St)             37.786375   \n",
              "3                        Central Ave at Fell St             37.773311   \n",
              "4                         10th Ave at E 15th St             37.792714   \n",
              "\n",
              "   end_station_longitude  bike_id   user_type  member_birth_year  \\\n",
              "0            -122.402923     4902    Customer             1984.0   \n",
              "1            -122.393170     2535    Customer                NaN   \n",
              "2            -122.404904     5905    Customer             1972.0   \n",
              "3            -122.444293     6638  Subscriber             1989.0   \n",
              "4            -122.248780     4898  Subscriber             1974.0   \n",
              "\n",
              "  member_gender bike_share_for_all_trip  \n",
              "0          Male                      No  \n",
              "1           NaN                      No  \n",
              "2          Male                      No  \n",
              "3         Other                      No  \n",
              "4          Male                     Yes  "
            ],
            "text/html": [
              "\n",
              "  <div id=\"df-952822f1-de59-4c89-8fb0-6c77afa5e87f\">\n",
              "    <div class=\"colab-df-container\">\n",
              "      <div>\n",
              "<style scoped>\n",
              "    .dataframe tbody tr th:only-of-type {\n",
              "        vertical-align: middle;\n",
              "    }\n",
              "\n",
              "    .dataframe tbody tr th {\n",
              "        vertical-align: top;\n",
              "    }\n",
              "\n",
              "    .dataframe thead th {\n",
              "        text-align: right;\n",
              "    }\n",
              "</style>\n",
              "<table border=\"1\" class=\"dataframe\">\n",
              "  <thead>\n",
              "    <tr style=\"text-align: right;\">\n",
              "      <th></th>\n",
              "      <th>duration_sec</th>\n",
              "      <th>start_time</th>\n",
              "      <th>end_time</th>\n",
              "      <th>start_station_id</th>\n",
              "      <th>start_station_name</th>\n",
              "      <th>start_station_latitude</th>\n",
              "      <th>start_station_longitude</th>\n",
              "      <th>end_station_id</th>\n",
              "      <th>end_station_name</th>\n",
              "      <th>end_station_latitude</th>\n",
              "      <th>end_station_longitude</th>\n",
              "      <th>bike_id</th>\n",
              "      <th>user_type</th>\n",
              "      <th>member_birth_year</th>\n",
              "      <th>member_gender</th>\n",
              "      <th>bike_share_for_all_trip</th>\n",
              "    </tr>\n",
              "  </thead>\n",
              "  <tbody>\n",
              "    <tr>\n",
              "      <th>0</th>\n",
              "      <td>52185</td>\n",
              "      <td>2019-02-28 17:32:10.1450</td>\n",
              "      <td>2019-03-01 08:01:55.9750</td>\n",
              "      <td>21.0</td>\n",
              "      <td>Montgomery St BART Station (Market St at 2nd St)</td>\n",
              "      <td>37.789625</td>\n",
              "      <td>-122.400811</td>\n",
              "      <td>13.0</td>\n",
              "      <td>Commercial St at Montgomery St</td>\n",
              "      <td>37.794231</td>\n",
              "      <td>-122.402923</td>\n",
              "      <td>4902</td>\n",
              "      <td>Customer</td>\n",
              "      <td>1984.0</td>\n",
              "      <td>Male</td>\n",
              "      <td>No</td>\n",
              "    </tr>\n",
              "    <tr>\n",
              "      <th>1</th>\n",
              "      <td>42521</td>\n",
              "      <td>2019-02-28 18:53:21.7890</td>\n",
              "      <td>2019-03-01 06:42:03.0560</td>\n",
              "      <td>23.0</td>\n",
              "      <td>The Embarcadero at Steuart St</td>\n",
              "      <td>37.791464</td>\n",
              "      <td>-122.391034</td>\n",
              "      <td>81.0</td>\n",
              "      <td>Berry St at 4th St</td>\n",
              "      <td>37.775880</td>\n",
              "      <td>-122.393170</td>\n",
              "      <td>2535</td>\n",
              "      <td>Customer</td>\n",
              "      <td>NaN</td>\n",
              "      <td>NaN</td>\n",
              "      <td>No</td>\n",
              "    </tr>\n",
              "    <tr>\n",
              "      <th>2</th>\n",
              "      <td>61854</td>\n",
              "      <td>2019-02-28 12:13:13.2180</td>\n",
              "      <td>2019-03-01 05:24:08.1460</td>\n",
              "      <td>86.0</td>\n",
              "      <td>Market St at Dolores St</td>\n",
              "      <td>37.769305</td>\n",
              "      <td>-122.426826</td>\n",
              "      <td>3.0</td>\n",
              "      <td>Powell St BART Station (Market St at 4th St)</td>\n",
              "      <td>37.786375</td>\n",
              "      <td>-122.404904</td>\n",
              "      <td>5905</td>\n",
              "      <td>Customer</td>\n",
              "      <td>1972.0</td>\n",
              "      <td>Male</td>\n",
              "      <td>No</td>\n",
              "    </tr>\n",
              "    <tr>\n",
              "      <th>3</th>\n",
              "      <td>36490</td>\n",
              "      <td>2019-02-28 17:54:26.0100</td>\n",
              "      <td>2019-03-01 04:02:36.8420</td>\n",
              "      <td>375.0</td>\n",
              "      <td>Grove St at Masonic Ave</td>\n",
              "      <td>37.774836</td>\n",
              "      <td>-122.446546</td>\n",
              "      <td>70.0</td>\n",
              "      <td>Central Ave at Fell St</td>\n",
              "      <td>37.773311</td>\n",
              "      <td>-122.444293</td>\n",
              "      <td>6638</td>\n",
              "      <td>Subscriber</td>\n",
              "      <td>1989.0</td>\n",
              "      <td>Other</td>\n",
              "      <td>No</td>\n",
              "    </tr>\n",
              "    <tr>\n",
              "      <th>4</th>\n",
              "      <td>1585</td>\n",
              "      <td>2019-02-28 23:54:18.5490</td>\n",
              "      <td>2019-03-01 00:20:44.0740</td>\n",
              "      <td>7.0</td>\n",
              "      <td>Frank H Ogawa Plaza</td>\n",
              "      <td>37.804562</td>\n",
              "      <td>-122.271738</td>\n",
              "      <td>222.0</td>\n",
              "      <td>10th Ave at E 15th St</td>\n",
              "      <td>37.792714</td>\n",
              "      <td>-122.248780</td>\n",
              "      <td>4898</td>\n",
              "      <td>Subscriber</td>\n",
              "      <td>1974.0</td>\n",
              "      <td>Male</td>\n",
              "      <td>Yes</td>\n",
              "    </tr>\n",
              "  </tbody>\n",
              "</table>\n",
              "</div>\n",
              "      <button class=\"colab-df-convert\" onclick=\"convertToInteractive('df-952822f1-de59-4c89-8fb0-6c77afa5e87f')\"\n",
              "              title=\"Convert this dataframe to an interactive table.\"\n",
              "              style=\"display:none;\">\n",
              "        \n",
              "  <svg xmlns=\"http://www.w3.org/2000/svg\" height=\"24px\"viewBox=\"0 0 24 24\"\n",
              "       width=\"24px\">\n",
              "    <path d=\"M0 0h24v24H0V0z\" fill=\"none\"/>\n",
              "    <path d=\"M18.56 5.44l.94 2.06.94-2.06 2.06-.94-2.06-.94-.94-2.06-.94 2.06-2.06.94zm-11 1L8.5 8.5l.94-2.06 2.06-.94-2.06-.94L8.5 2.5l-.94 2.06-2.06.94zm10 10l.94 2.06.94-2.06 2.06-.94-2.06-.94-.94-2.06-.94 2.06-2.06.94z\"/><path d=\"M17.41 7.96l-1.37-1.37c-.4-.4-.92-.59-1.43-.59-.52 0-1.04.2-1.43.59L10.3 9.45l-7.72 7.72c-.78.78-.78 2.05 0 2.83L4 21.41c.39.39.9.59 1.41.59.51 0 1.02-.2 1.41-.59l7.78-7.78 2.81-2.81c.8-.78.8-2.07 0-2.86zM5.41 20L4 18.59l7.72-7.72 1.47 1.35L5.41 20z\"/>\n",
              "  </svg>\n",
              "      </button>\n",
              "      \n",
              "  <style>\n",
              "    .colab-df-container {\n",
              "      display:flex;\n",
              "      flex-wrap:wrap;\n",
              "      gap: 12px;\n",
              "    }\n",
              "\n",
              "    .colab-df-convert {\n",
              "      background-color: #E8F0FE;\n",
              "      border: none;\n",
              "      border-radius: 50%;\n",
              "      cursor: pointer;\n",
              "      display: none;\n",
              "      fill: #1967D2;\n",
              "      height: 32px;\n",
              "      padding: 0 0 0 0;\n",
              "      width: 32px;\n",
              "    }\n",
              "\n",
              "    .colab-df-convert:hover {\n",
              "      background-color: #E2EBFA;\n",
              "      box-shadow: 0px 1px 2px rgba(60, 64, 67, 0.3), 0px 1px 3px 1px rgba(60, 64, 67, 0.15);\n",
              "      fill: #174EA6;\n",
              "    }\n",
              "\n",
              "    [theme=dark] .colab-df-convert {\n",
              "      background-color: #3B4455;\n",
              "      fill: #D2E3FC;\n",
              "    }\n",
              "\n",
              "    [theme=dark] .colab-df-convert:hover {\n",
              "      background-color: #434B5C;\n",
              "      box-shadow: 0px 1px 3px 1px rgba(0, 0, 0, 0.15);\n",
              "      filter: drop-shadow(0px 1px 2px rgba(0, 0, 0, 0.3));\n",
              "      fill: #FFFFFF;\n",
              "    }\n",
              "  </style>\n",
              "\n",
              "      <script>\n",
              "        const buttonEl =\n",
              "          document.querySelector('#df-952822f1-de59-4c89-8fb0-6c77afa5e87f button.colab-df-convert');\n",
              "        buttonEl.style.display =\n",
              "          google.colab.kernel.accessAllowed ? 'block' : 'none';\n",
              "\n",
              "        async function convertToInteractive(key) {\n",
              "          const element = document.querySelector('#df-952822f1-de59-4c89-8fb0-6c77afa5e87f');\n",
              "          const dataTable =\n",
              "            await google.colab.kernel.invokeFunction('convertToInteractive',\n",
              "                                                     [key], {});\n",
              "          if (!dataTable) return;\n",
              "\n",
              "          const docLinkHtml = 'Like what you see? Visit the ' +\n",
              "            '<a target=\"_blank\" href=https://colab.research.google.com/notebooks/data_table.ipynb>data table notebook</a>'\n",
              "            + ' to learn more about interactive tables.';\n",
              "          element.innerHTML = '';\n",
              "          dataTable['output_type'] = 'display_data';\n",
              "          await google.colab.output.renderOutput(dataTable, element);\n",
              "          const docLink = document.createElement('div');\n",
              "          docLink.innerHTML = docLinkHtml;\n",
              "          element.appendChild(docLink);\n",
              "        }\n",
              "      </script>\n",
              "    </div>\n",
              "  </div>\n",
              "  "
            ]
          },
          "metadata": {},
          "execution_count": 4
        }
      ]
    },
    {
      "cell_type": "code",
      "source": [
        "df.info()"
      ],
      "metadata": {
        "colab": {
          "base_uri": "https://localhost:8080/"
        },
        "id": "ivE69GVyRXfx",
        "outputId": "7e8c49c7-72e9-4351-9f6b-8aa918c0dfa2"
      },
      "execution_count": 5,
      "outputs": [
        {
          "output_type": "stream",
          "name": "stdout",
          "text": [
            "<class 'pandas.core.frame.DataFrame'>\n",
            "RangeIndex: 183412 entries, 0 to 183411\n",
            "Data columns (total 16 columns):\n",
            " #   Column                   Non-Null Count   Dtype  \n",
            "---  ------                   --------------   -----  \n",
            " 0   duration_sec             183412 non-null  int64  \n",
            " 1   start_time               183412 non-null  object \n",
            " 2   end_time                 183412 non-null  object \n",
            " 3   start_station_id         183215 non-null  float64\n",
            " 4   start_station_name       183215 non-null  object \n",
            " 5   start_station_latitude   183412 non-null  float64\n",
            " 6   start_station_longitude  183412 non-null  float64\n",
            " 7   end_station_id           183215 non-null  float64\n",
            " 8   end_station_name         183215 non-null  object \n",
            " 9   end_station_latitude     183412 non-null  float64\n",
            " 10  end_station_longitude    183412 non-null  float64\n",
            " 11  bike_id                  183412 non-null  int64  \n",
            " 12  user_type                183412 non-null  object \n",
            " 13  member_birth_year        175147 non-null  float64\n",
            " 14  member_gender            175147 non-null  object \n",
            " 15  bike_share_for_all_trip  183412 non-null  object \n",
            "dtypes: float64(7), int64(2), object(7)\n",
            "memory usage: 22.4+ MB\n"
          ]
        }
      ]
    },
    {
      "cell_type": "code",
      "source": [
        "df.shape"
      ],
      "metadata": {
        "colab": {
          "base_uri": "https://localhost:8080/"
        },
        "id": "BcWybBpGRt2l",
        "outputId": "5fca30e3-50f7-4ac3-fd07-bde94b25e9ef"
      },
      "execution_count": 6,
      "outputs": [
        {
          "output_type": "execute_result",
          "data": {
            "text/plain": [
              "(183412, 16)"
            ]
          },
          "metadata": {},
          "execution_count": 6
        }
      ]
    },
    {
      "cell_type": "code",
      "source": [
        "df.columns"
      ],
      "metadata": {
        "colab": {
          "base_uri": "https://localhost:8080/"
        },
        "id": "yWFJvcq_Rv08",
        "outputId": "11cbf8b4-d359-4fe5-9ed4-13a0906e75f7"
      },
      "execution_count": 7,
      "outputs": [
        {
          "output_type": "execute_result",
          "data": {
            "text/plain": [
              "Index(['duration_sec', 'start_time', 'end_time', 'start_station_id',\n",
              "       'start_station_name', 'start_station_latitude',\n",
              "       'start_station_longitude', 'end_station_id', 'end_station_name',\n",
              "       'end_station_latitude', 'end_station_longitude', 'bike_id', 'user_type',\n",
              "       'member_birth_year', 'member_gender', 'bike_share_for_all_trip'],\n",
              "      dtype='object')"
            ]
          },
          "metadata": {},
          "execution_count": 7
        }
      ]
    },
    {
      "cell_type": "code",
      "source": [
        "df.isnull().sum()"
      ],
      "metadata": {
        "colab": {
          "base_uri": "https://localhost:8080/"
        },
        "id": "N3rJgLudRybM",
        "outputId": "1d676939-30ac-4311-8b9b-6583c4def1d0"
      },
      "execution_count": 8,
      "outputs": [
        {
          "output_type": "execute_result",
          "data": {
            "text/plain": [
              "duration_sec                  0\n",
              "start_time                    0\n",
              "end_time                      0\n",
              "start_station_id            197\n",
              "start_station_name          197\n",
              "start_station_latitude        0\n",
              "start_station_longitude       0\n",
              "end_station_id              197\n",
              "end_station_name            197\n",
              "end_station_latitude          0\n",
              "end_station_longitude         0\n",
              "bike_id                       0\n",
              "user_type                     0\n",
              "member_birth_year          8265\n",
              "member_gender              8265\n",
              "bike_share_for_all_trip       0\n",
              "dtype: int64"
            ]
          },
          "metadata": {},
          "execution_count": 8
        }
      ]
    },
    {
      "cell_type": "code",
      "source": [
        "df.bike_id.value_counts()"
      ],
      "metadata": {
        "id": "eyvDOMnGkSpi",
        "colab": {
          "base_uri": "https://localhost:8080/"
        },
        "outputId": "3b0b565f-a707-48da-d799-bf40b8c12c5b"
      },
      "execution_count": 9,
      "outputs": [
        {
          "output_type": "execute_result",
          "data": {
            "text/plain": [
              "4794    191\n",
              "4814    176\n",
              "5014    174\n",
              "4422    174\n",
              "5175    173\n",
              "       ... \n",
              "2297      1\n",
              "2258      1\n",
              "2415      1\n",
              "1397      1\n",
              "5067      1\n",
              "Name: bike_id, Length: 4646, dtype: int64"
            ]
          },
          "metadata": {},
          "execution_count": 9
        }
      ]
    },
    {
      "cell_type": "code",
      "source": [
        "df.user_type.unique()"
      ],
      "metadata": {
        "colab": {
          "base_uri": "https://localhost:8080/"
        },
        "id": "CKUt-gzr5vU9",
        "outputId": "2a8778ef-ab9a-4610-e706-4a365adc33e4"
      },
      "execution_count": 10,
      "outputs": [
        {
          "output_type": "execute_result",
          "data": {
            "text/plain": [
              "array(['Customer', 'Subscriber'], dtype=object)"
            ]
          },
          "metadata": {},
          "execution_count": 10
        }
      ]
    },
    {
      "cell_type": "code",
      "source": [
        "df.member_gender.unique()"
      ],
      "metadata": {
        "colab": {
          "base_uri": "https://localhost:8080/"
        },
        "id": "iVjxuwrD504j",
        "outputId": "78001103-746e-489b-89a5-63c7d836b13f"
      },
      "execution_count": 11,
      "outputs": [
        {
          "output_type": "execute_result",
          "data": {
            "text/plain": [
              "array(['Male', nan, 'Other', 'Female'], dtype=object)"
            ]
          },
          "metadata": {},
          "execution_count": 11
        }
      ]
    },
    {
      "cell_type": "code",
      "source": [
        "df.describe()"
      ],
      "metadata": {
        "colab": {
          "base_uri": "https://localhost:8080/",
          "height": 364
        },
        "id": "eSSPmUwHv67q",
        "outputId": "ac4b64b6-2159-489f-a425-10c1901a7e35"
      },
      "execution_count": 12,
      "outputs": [
        {
          "output_type": "execute_result",
          "data": {
            "text/plain": [
              "        duration_sec  start_station_id  start_station_latitude  \\\n",
              "count  183412.000000     183215.000000           183412.000000   \n",
              "mean      726.078435        138.590427               37.771223   \n",
              "std      1794.389780        111.778864                0.099581   \n",
              "min        61.000000          3.000000               37.317298   \n",
              "25%       325.000000         47.000000               37.770083   \n",
              "50%       514.000000        104.000000               37.780760   \n",
              "75%       796.000000        239.000000               37.797280   \n",
              "max     85444.000000        398.000000               37.880222   \n",
              "\n",
              "       start_station_longitude  end_station_id  end_station_latitude  \\\n",
              "count            183412.000000   183215.000000         183412.000000   \n",
              "mean               -122.352664      136.249123             37.771427   \n",
              "std                   0.117097      111.515131              0.099490   \n",
              "min                -122.453704        3.000000             37.317298   \n",
              "25%                -122.412408       44.000000             37.770407   \n",
              "50%                -122.398285      100.000000             37.781010   \n",
              "75%                -122.286533      235.000000             37.797320   \n",
              "max                -121.874119      398.000000             37.880222   \n",
              "\n",
              "       end_station_longitude        bike_id  member_birth_year  \n",
              "count          183412.000000  183412.000000      175147.000000  \n",
              "mean             -122.352250    4472.906375        1984.806437  \n",
              "std                 0.116673    1664.383394          10.116689  \n",
              "min              -122.453704      11.000000        1878.000000  \n",
              "25%              -122.411726    3777.000000        1980.000000  \n",
              "50%              -122.398279    4958.000000        1987.000000  \n",
              "75%              -122.288045    5502.000000        1992.000000  \n",
              "max              -121.874119    6645.000000        2001.000000  "
            ],
            "text/html": [
              "\n",
              "  <div id=\"df-4569ea2e-42df-44d1-9f32-dbc314c8e681\">\n",
              "    <div class=\"colab-df-container\">\n",
              "      <div>\n",
              "<style scoped>\n",
              "    .dataframe tbody tr th:only-of-type {\n",
              "        vertical-align: middle;\n",
              "    }\n",
              "\n",
              "    .dataframe tbody tr th {\n",
              "        vertical-align: top;\n",
              "    }\n",
              "\n",
              "    .dataframe thead th {\n",
              "        text-align: right;\n",
              "    }\n",
              "</style>\n",
              "<table border=\"1\" class=\"dataframe\">\n",
              "  <thead>\n",
              "    <tr style=\"text-align: right;\">\n",
              "      <th></th>\n",
              "      <th>duration_sec</th>\n",
              "      <th>start_station_id</th>\n",
              "      <th>start_station_latitude</th>\n",
              "      <th>start_station_longitude</th>\n",
              "      <th>end_station_id</th>\n",
              "      <th>end_station_latitude</th>\n",
              "      <th>end_station_longitude</th>\n",
              "      <th>bike_id</th>\n",
              "      <th>member_birth_year</th>\n",
              "    </tr>\n",
              "  </thead>\n",
              "  <tbody>\n",
              "    <tr>\n",
              "      <th>count</th>\n",
              "      <td>183412.000000</td>\n",
              "      <td>183215.000000</td>\n",
              "      <td>183412.000000</td>\n",
              "      <td>183412.000000</td>\n",
              "      <td>183215.000000</td>\n",
              "      <td>183412.000000</td>\n",
              "      <td>183412.000000</td>\n",
              "      <td>183412.000000</td>\n",
              "      <td>175147.000000</td>\n",
              "    </tr>\n",
              "    <tr>\n",
              "      <th>mean</th>\n",
              "      <td>726.078435</td>\n",
              "      <td>138.590427</td>\n",
              "      <td>37.771223</td>\n",
              "      <td>-122.352664</td>\n",
              "      <td>136.249123</td>\n",
              "      <td>37.771427</td>\n",
              "      <td>-122.352250</td>\n",
              "      <td>4472.906375</td>\n",
              "      <td>1984.806437</td>\n",
              "    </tr>\n",
              "    <tr>\n",
              "      <th>std</th>\n",
              "      <td>1794.389780</td>\n",
              "      <td>111.778864</td>\n",
              "      <td>0.099581</td>\n",
              "      <td>0.117097</td>\n",
              "      <td>111.515131</td>\n",
              "      <td>0.099490</td>\n",
              "      <td>0.116673</td>\n",
              "      <td>1664.383394</td>\n",
              "      <td>10.116689</td>\n",
              "    </tr>\n",
              "    <tr>\n",
              "      <th>min</th>\n",
              "      <td>61.000000</td>\n",
              "      <td>3.000000</td>\n",
              "      <td>37.317298</td>\n",
              "      <td>-122.453704</td>\n",
              "      <td>3.000000</td>\n",
              "      <td>37.317298</td>\n",
              "      <td>-122.453704</td>\n",
              "      <td>11.000000</td>\n",
              "      <td>1878.000000</td>\n",
              "    </tr>\n",
              "    <tr>\n",
              "      <th>25%</th>\n",
              "      <td>325.000000</td>\n",
              "      <td>47.000000</td>\n",
              "      <td>37.770083</td>\n",
              "      <td>-122.412408</td>\n",
              "      <td>44.000000</td>\n",
              "      <td>37.770407</td>\n",
              "      <td>-122.411726</td>\n",
              "      <td>3777.000000</td>\n",
              "      <td>1980.000000</td>\n",
              "    </tr>\n",
              "    <tr>\n",
              "      <th>50%</th>\n",
              "      <td>514.000000</td>\n",
              "      <td>104.000000</td>\n",
              "      <td>37.780760</td>\n",
              "      <td>-122.398285</td>\n",
              "      <td>100.000000</td>\n",
              "      <td>37.781010</td>\n",
              "      <td>-122.398279</td>\n",
              "      <td>4958.000000</td>\n",
              "      <td>1987.000000</td>\n",
              "    </tr>\n",
              "    <tr>\n",
              "      <th>75%</th>\n",
              "      <td>796.000000</td>\n",
              "      <td>239.000000</td>\n",
              "      <td>37.797280</td>\n",
              "      <td>-122.286533</td>\n",
              "      <td>235.000000</td>\n",
              "      <td>37.797320</td>\n",
              "      <td>-122.288045</td>\n",
              "      <td>5502.000000</td>\n",
              "      <td>1992.000000</td>\n",
              "    </tr>\n",
              "    <tr>\n",
              "      <th>max</th>\n",
              "      <td>85444.000000</td>\n",
              "      <td>398.000000</td>\n",
              "      <td>37.880222</td>\n",
              "      <td>-121.874119</td>\n",
              "      <td>398.000000</td>\n",
              "      <td>37.880222</td>\n",
              "      <td>-121.874119</td>\n",
              "      <td>6645.000000</td>\n",
              "      <td>2001.000000</td>\n",
              "    </tr>\n",
              "  </tbody>\n",
              "</table>\n",
              "</div>\n",
              "      <button class=\"colab-df-convert\" onclick=\"convertToInteractive('df-4569ea2e-42df-44d1-9f32-dbc314c8e681')\"\n",
              "              title=\"Convert this dataframe to an interactive table.\"\n",
              "              style=\"display:none;\">\n",
              "        \n",
              "  <svg xmlns=\"http://www.w3.org/2000/svg\" height=\"24px\"viewBox=\"0 0 24 24\"\n",
              "       width=\"24px\">\n",
              "    <path d=\"M0 0h24v24H0V0z\" fill=\"none\"/>\n",
              "    <path d=\"M18.56 5.44l.94 2.06.94-2.06 2.06-.94-2.06-.94-.94-2.06-.94 2.06-2.06.94zm-11 1L8.5 8.5l.94-2.06 2.06-.94-2.06-.94L8.5 2.5l-.94 2.06-2.06.94zm10 10l.94 2.06.94-2.06 2.06-.94-2.06-.94-.94-2.06-.94 2.06-2.06.94z\"/><path d=\"M17.41 7.96l-1.37-1.37c-.4-.4-.92-.59-1.43-.59-.52 0-1.04.2-1.43.59L10.3 9.45l-7.72 7.72c-.78.78-.78 2.05 0 2.83L4 21.41c.39.39.9.59 1.41.59.51 0 1.02-.2 1.41-.59l7.78-7.78 2.81-2.81c.8-.78.8-2.07 0-2.86zM5.41 20L4 18.59l7.72-7.72 1.47 1.35L5.41 20z\"/>\n",
              "  </svg>\n",
              "      </button>\n",
              "      \n",
              "  <style>\n",
              "    .colab-df-container {\n",
              "      display:flex;\n",
              "      flex-wrap:wrap;\n",
              "      gap: 12px;\n",
              "    }\n",
              "\n",
              "    .colab-df-convert {\n",
              "      background-color: #E8F0FE;\n",
              "      border: none;\n",
              "      border-radius: 50%;\n",
              "      cursor: pointer;\n",
              "      display: none;\n",
              "      fill: #1967D2;\n",
              "      height: 32px;\n",
              "      padding: 0 0 0 0;\n",
              "      width: 32px;\n",
              "    }\n",
              "\n",
              "    .colab-df-convert:hover {\n",
              "      background-color: #E2EBFA;\n",
              "      box-shadow: 0px 1px 2px rgba(60, 64, 67, 0.3), 0px 1px 3px 1px rgba(60, 64, 67, 0.15);\n",
              "      fill: #174EA6;\n",
              "    }\n",
              "\n",
              "    [theme=dark] .colab-df-convert {\n",
              "      background-color: #3B4455;\n",
              "      fill: #D2E3FC;\n",
              "    }\n",
              "\n",
              "    [theme=dark] .colab-df-convert:hover {\n",
              "      background-color: #434B5C;\n",
              "      box-shadow: 0px 1px 3px 1px rgba(0, 0, 0, 0.15);\n",
              "      filter: drop-shadow(0px 1px 2px rgba(0, 0, 0, 0.3));\n",
              "      fill: #FFFFFF;\n",
              "    }\n",
              "  </style>\n",
              "\n",
              "      <script>\n",
              "        const buttonEl =\n",
              "          document.querySelector('#df-4569ea2e-42df-44d1-9f32-dbc314c8e681 button.colab-df-convert');\n",
              "        buttonEl.style.display =\n",
              "          google.colab.kernel.accessAllowed ? 'block' : 'none';\n",
              "\n",
              "        async function convertToInteractive(key) {\n",
              "          const element = document.querySelector('#df-4569ea2e-42df-44d1-9f32-dbc314c8e681');\n",
              "          const dataTable =\n",
              "            await google.colab.kernel.invokeFunction('convertToInteractive',\n",
              "                                                     [key], {});\n",
              "          if (!dataTable) return;\n",
              "\n",
              "          const docLinkHtml = 'Like what you see? Visit the ' +\n",
              "            '<a target=\"_blank\" href=https://colab.research.google.com/notebooks/data_table.ipynb>data table notebook</a>'\n",
              "            + ' to learn more about interactive tables.';\n",
              "          element.innerHTML = '';\n",
              "          dataTable['output_type'] = 'display_data';\n",
              "          await google.colab.output.renderOutput(dataTable, element);\n",
              "          const docLink = document.createElement('div');\n",
              "          docLink.innerHTML = docLinkHtml;\n",
              "          element.appendChild(docLink);\n",
              "        }\n",
              "      </script>\n",
              "    </div>\n",
              "  </div>\n",
              "  "
            ]
          },
          "metadata": {},
          "execution_count": 12
        }
      ]
    },
    {
      "cell_type": "code",
      "source": [
        "df.bike_share_for_all_trip.value_counts()"
      ],
      "metadata": {
        "colab": {
          "base_uri": "https://localhost:8080/"
        },
        "id": "fXC9KiNXBax1",
        "outputId": "2b2f3982-72b6-4559-ae18-52729ad9d985"
      },
      "execution_count": 13,
      "outputs": [
        {
          "output_type": "execute_result",
          "data": {
            "text/plain": [
              "No     166053\n",
              "Yes     17359\n",
              "Name: bike_share_for_all_trip, dtype: int64"
            ]
          },
          "metadata": {},
          "execution_count": 13
        }
      ]
    },
    {
      "cell_type": "code",
      "source": [
        "df.start_station_name.value_counts()"
      ],
      "metadata": {
        "colab": {
          "base_uri": "https://localhost:8080/"
        },
        "id": "ctzOTbyqCUBA",
        "outputId": "ff021cf6-bc97-4582-81f4-7f188739a8ec"
      },
      "execution_count": 14,
      "outputs": [
        {
          "output_type": "execute_result",
          "data": {
            "text/plain": [
              "Market St at 10th St                                         3904\n",
              "San Francisco Caltrain Station 2  (Townsend St at 4th St)    3544\n",
              "Berry St at 4th St                                           3052\n",
              "Montgomery St BART Station (Market St at 2nd St)             2895\n",
              "Powell St BART Station (Market St at 4th St)                 2760\n",
              "                                                             ... \n",
              "Willow St at Vine St                                            9\n",
              "Parker Ave at McAllister St                                     7\n",
              "Palm St at Willow St                                            4\n",
              "21st Ave at International Blvd                                  4\n",
              "16th St Depot                                                   2\n",
              "Name: start_station_name, Length: 329, dtype: int64"
            ]
          },
          "metadata": {},
          "execution_count": 14
        }
      ]
    },
    {
      "cell_type": "markdown",
      "source": [
        "## **Data Assessment**\n",
        "\n",
        "**Quality Issues**\n",
        "\n",
        "\n",
        "\n",
        "*  `start_time` and `end_time`, have the data type \"object\". They should be converted to \"datetime\" format\n",
        "*  `start_station_id` and `end_stattion_id` should be changed from \"float\" and \"int\" datatype to \"str\" data type\n",
        "*  `bike_id` should be changed from \"int\" datatype to \"str\" datatype\n",
        "* `member_birth_year` should be converted from float to int\n",
        "*   create \"rider_age\" column, and drop `member_birth_year`\n",
        "*  drop null values\n",
        "*   `user_type` data type should be \"categorical\"\n",
        "*   `member_gender` data type should be \"categorical\"\n",
        "* convert `duration_sec` to min, and rename as duration_min\n",
        "* create rider_age column and drop riders older than 80\n",
        "* drop `member_birth_year`\n",
        "\n",
        "\n",
        "\n",
        "\n",
        "\n"
      ],
      "metadata": {
        "id": "CPIXmFVZy9V9"
      }
    },
    {
      "cell_type": "markdown",
      "source": [
        "## **Data Cleaning**"
      ],
      "metadata": {
        "id": "ktfJp9q3_B37"
      }
    },
    {
      "cell_type": "code",
      "source": [
        "ride_df = df.copy()"
      ],
      "metadata": {
        "id": "vsH4fentGTUN"
      },
      "execution_count": 15,
      "outputs": []
    },
    {
      "cell_type": "markdown",
      "source": [
        "**1. Define**\n",
        "\n",
        "Use pd.to_datetime and convert `start_time` from object to datetime format"
      ],
      "metadata": {
        "id": "zGTD6sB-FZUR"
      }
    },
    {
      "cell_type": "markdown",
      "source": [
        "**Code**"
      ],
      "metadata": {
        "id": "u1j6fRCcGIeh"
      }
    },
    {
      "cell_type": "code",
      "source": [
        "ride_df['start_time'] = pd.to_datetime(ride_df['start_time'])\n",
        "ride_df['end_time'] = pd.to_datetime(ride_df['end_time'])"
      ],
      "metadata": {
        "id": "__d1NumeGCqn"
      },
      "execution_count": 16,
      "outputs": []
    },
    {
      "cell_type": "markdown",
      "source": [
        "**Test**"
      ],
      "metadata": {
        "id": "DmbsVKGCHDLv"
      }
    },
    {
      "cell_type": "code",
      "source": [
        "ride_df[\"start_time\"]"
      ],
      "metadata": {
        "colab": {
          "base_uri": "https://localhost:8080/"
        },
        "id": "t3nRGwQnLHmF",
        "outputId": "b3abbc7f-b6db-4597-9fef-800917b73715"
      },
      "execution_count": 17,
      "outputs": [
        {
          "output_type": "execute_result",
          "data": {
            "text/plain": [
              "0        2019-02-28 17:32:10.145\n",
              "1        2019-02-28 18:53:21.789\n",
              "2        2019-02-28 12:13:13.218\n",
              "3        2019-02-28 17:54:26.010\n",
              "4        2019-02-28 23:54:18.549\n",
              "                   ...          \n",
              "183407   2019-02-01 00:04:49.724\n",
              "183408   2019-02-01 00:05:34.744\n",
              "183409   2019-02-01 00:06:05.549\n",
              "183410   2019-02-01 00:05:34.360\n",
              "183411   2019-02-01 00:00:20.636\n",
              "Name: start_time, Length: 183412, dtype: datetime64[ns]"
            ]
          },
          "metadata": {},
          "execution_count": 17
        }
      ]
    },
    {
      "cell_type": "code",
      "source": [
        "ride_df[\"end_time\"]"
      ],
      "metadata": {
        "colab": {
          "base_uri": "https://localhost:8080/"
        },
        "id": "ca-_Cm1PMqJ8",
        "outputId": "0141db3f-d0ea-4d44-ee2d-f9678ba1cd91"
      },
      "execution_count": 18,
      "outputs": [
        {
          "output_type": "execute_result",
          "data": {
            "text/plain": [
              "0        2019-03-01 08:01:55.975\n",
              "1        2019-03-01 06:42:03.056\n",
              "2        2019-03-01 05:24:08.146\n",
              "3        2019-03-01 04:02:36.842\n",
              "4        2019-03-01 00:20:44.074\n",
              "                   ...          \n",
              "183407   2019-02-01 00:12:50.034\n",
              "183408   2019-02-01 00:10:48.502\n",
              "183409   2019-02-01 00:08:27.220\n",
              "183410   2019-02-01 00:07:54.287\n",
              "183411   2019-02-01 00:04:52.058\n",
              "Name: end_time, Length: 183412, dtype: datetime64[ns]"
            ]
          },
          "metadata": {},
          "execution_count": 18
        }
      ]
    },
    {
      "cell_type": "markdown",
      "source": [
        "**2. Define**\n",
        "\n",
        "Use the astype() method and convert int and float objects to str\n"
      ],
      "metadata": {
        "id": "hgMPhZdqHc2K"
      }
    },
    {
      "cell_type": "markdown",
      "source": [
        "**Code**"
      ],
      "metadata": {
        "id": "CMG-NEbXKpQF"
      }
    },
    {
      "cell_type": "code",
      "source": [
        "ride_df[\"start_station_id\"] = ride_df[\"start_station_id\"].astype(str)\n",
        "ride_df[\"end_station_id\"] = ride_df[\"end_station_id\"].astype(str)\n",
        "ride_df[\"bike_id\"] = ride_df[\"bike_id\"].astype(str)"
      ],
      "metadata": {
        "id": "leC6wH4QJA2b"
      },
      "execution_count": 19,
      "outputs": []
    },
    {
      "cell_type": "markdown",
      "source": [
        "**Test**"
      ],
      "metadata": {
        "id": "Jf6WppUoKwb7"
      }
    },
    {
      "cell_type": "code",
      "source": [
        "ride_df.info()"
      ],
      "metadata": {
        "colab": {
          "base_uri": "https://localhost:8080/"
        },
        "id": "mUve7eCFK0BL",
        "outputId": "6fa2eece-20d0-46fa-acd0-7233ba1dd2e3"
      },
      "execution_count": 20,
      "outputs": [
        {
          "output_type": "stream",
          "name": "stdout",
          "text": [
            "<class 'pandas.core.frame.DataFrame'>\n",
            "RangeIndex: 183412 entries, 0 to 183411\n",
            "Data columns (total 16 columns):\n",
            " #   Column                   Non-Null Count   Dtype         \n",
            "---  ------                   --------------   -----         \n",
            " 0   duration_sec             183412 non-null  int64         \n",
            " 1   start_time               183412 non-null  datetime64[ns]\n",
            " 2   end_time                 183412 non-null  datetime64[ns]\n",
            " 3   start_station_id         183412 non-null  object        \n",
            " 4   start_station_name       183215 non-null  object        \n",
            " 5   start_station_latitude   183412 non-null  float64       \n",
            " 6   start_station_longitude  183412 non-null  float64       \n",
            " 7   end_station_id           183412 non-null  object        \n",
            " 8   end_station_name         183215 non-null  object        \n",
            " 9   end_station_latitude     183412 non-null  float64       \n",
            " 10  end_station_longitude    183412 non-null  float64       \n",
            " 11  bike_id                  183412 non-null  object        \n",
            " 12  user_type                183412 non-null  object        \n",
            " 13  member_birth_year        175147 non-null  float64       \n",
            " 14  member_gender            175147 non-null  object        \n",
            " 15  bike_share_for_all_trip  183412 non-null  object        \n",
            "dtypes: datetime64[ns](2), float64(5), int64(1), object(8)\n",
            "memory usage: 22.4+ MB\n"
          ]
        }
      ]
    },
    {
      "cell_type": "markdown",
      "source": [
        "**3. Define**\n",
        "\n",
        "Drop null values with the dropna() method"
      ],
      "metadata": {
        "id": "oPY_coNCT2E5"
      }
    },
    {
      "cell_type": "markdown",
      "source": [
        "**Code**"
      ],
      "metadata": {
        "id": "zswET18EUCPx"
      }
    },
    {
      "cell_type": "code",
      "source": [
        "ride_df.dropna(axis = 0, inplace=True)"
      ],
      "metadata": {
        "id": "Y6wNOekxSkUz"
      },
      "execution_count": 21,
      "outputs": []
    },
    {
      "cell_type": "markdown",
      "source": [
        "**Test**"
      ],
      "metadata": {
        "id": "ZVBZNDxjUH0d"
      }
    },
    {
      "cell_type": "code",
      "source": [
        "ride_df.isnull().sum()"
      ],
      "metadata": {
        "colab": {
          "base_uri": "https://localhost:8080/"
        },
        "id": "c_r6OyFbS2k9",
        "outputId": "e0eb6896-e7e0-4d8f-909c-0bd473453c6a"
      },
      "execution_count": 22,
      "outputs": [
        {
          "output_type": "execute_result",
          "data": {
            "text/plain": [
              "duration_sec               0\n",
              "start_time                 0\n",
              "end_time                   0\n",
              "start_station_id           0\n",
              "start_station_name         0\n",
              "start_station_latitude     0\n",
              "start_station_longitude    0\n",
              "end_station_id             0\n",
              "end_station_name           0\n",
              "end_station_latitude       0\n",
              "end_station_longitude      0\n",
              "bike_id                    0\n",
              "user_type                  0\n",
              "member_birth_year          0\n",
              "member_gender              0\n",
              "bike_share_for_all_trip    0\n",
              "dtype: int64"
            ]
          },
          "metadata": {},
          "execution_count": 22
        }
      ]
    },
    {
      "cell_type": "markdown",
      "source": [
        "**4. Define**\n",
        "\n",
        "Use the .astype() method and convert from float to *int*"
      ],
      "metadata": {
        "id": "rWawpKIKPNtk"
      }
    },
    {
      "cell_type": "markdown",
      "source": [
        "**Code**"
      ],
      "metadata": {
        "id": "2xETRNhaPfgQ"
      }
    },
    {
      "cell_type": "code",
      "source": [
        "ride_df[\"member_birth_year\"] = ride_df[\"member_birth_year\"].astype(int)"
      ],
      "metadata": {
        "id": "iOlj8sFLTj_H"
      },
      "execution_count": 23,
      "outputs": []
    },
    {
      "cell_type": "markdown",
      "source": [
        "**Test**"
      ],
      "metadata": {
        "id": "buJ-frWERPs0"
      }
    },
    {
      "cell_type": "code",
      "source": [
        "ride_df[\"member_birth_year\"]"
      ],
      "metadata": {
        "colab": {
          "base_uri": "https://localhost:8080/"
        },
        "id": "nZ2IDubHRPPM",
        "outputId": "32a07cc3-30fa-4c3f-8c98-2feb2e685365"
      },
      "execution_count": 24,
      "outputs": [
        {
          "output_type": "execute_result",
          "data": {
            "text/plain": [
              "0         1984\n",
              "2         1972\n",
              "3         1989\n",
              "4         1974\n",
              "5         1959\n",
              "          ... \n",
              "183407    1996\n",
              "183408    1984\n",
              "183409    1990\n",
              "183410    1988\n",
              "183411    1989\n",
              "Name: member_birth_year, Length: 174952, dtype: int64"
            ]
          },
          "metadata": {},
          "execution_count": 24
        }
      ]
    },
    {
      "cell_type": "markdown",
      "source": [
        "**5. Define**\n",
        "\n",
        "Create a new column for rider age by subtracting the difference between the `member_birth_year` and the year 2019.\n",
        "\n",
        "Drop the `member_birth_year` column"
      ],
      "metadata": {
        "id": "UAOlG5oomQaz"
      }
    },
    {
      "cell_type": "markdown",
      "source": [
        "**Code**"
      ],
      "metadata": {
        "id": "1blzbHqPoQ8u"
      }
    },
    {
      "cell_type": "code",
      "source": [
        "ride_df[\"rider_age\"] = 2019 - ride_df[\"member_birth_year\"]\n",
        "ride_df.drop(ride_df[(ride_df[\"rider_age\"] > 80 )].index, inplace = True)\n",
        "ride_df.drop(columns = \"member_birth_year\", inplace = True)"
      ],
      "metadata": {
        "id": "3UkAi-lBlcvu"
      },
      "execution_count": 25,
      "outputs": []
    },
    {
      "cell_type": "markdown",
      "source": [
        "**Test**"
      ],
      "metadata": {
        "id": "G4quiD-2molZ"
      }
    },
    {
      "cell_type": "code",
      "source": [
        "ride_df.info()"
      ],
      "metadata": {
        "colab": {
          "base_uri": "https://localhost:8080/"
        },
        "id": "t2o_4p7Vmssa",
        "outputId": "b7ce06c7-aa35-4744-f255-15e913c2a1e3"
      },
      "execution_count": 26,
      "outputs": [
        {
          "output_type": "stream",
          "name": "stdout",
          "text": [
            "<class 'pandas.core.frame.DataFrame'>\n",
            "Int64Index: 174760 entries, 0 to 183411\n",
            "Data columns (total 16 columns):\n",
            " #   Column                   Non-Null Count   Dtype         \n",
            "---  ------                   --------------   -----         \n",
            " 0   duration_sec             174760 non-null  int64         \n",
            " 1   start_time               174760 non-null  datetime64[ns]\n",
            " 2   end_time                 174760 non-null  datetime64[ns]\n",
            " 3   start_station_id         174760 non-null  object        \n",
            " 4   start_station_name       174760 non-null  object        \n",
            " 5   start_station_latitude   174760 non-null  float64       \n",
            " 6   start_station_longitude  174760 non-null  float64       \n",
            " 7   end_station_id           174760 non-null  object        \n",
            " 8   end_station_name         174760 non-null  object        \n",
            " 9   end_station_latitude     174760 non-null  float64       \n",
            " 10  end_station_longitude    174760 non-null  float64       \n",
            " 11  bike_id                  174760 non-null  object        \n",
            " 12  user_type                174760 non-null  object        \n",
            " 13  member_gender            174760 non-null  object        \n",
            " 14  bike_share_for_all_trip  174760 non-null  object        \n",
            " 15  rider_age                174760 non-null  int64         \n",
            "dtypes: datetime64[ns](2), float64(4), int64(2), object(8)\n",
            "memory usage: 22.7+ MB\n"
          ]
        }
      ]
    },
    {
      "cell_type": "markdown",
      "source": [
        "**6. Define**\n",
        "\n",
        "Create `start_time_of_day` and `week` columns from the `start_time`. \n",
        "\n",
        "1.   Start by creating a column for `start_day`\n",
        "2.   Then create a column for `start_hour`\n",
        "3.   Drop `start_hour` column\n",
        "\n"
      ],
      "metadata": {
        "id": "kwl5YXmkqDMa"
      }
    },
    {
      "cell_type": "markdown",
      "source": [
        "**Code**"
      ],
      "metadata": {
        "id": "ok7-SFQEtVOa"
      }
    },
    {
      "cell_type": "code",
      "source": [
        "ride_df[\"start_day\"] = ride_df['start_time'].dt.day\n",
        "ride_df[\"start_hour\"] = ride_df[\"start_time\"].dt.hour"
      ],
      "metadata": {
        "id": "JAONKPUvwSyI"
      },
      "execution_count": 27,
      "outputs": []
    },
    {
      "cell_type": "code",
      "source": [
        "time_bin_edges =[-1, 6, 11, 16, 20, 23]\n",
        "time_bin_names =[\"early morning\", \"morning\", \"afternoon\", \"evening\", \"night\"]\n",
        "ride_df[\"start_time_of_day\"] = pd.cut(ride_df[\"start_hour\"], time_bin_edges, labels = time_bin_names)"
      ],
      "metadata": {
        "id": "5VnXFgyt7f92"
      },
      "execution_count": 28,
      "outputs": []
    },
    {
      "cell_type": "code",
      "source": [
        "wk_bin_edges =[0, 8, 15, 22, 28]\n",
        "wk_bin_names =[\"week 1\", \"week 2\", \"week 3\", \"week 4\"]\n",
        "ride_df[\"week\"] = pd.cut(ride_df[\"start_day\"], wk_bin_edges, labels = wk_bin_names)"
      ],
      "metadata": {
        "id": "pQSd8IMxlSbb"
      },
      "execution_count": 29,
      "outputs": []
    },
    {
      "cell_type": "markdown",
      "source": [
        "**Test**"
      ],
      "metadata": {
        "id": "vL-kt20Xtbij"
      }
    },
    {
      "cell_type": "code",
      "source": [
        "ride_df.head()"
      ],
      "metadata": {
        "colab": {
          "base_uri": "https://localhost:8080/",
          "height": 392
        },
        "id": "GV-DoGy5ddPF",
        "outputId": "afac5fb0-cf88-4409-b0d2-1dfa9d6b6a04"
      },
      "execution_count": 30,
      "outputs": [
        {
          "output_type": "execute_result",
          "data": {
            "text/plain": [
              "   duration_sec              start_time                end_time  \\\n",
              "0         52185 2019-02-28 17:32:10.145 2019-03-01 08:01:55.975   \n",
              "2         61854 2019-02-28 12:13:13.218 2019-03-01 05:24:08.146   \n",
              "3         36490 2019-02-28 17:54:26.010 2019-03-01 04:02:36.842   \n",
              "4          1585 2019-02-28 23:54:18.549 2019-03-01 00:20:44.074   \n",
              "5          1793 2019-02-28 23:49:58.632 2019-03-01 00:19:51.760   \n",
              "\n",
              "  start_station_id                                start_station_name  \\\n",
              "0             21.0  Montgomery St BART Station (Market St at 2nd St)   \n",
              "2             86.0                           Market St at Dolores St   \n",
              "3            375.0                           Grove St at Masonic Ave   \n",
              "4              7.0                               Frank H Ogawa Plaza   \n",
              "5             93.0                      4th St at Mission Bay Blvd S   \n",
              "\n",
              "   start_station_latitude  start_station_longitude end_station_id  \\\n",
              "0               37.789625              -122.400811           13.0   \n",
              "2               37.769305              -122.426826            3.0   \n",
              "3               37.774836              -122.446546           70.0   \n",
              "4               37.804562              -122.271738          222.0   \n",
              "5               37.770407              -122.391198          323.0   \n",
              "\n",
              "                               end_station_name  end_station_latitude  \\\n",
              "0                Commercial St at Montgomery St             37.794231   \n",
              "2  Powell St BART Station (Market St at 4th St)             37.786375   \n",
              "3                        Central Ave at Fell St             37.773311   \n",
              "4                         10th Ave at E 15th St             37.792714   \n",
              "5                            Broadway at Kearny             37.798014   \n",
              "\n",
              "   end_station_longitude bike_id   user_type member_gender  \\\n",
              "0            -122.402923    4902    Customer          Male   \n",
              "2            -122.404904    5905    Customer          Male   \n",
              "3            -122.444293    6638  Subscriber         Other   \n",
              "4            -122.248780    4898  Subscriber          Male   \n",
              "5            -122.405950    5200  Subscriber          Male   \n",
              "\n",
              "  bike_share_for_all_trip  rider_age  start_day  start_hour start_time_of_day  \\\n",
              "0                      No         35         28          17           evening   \n",
              "2                      No         47         28          12         afternoon   \n",
              "3                      No         30         28          17           evening   \n",
              "4                     Yes         45         28          23             night   \n",
              "5                      No         60         28          23             night   \n",
              "\n",
              "     week  \n",
              "0  week 4  \n",
              "2  week 4  \n",
              "3  week 4  \n",
              "4  week 4  \n",
              "5  week 4  "
            ],
            "text/html": [
              "\n",
              "  <div id=\"df-09c2379c-76f1-40b1-a062-b740f43cfc5b\">\n",
              "    <div class=\"colab-df-container\">\n",
              "      <div>\n",
              "<style scoped>\n",
              "    .dataframe tbody tr th:only-of-type {\n",
              "        vertical-align: middle;\n",
              "    }\n",
              "\n",
              "    .dataframe tbody tr th {\n",
              "        vertical-align: top;\n",
              "    }\n",
              "\n",
              "    .dataframe thead th {\n",
              "        text-align: right;\n",
              "    }\n",
              "</style>\n",
              "<table border=\"1\" class=\"dataframe\">\n",
              "  <thead>\n",
              "    <tr style=\"text-align: right;\">\n",
              "      <th></th>\n",
              "      <th>duration_sec</th>\n",
              "      <th>start_time</th>\n",
              "      <th>end_time</th>\n",
              "      <th>start_station_id</th>\n",
              "      <th>start_station_name</th>\n",
              "      <th>start_station_latitude</th>\n",
              "      <th>start_station_longitude</th>\n",
              "      <th>end_station_id</th>\n",
              "      <th>end_station_name</th>\n",
              "      <th>end_station_latitude</th>\n",
              "      <th>end_station_longitude</th>\n",
              "      <th>bike_id</th>\n",
              "      <th>user_type</th>\n",
              "      <th>member_gender</th>\n",
              "      <th>bike_share_for_all_trip</th>\n",
              "      <th>rider_age</th>\n",
              "      <th>start_day</th>\n",
              "      <th>start_hour</th>\n",
              "      <th>start_time_of_day</th>\n",
              "      <th>week</th>\n",
              "    </tr>\n",
              "  </thead>\n",
              "  <tbody>\n",
              "    <tr>\n",
              "      <th>0</th>\n",
              "      <td>52185</td>\n",
              "      <td>2019-02-28 17:32:10.145</td>\n",
              "      <td>2019-03-01 08:01:55.975</td>\n",
              "      <td>21.0</td>\n",
              "      <td>Montgomery St BART Station (Market St at 2nd St)</td>\n",
              "      <td>37.789625</td>\n",
              "      <td>-122.400811</td>\n",
              "      <td>13.0</td>\n",
              "      <td>Commercial St at Montgomery St</td>\n",
              "      <td>37.794231</td>\n",
              "      <td>-122.402923</td>\n",
              "      <td>4902</td>\n",
              "      <td>Customer</td>\n",
              "      <td>Male</td>\n",
              "      <td>No</td>\n",
              "      <td>35</td>\n",
              "      <td>28</td>\n",
              "      <td>17</td>\n",
              "      <td>evening</td>\n",
              "      <td>week 4</td>\n",
              "    </tr>\n",
              "    <tr>\n",
              "      <th>2</th>\n",
              "      <td>61854</td>\n",
              "      <td>2019-02-28 12:13:13.218</td>\n",
              "      <td>2019-03-01 05:24:08.146</td>\n",
              "      <td>86.0</td>\n",
              "      <td>Market St at Dolores St</td>\n",
              "      <td>37.769305</td>\n",
              "      <td>-122.426826</td>\n",
              "      <td>3.0</td>\n",
              "      <td>Powell St BART Station (Market St at 4th St)</td>\n",
              "      <td>37.786375</td>\n",
              "      <td>-122.404904</td>\n",
              "      <td>5905</td>\n",
              "      <td>Customer</td>\n",
              "      <td>Male</td>\n",
              "      <td>No</td>\n",
              "      <td>47</td>\n",
              "      <td>28</td>\n",
              "      <td>12</td>\n",
              "      <td>afternoon</td>\n",
              "      <td>week 4</td>\n",
              "    </tr>\n",
              "    <tr>\n",
              "      <th>3</th>\n",
              "      <td>36490</td>\n",
              "      <td>2019-02-28 17:54:26.010</td>\n",
              "      <td>2019-03-01 04:02:36.842</td>\n",
              "      <td>375.0</td>\n",
              "      <td>Grove St at Masonic Ave</td>\n",
              "      <td>37.774836</td>\n",
              "      <td>-122.446546</td>\n",
              "      <td>70.0</td>\n",
              "      <td>Central Ave at Fell St</td>\n",
              "      <td>37.773311</td>\n",
              "      <td>-122.444293</td>\n",
              "      <td>6638</td>\n",
              "      <td>Subscriber</td>\n",
              "      <td>Other</td>\n",
              "      <td>No</td>\n",
              "      <td>30</td>\n",
              "      <td>28</td>\n",
              "      <td>17</td>\n",
              "      <td>evening</td>\n",
              "      <td>week 4</td>\n",
              "    </tr>\n",
              "    <tr>\n",
              "      <th>4</th>\n",
              "      <td>1585</td>\n",
              "      <td>2019-02-28 23:54:18.549</td>\n",
              "      <td>2019-03-01 00:20:44.074</td>\n",
              "      <td>7.0</td>\n",
              "      <td>Frank H Ogawa Plaza</td>\n",
              "      <td>37.804562</td>\n",
              "      <td>-122.271738</td>\n",
              "      <td>222.0</td>\n",
              "      <td>10th Ave at E 15th St</td>\n",
              "      <td>37.792714</td>\n",
              "      <td>-122.248780</td>\n",
              "      <td>4898</td>\n",
              "      <td>Subscriber</td>\n",
              "      <td>Male</td>\n",
              "      <td>Yes</td>\n",
              "      <td>45</td>\n",
              "      <td>28</td>\n",
              "      <td>23</td>\n",
              "      <td>night</td>\n",
              "      <td>week 4</td>\n",
              "    </tr>\n",
              "    <tr>\n",
              "      <th>5</th>\n",
              "      <td>1793</td>\n",
              "      <td>2019-02-28 23:49:58.632</td>\n",
              "      <td>2019-03-01 00:19:51.760</td>\n",
              "      <td>93.0</td>\n",
              "      <td>4th St at Mission Bay Blvd S</td>\n",
              "      <td>37.770407</td>\n",
              "      <td>-122.391198</td>\n",
              "      <td>323.0</td>\n",
              "      <td>Broadway at Kearny</td>\n",
              "      <td>37.798014</td>\n",
              "      <td>-122.405950</td>\n",
              "      <td>5200</td>\n",
              "      <td>Subscriber</td>\n",
              "      <td>Male</td>\n",
              "      <td>No</td>\n",
              "      <td>60</td>\n",
              "      <td>28</td>\n",
              "      <td>23</td>\n",
              "      <td>night</td>\n",
              "      <td>week 4</td>\n",
              "    </tr>\n",
              "  </tbody>\n",
              "</table>\n",
              "</div>\n",
              "      <button class=\"colab-df-convert\" onclick=\"convertToInteractive('df-09c2379c-76f1-40b1-a062-b740f43cfc5b')\"\n",
              "              title=\"Convert this dataframe to an interactive table.\"\n",
              "              style=\"display:none;\">\n",
              "        \n",
              "  <svg xmlns=\"http://www.w3.org/2000/svg\" height=\"24px\"viewBox=\"0 0 24 24\"\n",
              "       width=\"24px\">\n",
              "    <path d=\"M0 0h24v24H0V0z\" fill=\"none\"/>\n",
              "    <path d=\"M18.56 5.44l.94 2.06.94-2.06 2.06-.94-2.06-.94-.94-2.06-.94 2.06-2.06.94zm-11 1L8.5 8.5l.94-2.06 2.06-.94-2.06-.94L8.5 2.5l-.94 2.06-2.06.94zm10 10l.94 2.06.94-2.06 2.06-.94-2.06-.94-.94-2.06-.94 2.06-2.06.94z\"/><path d=\"M17.41 7.96l-1.37-1.37c-.4-.4-.92-.59-1.43-.59-.52 0-1.04.2-1.43.59L10.3 9.45l-7.72 7.72c-.78.78-.78 2.05 0 2.83L4 21.41c.39.39.9.59 1.41.59.51 0 1.02-.2 1.41-.59l7.78-7.78 2.81-2.81c.8-.78.8-2.07 0-2.86zM5.41 20L4 18.59l7.72-7.72 1.47 1.35L5.41 20z\"/>\n",
              "  </svg>\n",
              "      </button>\n",
              "      \n",
              "  <style>\n",
              "    .colab-df-container {\n",
              "      display:flex;\n",
              "      flex-wrap:wrap;\n",
              "      gap: 12px;\n",
              "    }\n",
              "\n",
              "    .colab-df-convert {\n",
              "      background-color: #E8F0FE;\n",
              "      border: none;\n",
              "      border-radius: 50%;\n",
              "      cursor: pointer;\n",
              "      display: none;\n",
              "      fill: #1967D2;\n",
              "      height: 32px;\n",
              "      padding: 0 0 0 0;\n",
              "      width: 32px;\n",
              "    }\n",
              "\n",
              "    .colab-df-convert:hover {\n",
              "      background-color: #E2EBFA;\n",
              "      box-shadow: 0px 1px 2px rgba(60, 64, 67, 0.3), 0px 1px 3px 1px rgba(60, 64, 67, 0.15);\n",
              "      fill: #174EA6;\n",
              "    }\n",
              "\n",
              "    [theme=dark] .colab-df-convert {\n",
              "      background-color: #3B4455;\n",
              "      fill: #D2E3FC;\n",
              "    }\n",
              "\n",
              "    [theme=dark] .colab-df-convert:hover {\n",
              "      background-color: #434B5C;\n",
              "      box-shadow: 0px 1px 3px 1px rgba(0, 0, 0, 0.15);\n",
              "      filter: drop-shadow(0px 1px 2px rgba(0, 0, 0, 0.3));\n",
              "      fill: #FFFFFF;\n",
              "    }\n",
              "  </style>\n",
              "\n",
              "      <script>\n",
              "        const buttonEl =\n",
              "          document.querySelector('#df-09c2379c-76f1-40b1-a062-b740f43cfc5b button.colab-df-convert');\n",
              "        buttonEl.style.display =\n",
              "          google.colab.kernel.accessAllowed ? 'block' : 'none';\n",
              "\n",
              "        async function convertToInteractive(key) {\n",
              "          const element = document.querySelector('#df-09c2379c-76f1-40b1-a062-b740f43cfc5b');\n",
              "          const dataTable =\n",
              "            await google.colab.kernel.invokeFunction('convertToInteractive',\n",
              "                                                     [key], {});\n",
              "          if (!dataTable) return;\n",
              "\n",
              "          const docLinkHtml = 'Like what you see? Visit the ' +\n",
              "            '<a target=\"_blank\" href=https://colab.research.google.com/notebooks/data_table.ipynb>data table notebook</a>'\n",
              "            + ' to learn more about interactive tables.';\n",
              "          element.innerHTML = '';\n",
              "          dataTable['output_type'] = 'display_data';\n",
              "          await google.colab.output.renderOutput(dataTable, element);\n",
              "          const docLink = document.createElement('div');\n",
              "          docLink.innerHTML = docLinkHtml;\n",
              "          element.appendChild(docLink);\n",
              "        }\n",
              "      </script>\n",
              "    </div>\n",
              "  </div>\n",
              "  "
            ]
          },
          "metadata": {},
          "execution_count": 30
        }
      ]
    },
    {
      "cell_type": "markdown",
      "source": [
        "**7. Define**\n",
        "\n",
        "make the `user_type` and `member_gender` columns of type category"
      ],
      "metadata": {
        "id": "n8uFVcXUL2dy"
      }
    },
    {
      "cell_type": "markdown",
      "source": [
        "**Code**"
      ],
      "metadata": {
        "id": "9EzrQheBtpKC"
      }
    },
    {
      "cell_type": "code",
      "source": [
        "user_type = pd.api.types.CategoricalDtype(ordered = True, categories = [\"Customer\", \"Subscriber\"])\n",
        "member_gender = pd.api.types.CategoricalDtype(ordered = True, categories = ['Male', 'Other', 'Female'])\n",
        "\n",
        "ride_df[\"user_type\"] = ride_df[\"user_type\"].astype(user_type)\n",
        "ride_df[\"member_gender\"] = ride_df[\"member_gender\"].astype(member_gender)"
      ],
      "metadata": {
        "id": "bg7gD3SYOfKj"
      },
      "execution_count": 31,
      "outputs": []
    },
    {
      "cell_type": "markdown",
      "source": [
        "**Test**"
      ],
      "metadata": {
        "id": "GZjnKHgSPxhH"
      }
    },
    {
      "cell_type": "code",
      "source": [
        "ride_df.info()"
      ],
      "metadata": {
        "colab": {
          "base_uri": "https://localhost:8080/"
        },
        "id": "el3T1Y5IP0f1",
        "outputId": "bf01bbdd-7905-4f16-a550-d1149341df55"
      },
      "execution_count": 32,
      "outputs": [
        {
          "output_type": "stream",
          "name": "stdout",
          "text": [
            "<class 'pandas.core.frame.DataFrame'>\n",
            "Int64Index: 174760 entries, 0 to 183411\n",
            "Data columns (total 20 columns):\n",
            " #   Column                   Non-Null Count   Dtype         \n",
            "---  ------                   --------------   -----         \n",
            " 0   duration_sec             174760 non-null  int64         \n",
            " 1   start_time               174760 non-null  datetime64[ns]\n",
            " 2   end_time                 174760 non-null  datetime64[ns]\n",
            " 3   start_station_id         174760 non-null  object        \n",
            " 4   start_station_name       174760 non-null  object        \n",
            " 5   start_station_latitude   174760 non-null  float64       \n",
            " 6   start_station_longitude  174760 non-null  float64       \n",
            " 7   end_station_id           174760 non-null  object        \n",
            " 8   end_station_name         174760 non-null  object        \n",
            " 9   end_station_latitude     174760 non-null  float64       \n",
            " 10  end_station_longitude    174760 non-null  float64       \n",
            " 11  bike_id                  174760 non-null  object        \n",
            " 12  user_type                174760 non-null  category      \n",
            " 13  member_gender            174760 non-null  category      \n",
            " 14  bike_share_for_all_trip  174760 non-null  object        \n",
            " 15  rider_age                174760 non-null  int64         \n",
            " 16  start_day                174760 non-null  int64         \n",
            " 17  start_hour               174760 non-null  int64         \n",
            " 18  start_time_of_day        174760 non-null  category      \n",
            " 19  week                     174760 non-null  category      \n",
            "dtypes: category(4), datetime64[ns](2), float64(4), int64(4), object(6)\n",
            "memory usage: 23.3+ MB\n"
          ]
        }
      ]
    },
    {
      "cell_type": "markdown",
      "source": [
        "**8. Define**\n",
        "\n",
        "convert `duration_sec` to min by dividing the values by 60, and rename the column using the rename method"
      ],
      "metadata": {
        "id": "pKBAhEaSRTk8"
      }
    },
    {
      "cell_type": "markdown",
      "source": [
        "**Code**"
      ],
      "metadata": {
        "id": "EdgCTVLDRnux"
      }
    },
    {
      "cell_type": "code",
      "source": [
        "ride_df['duration_sec'] = ride_df['duration_sec']/60\n",
        "ride_df.rename(columns= {\"duration_sec\":\"duration_min\"}, inplace = True )"
      ],
      "metadata": {
        "id": "EITInaUhRrK7"
      },
      "execution_count": 33,
      "outputs": []
    },
    {
      "cell_type": "markdown",
      "source": [
        "**Test**"
      ],
      "metadata": {
        "id": "AgXCXJ-vSFDQ"
      }
    },
    {
      "cell_type": "code",
      "source": [
        "ride_df.head()"
      ],
      "metadata": {
        "colab": {
          "base_uri": "https://localhost:8080/",
          "height": 392
        },
        "id": "Vq3TZTBNSHmX",
        "outputId": "fd97de19-ede3-4a01-cf4a-3b1057fa9a83"
      },
      "execution_count": 34,
      "outputs": [
        {
          "output_type": "execute_result",
          "data": {
            "text/plain": [
              "   duration_min              start_time                end_time  \\\n",
              "0    869.750000 2019-02-28 17:32:10.145 2019-03-01 08:01:55.975   \n",
              "2   1030.900000 2019-02-28 12:13:13.218 2019-03-01 05:24:08.146   \n",
              "3    608.166667 2019-02-28 17:54:26.010 2019-03-01 04:02:36.842   \n",
              "4     26.416667 2019-02-28 23:54:18.549 2019-03-01 00:20:44.074   \n",
              "5     29.883333 2019-02-28 23:49:58.632 2019-03-01 00:19:51.760   \n",
              "\n",
              "  start_station_id                                start_station_name  \\\n",
              "0             21.0  Montgomery St BART Station (Market St at 2nd St)   \n",
              "2             86.0                           Market St at Dolores St   \n",
              "3            375.0                           Grove St at Masonic Ave   \n",
              "4              7.0                               Frank H Ogawa Plaza   \n",
              "5             93.0                      4th St at Mission Bay Blvd S   \n",
              "\n",
              "   start_station_latitude  start_station_longitude end_station_id  \\\n",
              "0               37.789625              -122.400811           13.0   \n",
              "2               37.769305              -122.426826            3.0   \n",
              "3               37.774836              -122.446546           70.0   \n",
              "4               37.804562              -122.271738          222.0   \n",
              "5               37.770407              -122.391198          323.0   \n",
              "\n",
              "                               end_station_name  end_station_latitude  \\\n",
              "0                Commercial St at Montgomery St             37.794231   \n",
              "2  Powell St BART Station (Market St at 4th St)             37.786375   \n",
              "3                        Central Ave at Fell St             37.773311   \n",
              "4                         10th Ave at E 15th St             37.792714   \n",
              "5                            Broadway at Kearny             37.798014   \n",
              "\n",
              "   end_station_longitude bike_id   user_type member_gender  \\\n",
              "0            -122.402923    4902    Customer          Male   \n",
              "2            -122.404904    5905    Customer          Male   \n",
              "3            -122.444293    6638  Subscriber         Other   \n",
              "4            -122.248780    4898  Subscriber          Male   \n",
              "5            -122.405950    5200  Subscriber          Male   \n",
              "\n",
              "  bike_share_for_all_trip  rider_age  start_day  start_hour start_time_of_day  \\\n",
              "0                      No         35         28          17           evening   \n",
              "2                      No         47         28          12         afternoon   \n",
              "3                      No         30         28          17           evening   \n",
              "4                     Yes         45         28          23             night   \n",
              "5                      No         60         28          23             night   \n",
              "\n",
              "     week  \n",
              "0  week 4  \n",
              "2  week 4  \n",
              "3  week 4  \n",
              "4  week 4  \n",
              "5  week 4  "
            ],
            "text/html": [
              "\n",
              "  <div id=\"df-2abc0fdd-a4db-470d-867f-23d28f9f4d45\">\n",
              "    <div class=\"colab-df-container\">\n",
              "      <div>\n",
              "<style scoped>\n",
              "    .dataframe tbody tr th:only-of-type {\n",
              "        vertical-align: middle;\n",
              "    }\n",
              "\n",
              "    .dataframe tbody tr th {\n",
              "        vertical-align: top;\n",
              "    }\n",
              "\n",
              "    .dataframe thead th {\n",
              "        text-align: right;\n",
              "    }\n",
              "</style>\n",
              "<table border=\"1\" class=\"dataframe\">\n",
              "  <thead>\n",
              "    <tr style=\"text-align: right;\">\n",
              "      <th></th>\n",
              "      <th>duration_min</th>\n",
              "      <th>start_time</th>\n",
              "      <th>end_time</th>\n",
              "      <th>start_station_id</th>\n",
              "      <th>start_station_name</th>\n",
              "      <th>start_station_latitude</th>\n",
              "      <th>start_station_longitude</th>\n",
              "      <th>end_station_id</th>\n",
              "      <th>end_station_name</th>\n",
              "      <th>end_station_latitude</th>\n",
              "      <th>end_station_longitude</th>\n",
              "      <th>bike_id</th>\n",
              "      <th>user_type</th>\n",
              "      <th>member_gender</th>\n",
              "      <th>bike_share_for_all_trip</th>\n",
              "      <th>rider_age</th>\n",
              "      <th>start_day</th>\n",
              "      <th>start_hour</th>\n",
              "      <th>start_time_of_day</th>\n",
              "      <th>week</th>\n",
              "    </tr>\n",
              "  </thead>\n",
              "  <tbody>\n",
              "    <tr>\n",
              "      <th>0</th>\n",
              "      <td>869.750000</td>\n",
              "      <td>2019-02-28 17:32:10.145</td>\n",
              "      <td>2019-03-01 08:01:55.975</td>\n",
              "      <td>21.0</td>\n",
              "      <td>Montgomery St BART Station (Market St at 2nd St)</td>\n",
              "      <td>37.789625</td>\n",
              "      <td>-122.400811</td>\n",
              "      <td>13.0</td>\n",
              "      <td>Commercial St at Montgomery St</td>\n",
              "      <td>37.794231</td>\n",
              "      <td>-122.402923</td>\n",
              "      <td>4902</td>\n",
              "      <td>Customer</td>\n",
              "      <td>Male</td>\n",
              "      <td>No</td>\n",
              "      <td>35</td>\n",
              "      <td>28</td>\n",
              "      <td>17</td>\n",
              "      <td>evening</td>\n",
              "      <td>week 4</td>\n",
              "    </tr>\n",
              "    <tr>\n",
              "      <th>2</th>\n",
              "      <td>1030.900000</td>\n",
              "      <td>2019-02-28 12:13:13.218</td>\n",
              "      <td>2019-03-01 05:24:08.146</td>\n",
              "      <td>86.0</td>\n",
              "      <td>Market St at Dolores St</td>\n",
              "      <td>37.769305</td>\n",
              "      <td>-122.426826</td>\n",
              "      <td>3.0</td>\n",
              "      <td>Powell St BART Station (Market St at 4th St)</td>\n",
              "      <td>37.786375</td>\n",
              "      <td>-122.404904</td>\n",
              "      <td>5905</td>\n",
              "      <td>Customer</td>\n",
              "      <td>Male</td>\n",
              "      <td>No</td>\n",
              "      <td>47</td>\n",
              "      <td>28</td>\n",
              "      <td>12</td>\n",
              "      <td>afternoon</td>\n",
              "      <td>week 4</td>\n",
              "    </tr>\n",
              "    <tr>\n",
              "      <th>3</th>\n",
              "      <td>608.166667</td>\n",
              "      <td>2019-02-28 17:54:26.010</td>\n",
              "      <td>2019-03-01 04:02:36.842</td>\n",
              "      <td>375.0</td>\n",
              "      <td>Grove St at Masonic Ave</td>\n",
              "      <td>37.774836</td>\n",
              "      <td>-122.446546</td>\n",
              "      <td>70.0</td>\n",
              "      <td>Central Ave at Fell St</td>\n",
              "      <td>37.773311</td>\n",
              "      <td>-122.444293</td>\n",
              "      <td>6638</td>\n",
              "      <td>Subscriber</td>\n",
              "      <td>Other</td>\n",
              "      <td>No</td>\n",
              "      <td>30</td>\n",
              "      <td>28</td>\n",
              "      <td>17</td>\n",
              "      <td>evening</td>\n",
              "      <td>week 4</td>\n",
              "    </tr>\n",
              "    <tr>\n",
              "      <th>4</th>\n",
              "      <td>26.416667</td>\n",
              "      <td>2019-02-28 23:54:18.549</td>\n",
              "      <td>2019-03-01 00:20:44.074</td>\n",
              "      <td>7.0</td>\n",
              "      <td>Frank H Ogawa Plaza</td>\n",
              "      <td>37.804562</td>\n",
              "      <td>-122.271738</td>\n",
              "      <td>222.0</td>\n",
              "      <td>10th Ave at E 15th St</td>\n",
              "      <td>37.792714</td>\n",
              "      <td>-122.248780</td>\n",
              "      <td>4898</td>\n",
              "      <td>Subscriber</td>\n",
              "      <td>Male</td>\n",
              "      <td>Yes</td>\n",
              "      <td>45</td>\n",
              "      <td>28</td>\n",
              "      <td>23</td>\n",
              "      <td>night</td>\n",
              "      <td>week 4</td>\n",
              "    </tr>\n",
              "    <tr>\n",
              "      <th>5</th>\n",
              "      <td>29.883333</td>\n",
              "      <td>2019-02-28 23:49:58.632</td>\n",
              "      <td>2019-03-01 00:19:51.760</td>\n",
              "      <td>93.0</td>\n",
              "      <td>4th St at Mission Bay Blvd S</td>\n",
              "      <td>37.770407</td>\n",
              "      <td>-122.391198</td>\n",
              "      <td>323.0</td>\n",
              "      <td>Broadway at Kearny</td>\n",
              "      <td>37.798014</td>\n",
              "      <td>-122.405950</td>\n",
              "      <td>5200</td>\n",
              "      <td>Subscriber</td>\n",
              "      <td>Male</td>\n",
              "      <td>No</td>\n",
              "      <td>60</td>\n",
              "      <td>28</td>\n",
              "      <td>23</td>\n",
              "      <td>night</td>\n",
              "      <td>week 4</td>\n",
              "    </tr>\n",
              "  </tbody>\n",
              "</table>\n",
              "</div>\n",
              "      <button class=\"colab-df-convert\" onclick=\"convertToInteractive('df-2abc0fdd-a4db-470d-867f-23d28f9f4d45')\"\n",
              "              title=\"Convert this dataframe to an interactive table.\"\n",
              "              style=\"display:none;\">\n",
              "        \n",
              "  <svg xmlns=\"http://www.w3.org/2000/svg\" height=\"24px\"viewBox=\"0 0 24 24\"\n",
              "       width=\"24px\">\n",
              "    <path d=\"M0 0h24v24H0V0z\" fill=\"none\"/>\n",
              "    <path d=\"M18.56 5.44l.94 2.06.94-2.06 2.06-.94-2.06-.94-.94-2.06-.94 2.06-2.06.94zm-11 1L8.5 8.5l.94-2.06 2.06-.94-2.06-.94L8.5 2.5l-.94 2.06-2.06.94zm10 10l.94 2.06.94-2.06 2.06-.94-2.06-.94-.94-2.06-.94 2.06-2.06.94z\"/><path d=\"M17.41 7.96l-1.37-1.37c-.4-.4-.92-.59-1.43-.59-.52 0-1.04.2-1.43.59L10.3 9.45l-7.72 7.72c-.78.78-.78 2.05 0 2.83L4 21.41c.39.39.9.59 1.41.59.51 0 1.02-.2 1.41-.59l7.78-7.78 2.81-2.81c.8-.78.8-2.07 0-2.86zM5.41 20L4 18.59l7.72-7.72 1.47 1.35L5.41 20z\"/>\n",
              "  </svg>\n",
              "      </button>\n",
              "      \n",
              "  <style>\n",
              "    .colab-df-container {\n",
              "      display:flex;\n",
              "      flex-wrap:wrap;\n",
              "      gap: 12px;\n",
              "    }\n",
              "\n",
              "    .colab-df-convert {\n",
              "      background-color: #E8F0FE;\n",
              "      border: none;\n",
              "      border-radius: 50%;\n",
              "      cursor: pointer;\n",
              "      display: none;\n",
              "      fill: #1967D2;\n",
              "      height: 32px;\n",
              "      padding: 0 0 0 0;\n",
              "      width: 32px;\n",
              "    }\n",
              "\n",
              "    .colab-df-convert:hover {\n",
              "      background-color: #E2EBFA;\n",
              "      box-shadow: 0px 1px 2px rgba(60, 64, 67, 0.3), 0px 1px 3px 1px rgba(60, 64, 67, 0.15);\n",
              "      fill: #174EA6;\n",
              "    }\n",
              "\n",
              "    [theme=dark] .colab-df-convert {\n",
              "      background-color: #3B4455;\n",
              "      fill: #D2E3FC;\n",
              "    }\n",
              "\n",
              "    [theme=dark] .colab-df-convert:hover {\n",
              "      background-color: #434B5C;\n",
              "      box-shadow: 0px 1px 3px 1px rgba(0, 0, 0, 0.15);\n",
              "      filter: drop-shadow(0px 1px 2px rgba(0, 0, 0, 0.3));\n",
              "      fill: #FFFFFF;\n",
              "    }\n",
              "  </style>\n",
              "\n",
              "      <script>\n",
              "        const buttonEl =\n",
              "          document.querySelector('#df-2abc0fdd-a4db-470d-867f-23d28f9f4d45 button.colab-df-convert');\n",
              "        buttonEl.style.display =\n",
              "          google.colab.kernel.accessAllowed ? 'block' : 'none';\n",
              "\n",
              "        async function convertToInteractive(key) {\n",
              "          const element = document.querySelector('#df-2abc0fdd-a4db-470d-867f-23d28f9f4d45');\n",
              "          const dataTable =\n",
              "            await google.colab.kernel.invokeFunction('convertToInteractive',\n",
              "                                                     [key], {});\n",
              "          if (!dataTable) return;\n",
              "\n",
              "          const docLinkHtml = 'Like what you see? Visit the ' +\n",
              "            '<a target=\"_blank\" href=https://colab.research.google.com/notebooks/data_table.ipynb>data table notebook</a>'\n",
              "            + ' to learn more about interactive tables.';\n",
              "          element.innerHTML = '';\n",
              "          dataTable['output_type'] = 'display_data';\n",
              "          await google.colab.output.renderOutput(dataTable, element);\n",
              "          const docLink = document.createElement('div');\n",
              "          docLink.innerHTML = docLinkHtml;\n",
              "          element.appendChild(docLink);\n",
              "        }\n",
              "      </script>\n",
              "    </div>\n",
              "  </div>\n",
              "  "
            ]
          },
          "metadata": {},
          "execution_count": 34
        }
      ]
    },
    {
      "cell_type": "markdown",
      "source": [
        "**9. Define**\n",
        "\n",
        "List and drop all columns that are not of particular interest to this investigation with the drop() method."
      ],
      "metadata": {
        "id": "4okYJsa-ZOM5"
      }
    },
    {
      "cell_type": "markdown",
      "source": [
        "**Code**"
      ],
      "metadata": {
        "id": "1LyasSVkZnHp"
      }
    },
    {
      "cell_type": "code",
      "source": [
        "ride_df.drop(columns = ['start_station_id','start_station_latitude',\n",
        "       'start_station_longitude', 'end_station_id',\n",
        "       'end_station_latitude', 'end_station_longitude', 'bike_id', \n",
        "       'start_hour'], inplace = True)"
      ],
      "metadata": {
        "id": "KFvyR2WtYOL6"
      },
      "execution_count": 35,
      "outputs": []
    },
    {
      "cell_type": "markdown",
      "source": [
        "**Test**"
      ],
      "metadata": {
        "id": "llCMauJHayav"
      }
    },
    {
      "cell_type": "code",
      "source": [
        "ride_df.info()"
      ],
      "metadata": {
        "colab": {
          "base_uri": "https://localhost:8080/"
        },
        "id": "PQNePbNqZtBI",
        "outputId": "643d2996-6571-4b22-85a5-5ae818f9dfa6"
      },
      "execution_count": 36,
      "outputs": [
        {
          "output_type": "stream",
          "name": "stdout",
          "text": [
            "<class 'pandas.core.frame.DataFrame'>\n",
            "Int64Index: 174760 entries, 0 to 183411\n",
            "Data columns (total 12 columns):\n",
            " #   Column                   Non-Null Count   Dtype         \n",
            "---  ------                   --------------   -----         \n",
            " 0   duration_min             174760 non-null  float64       \n",
            " 1   start_time               174760 non-null  datetime64[ns]\n",
            " 2   end_time                 174760 non-null  datetime64[ns]\n",
            " 3   start_station_name       174760 non-null  object        \n",
            " 4   end_station_name         174760 non-null  object        \n",
            " 5   user_type                174760 non-null  category      \n",
            " 6   member_gender            174760 non-null  category      \n",
            " 7   bike_share_for_all_trip  174760 non-null  object        \n",
            " 8   rider_age                174760 non-null  int64         \n",
            " 9   start_day                174760 non-null  int64         \n",
            " 10  start_time_of_day        174760 non-null  category      \n",
            " 11  week                     174760 non-null  category      \n",
            "dtypes: category(4), datetime64[ns](2), float64(1), int64(2), object(3)\n",
            "memory usage: 12.7+ MB\n"
          ]
        }
      ]
    },
    {
      "cell_type": "code",
      "source": [
        "ride_df.duration_min.value_counts()"
      ],
      "metadata": {
        "colab": {
          "base_uri": "https://localhost:8080/"
        },
        "id": "KUhNJD8smHsJ",
        "outputId": "a19610fd-e9d0-4209-f3b0-b1b9440448ff"
      },
      "execution_count": 37,
      "outputs": [
        {
          "output_type": "execute_result",
          "data": {
            "text/plain": [
              "4.533333      308\n",
              "5.383333      284\n",
              "5.083333      282\n",
              "6.150000      280\n",
              "4.566667      276\n",
              "             ... \n",
              "68.000000       1\n",
              "47.116667       1\n",
              "136.650000      1\n",
              "66.550000       1\n",
              "47.033333       1\n",
              "Name: duration_min, Length: 4429, dtype: int64"
            ]
          },
          "metadata": {},
          "execution_count": 37
        }
      ]
    },
    {
      "cell_type": "markdown",
      "source": [
        "## **Data Storage**"
      ],
      "metadata": {
        "id": "SE2ZFL7BvzWZ"
      }
    },
    {
      "cell_type": "code",
      "source": [
        "ride_df.to_csv(\"fordGoBike_cleaned.csv\", index = False)"
      ],
      "metadata": {
        "id": "UqaP41qNvyl0"
      },
      "execution_count": 38,
      "outputs": []
    },
    {
      "cell_type": "markdown",
      "source": [
        "## **Data Exploration**\n",
        "#### **What is the structure of your dataset?**\n",
        "\n",
        "After cleaning, There are 174,760 riders' information in the dataset with 11 features ('duration_min', 'start_time', 'end_time', 'start_station_name',\n",
        "       'end_station_name', 'user_type', 'member_gender',\n",
        "       'bike_share_for_all_trip', 'rider_age', 'start_day',\n",
        "       'start_time_of_day', 'week').\n",
        "       \n",
        "#### **What features in the dataset do you think will help support your investigation into your feature(s) of interest?**\n",
        "\n",
        "The features listed below are features I believe will aid my investigation into the distribution of weekly rides and rider age\n",
        "\n",
        "*  rider age\n",
        "*  user type\n",
        "*   member gender\n",
        "*   start time of day\n",
        "*   week\n",
        "\n",
        "\n",
        "\n"
      ],
      "metadata": {
        "id": "W0TZ6CVNb6OO"
      }
    },
    {
      "cell_type": "markdown",
      "source": [
        "### **Univariate Exploration**\n",
        "\n",
        "I'll start by looking at the distribution of user type"
      ],
      "metadata": {
        "id": "Q4HVx_QZfX3-"
      }
    },
    {
      "cell_type": "markdown",
      "source": [
        "**distribution of user type**"
      ],
      "metadata": {
        "id": "UBat9ytaRNSN"
      }
    },
    {
      "cell_type": "code",
      "source": [
        "plt.figure(figsize = (5,5))\n",
        "sns.countplot(data = ride_df, x = 'user_type', order = ride_df['user_type'].value_counts().index, color = sns.color_palette()[0]);\n",
        "plt.title('Distribution of Users');"
      ],
      "metadata": {
        "colab": {
          "base_uri": "https://localhost:8080/",
          "height": 350
        },
        "id": "SEwOdRjqc3Nf",
        "outputId": "07870816-45a4-4c6b-eb51-bcf27d256b9c"
      },
      "execution_count": 39,
      "outputs": [
        {
          "output_type": "display_data",
          "data": {
            "text/plain": [
              "<Figure size 360x360 with 1 Axes>"
            ],
            "image/png": "[encoded data removed]"
          },
          "metadata": {
            "needs_background": "light"
          }
        }
      ]
    },
    {
      "cell_type": "markdown",
      "source": [
        "The visalization above shows the distribution of the user type of the Ford GoBike ride sharing app, and it appears that the majority are subscribers."
      ],
      "metadata": {
        "id": "oeWUx66Pw-hD"
      }
    },
    {
      "cell_type": "markdown",
      "source": [
        "**User Age Distribution**"
      ],
      "metadata": {
        "id": "KPP5bgReZwvg"
      }
    },
    {
      "cell_type": "code",
      "source": [
        "plt.figure(figsize=(6,6))\n",
        "plt.hist(ride_df['rider_age'],bins = 15);\n",
        "plt.title('User Age Distribution');\n",
        "plt.xlabel('User Age (Years)');\n",
        "plt.ylabel('counts');"
      ],
      "metadata": {
        "colab": {
          "base_uri": "https://localhost:8080/",
          "height": 404
        },
        "id": "CXUp-6ObY_aD",
        "outputId": "ca6fb81f-f85b-4f20-bf62-82d96b8ad786"
      },
      "execution_count": 40,
      "outputs": [
        {
          "output_type": "display_data",
          "data": {
            "text/plain": [
              "<Figure size 432x432 with 1 Axes>"
            ],
            "image/png": "[encoded data removed]"
          },
          "metadata": {
            "needs_background": "light"
          }
        }
      ]
    },
    {
      "cell_type": "markdown",
      "source": [
        "The histogram plot above show that the majority of the users are between 20 and 40 years old"
      ],
      "metadata": {
        "id": "IzMLdRwcZ3ks"
      }
    },
    {
      "cell_type": "markdown",
      "source": [
        "**distribution of travel time**"
      ],
      "metadata": {
        "id": "BcxofxmIRUgU"
      }
    },
    {
      "cell_type": "code",
      "source": [
        "binsize = 10\n",
        "bins = np.arange(0, ride_df['duration_min'].max()+binsize, binsize)\n",
        "\n",
        "plt.figure(figsize=[5, 5])\n",
        "plt.hist(data = ride_df, x = 'duration_min', bins = bins)\n",
        "plt.xlabel('Travel time (mins)')\n",
        "plt.ylabel(\"Count\")\n",
        "plt.title(\"General distribution of travel time\")\n",
        "plt.show()\n"
      ],
      "metadata": {
        "colab": {
          "base_uri": "https://localhost:8080/",
          "height": 350
        },
        "id": "aiXPvRZ1gk1Z",
        "outputId": "4c3062c7-d198-46a8-e684-96dd82ab7b1e"
      },
      "execution_count": 41,
      "outputs": [
        {
          "output_type": "display_data",
          "data": {
            "text/plain": [
              "<Figure size 360x360 with 1 Axes>"
            ],
            "image/png": "[encoded data removed]"
          },
          "metadata": {
            "needs_background": "light"
          }
        }
      ]
    },
    {
      "cell_type": "code",
      "source": [
        "log_binsize = 0.025\n",
        "bins = 10 ** np.arange(0, np.log10(ride_df['duration_min'].max())+log_binsize, log_binsize)\n",
        "\n",
        "plt.figure(figsize=[8, 5])\n",
        "plt.hist(data = ride_df, x = 'duration_min', bins = bins)\n",
        "plt.xscale('log')\n",
        "plt.xticks([1, 10,50,100,200, 500, 1e3], [1, 10, 50,100,200,500,'1k'])\n",
        "plt.xlabel('Travel time (mins)')\n",
        "plt.ylabel(\"Log Count\")\n",
        "plt.title(\"Log distribution of travel time\")\n",
        "plt.show()"
      ],
      "metadata": {
        "colab": {
          "base_uri": "https://localhost:8080/",
          "height": 350
        },
        "id": "KMmCwJeIlTRx",
        "outputId": "64c78f0b-23ac-4104-8de4-916c01d7e500"
      },
      "execution_count": 42,
      "outputs": [
        {
          "output_type": "display_data",
          "data": {
            "text/plain": [
              "<Figure size 576x360 with 1 Axes>"
            ],
            "image/png": "[encoded data removed]"
          },
          "metadata": {
            "needs_background": "light"
          }
        }
      ]
    },
    {
      "cell_type": "markdown",
      "source": [
        "The visualization above showed a long tail distribution when plotted on a normal scale. When the travel duration was plotted on a log scale, the distribution appeared to have a normal distribution, with most of the riders spending upto 10 minutes travelling. From the visualization above, very few riders got to the 100 minute mark or eclisped it."
      ],
      "metadata": {
        "id": "Kg1nqR1ss0CY"
      }
    },
    {
      "cell_type": "markdown",
      "source": [
        "**User Gender Distribution**"
      ],
      "metadata": {
        "id": "9vj8M0GIRbMq"
      }
    },
    {
      "cell_type": "code",
      "source": [
        "fig, ax = plt.subplots(figsize = [5, 5])\n",
        "default_color = sns.color_palette()[0]\n",
        "sns.countplot(data = ride_df, x = 'member_gender', color = default_color, ax = ax)\n",
        "plt.title('User Gender Distribution');\n",
        "plt.show()"
      ],
      "metadata": {
        "colab": {
          "base_uri": "https://localhost:8080/",
          "height": 351
        },
        "id": "YRaZJMj3ytlx",
        "outputId": "48153722-6bb4-4062-fec1-022ca64c4a70"
      },
      "execution_count": 43,
      "outputs": [
        {
          "output_type": "display_data",
          "data": {
            "text/plain": [
              "<Figure size 360x360 with 1 Axes>"
            ],
            "image/png": "[encoded data removed]"
          },
          "metadata": {
            "needs_background": "light"
          }
        }
      ]
    },
    {
      "cell_type": "markdown",
      "source": [
        "The bar chart above shows the gender distribution of the users of the Ford GoBike application. The visulization above was created to provide a clearer idea into how interested the different genders are engaged in bike ride sharing. It appears that more males engage in bike riding when compared to the females, and the other gender."
      ],
      "metadata": {
        "id": "bLD1trf70pz8"
      }
    },
    {
      "cell_type": "markdown",
      "source": [
        "#### **Discuss the distribution(s) of your variable(s) of interest. Were there any unusual points? Did you need to perform any transformations?**\n",
        "\n",
        "The duration variable had a lot of data points on lower time values, this required a log transformation to get a clearer sense of what the distribution would look like. By transforming the data, the data appeared to have a normal distribution, and a peak at the 10 minute mark.\n",
        "\n",
        "#### **Of the features you investigated, were there any unusual distributions? Did you perform any operations on the data to tidy, adjust, or change the form of the data? If so, why did you do this?**\n",
        "\n",
        "No unusual distributions were observed"
      ],
      "metadata": {
        "id": "PjUCOsUhO3PM"
      }
    },
    {
      "cell_type": "markdown",
      "source": [
        "### **Bivariate Exploration**"
      ],
      "metadata": {
        "id": "0aggAW5513sx"
      }
    },
    {
      "cell_type": "markdown",
      "source": [
        "**USER GENDER DISTRIBUTION WITH USER TYPE**"
      ],
      "metadata": {
        "id": "CRoRR8cmRsJp"
      }
    },
    {
      "cell_type": "code",
      "source": [
        "plt.figure(figsize = [5, 5]);\n",
        "sns.countplot(data = ride_df, x = 'member_gender', hue = 'user_type');\n",
        "plt.title('USER GENDER DISTRIBUTION WITH USER TYPE');"
      ],
      "metadata": {
        "colab": {
          "base_uri": "https://localhost:8080/",
          "height": 351
        },
        "id": "KSZfePPhz-j2",
        "outputId": "45f2e816-83a1-42cf-cbf8-47cda4a4a810"
      },
      "execution_count": 44,
      "outputs": [
        {
          "output_type": "display_data",
          "data": {
            "text/plain": [
              "<Figure size 360x360 with 1 Axes>"
            ],
            "image/png": "[encoded data removed]"
          },
          "metadata": {
            "needs_background": "light"
          }
        }
      ]
    },
    {
      "cell_type": "markdown",
      "source": [
        "**Rider Age relationship with Travel Time**"
      ],
      "metadata": {
        "id": "ZCJZUfeVRzNo"
      }
    },
    {
      "cell_type": "code",
      "source": [
        "plt.figure(figsize=[10, 5])\n",
        "sns.regplot(data = ride_df, x = 'rider_age', y = 'duration_min', truncate=False, x_jitter=0.3, scatter_kws={'alpha':1/20});\n",
        "plt.ylabel('Travel Time (mins)');\n",
        "plt.title('Rider Age relationship with Travel Time');"
      ],
      "metadata": {
        "colab": {
          "base_uri": "https://localhost:8080/",
          "height": 351
        },
        "id": "aiXbSxSn2vjg",
        "outputId": "1f1839bc-6256-4685-a459-02c1d0e24b15"
      },
      "execution_count": 45,
      "outputs": [
        {
          "output_type": "display_data",
          "data": {
            "text/plain": [
              "<Figure size 720x360 with 1 Axes>"
            ],
            "image/png": "[encoded data removed]"
          },
          "metadata": {
            "needs_background": "light"
          }
        }
      ]
    },
    {
      "cell_type": "code",
      "source": [
        "plt.figure(figsize = [10, 5])\n",
        "sns.regplot(data = ride_df, x = 'rider_age', y = 'duration_min', truncate=False, x_jitter=0.3, scatter_kws={'alpha':1/20});\n",
        "plt.xlabel('Rider Age (years)')\n",
        "plt.yscale('log')\n",
        "plt.yticks([1, 10,50,100,200, 500, 1e3], [1, 10, 50,100,200,500,'1k'])\n",
        "plt.ylabel('Travel Time (mins)')\n",
        "plt.title('Rider Age relationship with Travel Time');\n",
        "plt.show()"
      ],
      "metadata": {
        "colab": {
          "base_uri": "https://localhost:8080/",
          "height": 350
        },
        "id": "AYSmOy62AnjW",
        "outputId": "f93cbc6b-248b-46a7-8973-0ac681c9f36b"
      },
      "execution_count": 46,
      "outputs": [
        {
          "output_type": "display_data",
          "data": {
            "text/plain": [
              "<Figure size 720x360 with 1 Axes>"
            ],
            "image/png": "[encoded data removed]"
          },
          "metadata": {
            "needs_background": "light"
          }
        }
      ]
    },
    {
      "cell_type": "code",
      "source": [
        "num_vrs = [\"rider_age\", \"duration_min\"]\n",
        "\n",
        "plt.figure(figsize = [8, 5])\n",
        "sns.heatmap(ride_df[num_vrs].corr(), annot = True, fmt = '.2f',\n",
        "           cmap = 'vlag_r', center = 0)\n",
        "plt.show()"
      ],
      "metadata": {
        "colab": {
          "base_uri": "https://localhost:8080/",
          "height": 325
        },
        "id": "O2mreHHOnAGR",
        "outputId": "b4a0332a-7b52-4a39-999e-f4513adc5e04"
      },
      "execution_count": 47,
      "outputs": [
        {
          "output_type": "display_data",
          "data": {
            "text/plain": [
              "<Figure size 576x360 with 2 Axes>"
            ],
            "image/png": "[encoded data removed]"
          },
          "metadata": {
            "needs_background": "light"
          }
        }
      ]
    },
    {
      "cell_type": "markdown",
      "source": [
        "There is no correlation between the rider's age and the time of travel."
      ],
      "metadata": {
        "id": "64sVhmdCHpKi"
      }
    },
    {
      "cell_type": "markdown",
      "source": [
        "**Exploring the relationship between Start time of day, Member gender, User Type, and Day of the week**"
      ],
      "metadata": {
        "id": "fFE2cqRfR4va"
      }
    },
    {
      "cell_type": "code",
      "source": [
        "plt.figure(figsize = [10, 10])\n",
        "\n",
        "# subplot 1: Start time of day vs. Week\n",
        "plt.subplot(3, 1, 1)\n",
        "sns.countplot(data = ride_df, x = 'start_time_of_day', hue = 'week', palette = 'Blues')\n",
        "plt.title(\"Exploring the relationship between Start time of day, Member gender, User Type, and Day of the week\")\n",
        "\n",
        "# subplot 2: Start time of day vs. Gender\n",
        "ax = plt.subplot(3, 1, 2)\n",
        "sns.countplot(data = ride_df, x = 'start_time_of_day', hue = 'member_gender', palette = 'Reds')\n",
        "ax.legend(ncol = 2) \n",
        "\n",
        "# subplot 3: Start time of day vs. User Type\n",
        "ax = plt.subplot(3, 1, 3)\n",
        "sns.countplot(data = ride_df, x = 'start_time_of_day', hue = 'user_type', palette = 'Greens')\n",
        "ax.legend(loc = 1, ncol = 2) \n",
        "plt.show()"
      ],
      "metadata": {
        "colab": {
          "base_uri": "https://localhost:8080/",
          "height": 622
        },
        "id": "QHR5ckOX9fY7",
        "outputId": "da341ad3-6813-49d4-9012-268090958c57"
      },
      "execution_count": 48,
      "outputs": [
        {
          "output_type": "display_data",
          "data": {
            "text/plain": [
              "<Figure size 720x720 with 3 Axes>"
            ],
            "image/png": "[encoded data removed]"
          },
          "metadata": {
            "needs_background": "light"
          }
        }
      ]
    },
    {
      "cell_type": "markdown",
      "source": [
        "#### **Talk about some of the relationships you observed in this part of the investigation. How did the feature(s) of interest vary with other features in the dataset?**\n",
        "\n",
        "The peak times for travel is mornings, evenings, and afternoons, in that order. This distribution was also oberved across genders and user types, with a little exception to customers. Customers tend to use the product mostly in the mornings and afternoons, especially in the afternoon"
      ],
      "metadata": {
        "id": "8wsiOYJkWdT5"
      }
    },
    {
      "cell_type": "markdown",
      "source": [
        "### **Multivariate Exploration**"
      ],
      "metadata": {
        "id": "ZGlFwJbrFeBx"
      }
    },
    {
      "cell_type": "markdown",
      "source": [
        "**Relationship between Travel time, Week, and User Type**"
      ],
      "metadata": {
        "id": "or_MgDLQSu9_"
      }
    },
    {
      "cell_type": "code",
      "source": [
        "sns.catplot(x = \"week\", y = \"duration_min\",\n",
        "                col = \"user_type\",\n",
        "                data = ride_df, kind = \"bar\",\n",
        "                height=4, aspect=.9);"
      ],
      "metadata": {
        "colab": {
          "base_uri": "https://localhost:8080/",
          "height": 297
        },
        "id": "zDwt2dWk39w1",
        "outputId": "ceb906e6-a851-40ca-db37-59a1cea17b8e"
      },
      "execution_count": 49,
      "outputs": [
        {
          "output_type": "display_data",
          "data": {
            "text/plain": [
              "<Figure size 518.4x288 with 2 Axes>"
            ],
            "image/png": "[encoded data removed]"
          },
          "metadata": {
            "needs_background": "light"
          }
        }
      ]
    },
    {
      "cell_type": "markdown",
      "source": [
        "**A Plot of the distribution of User Travel Time for each day of the week**"
      ],
      "metadata": {
        "id": "vmJtnYgoS_RX"
      }
    },
    {
      "cell_type": "code",
      "source": [
        "plt.figure(figsize=[10,6])\n",
        "ax = sns.barplot(data = ride_df, x = 'start_day', y = 'duration_min', hue = 'week')\n",
        "ax.legend(loc = 1, framealpha = 1, title = 'Weeks')\n",
        "plt.yscale('log')\n",
        "plt.yticks([1, 10, 50,100,200,500, 1e3], [1, 10, 50,100,200, 500, '1k']);\n",
        "plt.title('A Plot of the distribution of User Travel Time for each day of the week');\n"
      ],
      "metadata": {
        "colab": {
          "base_uri": "https://localhost:8080/",
          "height": 405
        },
        "id": "8wOwqyHxHKcH",
        "outputId": "33eb5091-c5e0-4f09-8086-eeedbcf85bc9"
      },
      "execution_count": 50,
      "outputs": [
        {
          "output_type": "display_data",
          "data": {
            "text/plain": [
              "<Figure size 720x432 with 1 Axes>"
            ],
            "image/png": "[encoded data removed]"
          },
          "metadata": {
            "needs_background": "light"
          }
        }
      ]
    },
    {
      "cell_type": "markdown",
      "source": [
        "**A Plot to Show Relationship Between Rider Age, Travel Time, and Travel Time of Day**"
      ],
      "metadata": {
        "id": "rbyCuhS3NAtm"
      }
    },
    {
      "cell_type": "code",
      "source": [
        "g = sns.FacetGrid(data = ride_df, hue = \"start_time_of_day\", height = 5, palette = \"colorblind\");\n",
        "g.map(plt.scatter, \"rider_age\", \"duration_min\");\n",
        "g.add_legend();"
      ],
      "metadata": {
        "id": "tITdLLiFJ0i-",
        "colab": {
          "base_uri": "https://localhost:8080/",
          "height": 369
        },
        "outputId": "6a771fe2-c3c0-40f2-be04-b09947c803db"
      },
      "execution_count": 56,
      "outputs": [
        {
          "output_type": "display_data",
          "data": {
            "text/plain": [
              "<Figure size 465.875x360 with 1 Axes>"
            ],
            "image/png": "[encoded data removed]"
          },
          "metadata": {
            "needs_background": "light"
          }
        }
      ]
    },
    {
      "cell_type": "markdown",
      "source": [
        "It appears that there is no correlation between travel time, and rider age, though the plot reveal that riders between the ages of 20 and 40 years old tend to spend more time traveling when compared to the other age groups. The plot also reveals that afternoon and evening and night time riders tend to spend more time traveling, compared to early morning and morning time riders"
      ],
      "metadata": {
        "id": "okCdvbR9NcAT"
      }
    },
    {
      "cell_type": "markdown",
      "source": [
        "#### **Talk about some of the relationships you observed in this part of the investigation. Were there features that strengthened each other in terms of looking at your feature(s) of interest?**\n",
        "\n",
        "One month's data is not enough to get a better understanding of user patterns and behaviour"
      ],
      "metadata": {
        "id": "krufgxZVX4Dm"
      }
    }
  ]
}